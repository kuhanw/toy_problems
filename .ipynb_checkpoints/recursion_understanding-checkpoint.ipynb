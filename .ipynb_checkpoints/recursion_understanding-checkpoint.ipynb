{
 "cells": [
  {
   "cell_type": "code",
   "execution_count": 1,
   "metadata": {
    "collapsed": true
   },
   "outputs": [],
   "source": [
    "# A class for constructing nodes in a binary tree\n",
    "class Node: \n",
    "  \n",
    "    # Constructor to create a new node \n",
    "    def __init__(self, data): \n",
    "        self.data = data  \n",
    "        self.left = None\n",
    "        self.right = None  "
   ]
  },
  {
   "cell_type": "code",
   "execution_count": 2,
   "metadata": {
    "collapsed": true
   },
   "outputs": [],
   "source": [
    "#construct a binary tree by iteratively adding nodes\n",
    "root = Node(4) \n",
    "root.left = Node(2) \n",
    "root.right = Node(5) \n",
    "root.right.right = Node(-7) \n",
    "root.left.left = Node(5) \n",
    "root.left.right = Node(3) \n",
    "root.left.right.right = Node(7)\n",
    "root.left.right.left = Node(19)"
   ]
  },
  {
   "cell_type": "code",
   "execution_count": 93,
   "metadata": {
    "collapsed": true
   },
   "outputs": [],
   "source": [
    "def search(node, results, path):\n",
    "    \n",
    "    neighbors = [node.left, node.right]\n",
    "    neighbors = [i for i in neighbors if i is not None]\n",
    "    #print (node.data, neighbors)\n",
    "    if len(neighbors)==0:\n",
    "        \n",
    "        path.append(node.data)\n",
    "        #print(path)\n",
    "        results.append(path.copy()) #<---you must deep copy the array otherwise it will change with the memory\n",
    "        \n",
    "        path.pop()\n",
    "        return None\n",
    "    \n",
    "    path.append(node.data)\n",
    "    #print (path)\n",
    "    for neigh in neighbors:\n",
    "        search(neigh, results, path)        \n",
    "        #print (t)\n",
    "    #this returns every time but we are garbaging all the returns except the top level\n",
    "    return results"
   ]
  },
  {
   "cell_type": "code",
   "execution_count": 94,
   "metadata": {},
   "outputs": [
    {
     "data": {
      "text/plain": [
       "[[4, 2, 5], [4, 2, 3, 19], [4, 2, 3, 7], [4, 2, 3, 5, -7]]"
      ]
     },
     "execution_count": 94,
     "metadata": {},
     "output_type": "execute_result"
    }
   ],
   "source": [
    "search(root, [], [])"
   ]
  },
  {
   "cell_type": "code",
   "execution_count": null,
   "metadata": {
    "collapsed": true
   },
   "outputs": [],
   "source": []
  }
 ],
 "metadata": {
  "kernelspec": {
   "display_name": "Python 3",
   "language": "python",
   "name": "python3"
  },
  "language_info": {
   "codemirror_mode": {
    "name": "ipython",
    "version": 3
   },
   "file_extension": ".py",
   "mimetype": "text/x-python",
   "name": "python",
   "nbconvert_exporter": "python",
   "pygments_lexer": "ipython3",
   "version": "3.6.1"
  }
 },
 "nbformat": 4,
 "nbformat_minor": 2
}
