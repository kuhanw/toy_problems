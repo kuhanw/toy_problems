{
 "cells": [
  {
   "cell_type": "code",
   "execution_count": 18,
   "metadata": {},
   "outputs": [],
   "source": [
    "#iterator baked into the class\n",
    "class Reverse:\n",
    "    \"\"\"Iterator for looping over a sequence backwards.\"\"\"\n",
    "    def __init__(self, data):\n",
    "        self.data = data\n",
    "        self.index = len(data)\n",
    "\n",
    "    def __iter__(self):\n",
    "        return self\n",
    "\n",
    "    def __next__(self):\n",
    "        if self.index == 0:\n",
    "            raise StopIteration\n",
    "        self.index = self.index - 1\n",
    "        return self.data[self.index]"
   ]
  },
  {
   "cell_type": "code",
   "execution_count": 19,
   "metadata": {},
   "outputs": [],
   "source": [
    "t = Reverse('whole')"
   ]
  },
  {
   "cell_type": "code",
   "execution_count": 20,
   "metadata": {},
   "outputs": [
    {
     "name": "stdout",
     "output_type": "stream",
     "text": [
      "e\n",
      "l\n",
      "o\n",
      "h\n",
      "w\n"
     ]
    }
   ],
   "source": [
    "for i in t:\n",
    "    print(i)"
   ]
  },
  {
   "cell_type": "code",
   "execution_count": 10,
   "metadata": {},
   "outputs": [],
   "source": [
    "#Class inheiritance\n",
    "\n",
    "class Rectangle():\n",
    "    def __init__(self):\n",
    "        self.sideA = None\n",
    "        self.sideB = None\n",
    "        \n",
    "    def CalculateArea(self):\n",
    "        return self.sideA * self.sideB\n",
    "\n",
    "class Square(Rectangle):\n",
    "    def __init__(self, sideLength):\n",
    "        self.sideA = sideLength\n",
    "        self.sideB = sideLength\n",
    "\n",
    "s = Square(10)\n",
    "\n",
    "s.CalculateArea()"
   ]
  },
  {
   "cell_type": "code",
   "execution_count": 1,
   "metadata": {
    "collapsed": true,
    "jupyter": {
     "outputs_hidden": true
    }
   },
   "outputs": [],
   "source": [
    "class BinaryTree():\n",
    "\n",
    "    def __init__(self,rootid):\n",
    "        self.left = None\n",
    "        self.right = None\n",
    "        self.rootid = rootid\n",
    "\n",
    "    def getLeftChild(self):\n",
    "        return self.left\n",
    "    \n",
    "    def getRightChild(self):\n",
    "        return self.right\n",
    "    \n",
    "    def setNodeValue(self,value):\n",
    "        self.rootid = value\n",
    "    \n",
    "    def getNodeValue(self):\n",
    "        return self.rootid\n",
    "\n",
    "tree = BinaryTree(3)\n",
    "\n",
    "tree.left = BinaryTree(2)\n",
    "\n",
    "tree.right = BinaryTree(1)\n",
    "\n",
    "tree.left.left = BinaryTree(4)\n",
    "tree.left.right = BinaryTree(1)\n",
    "\n",
    "tree.right.left = BinaryTree(9)\n",
    "tree.right.right = BinaryTree(8)"
   ]
  },
  {
   "cell_type": "code",
   "execution_count": 4,
   "metadata": {},
   "outputs": [
    {
     "data": {
      "text/plain": [
       "2"
      ]
     },
     "execution_count": 4,
     "metadata": {},
     "output_type": "execute_result"
    }
   ],
   "source": [
    "tree.left.rootid"
   ]
  },
  {
   "cell_type": "code",
   "execution_count": 11,
   "metadata": {
    "collapsed": true,
    "jupyter": {
     "outputs_hidden": true
    }
   },
   "outputs": [],
   "source": [
    "#Understanding recursion\n",
    "prefix=[]\n",
    "def descend(root):\n",
    "    if root is None:\n",
    "        return None\n",
    "    prefix.append(root.rootid)\n",
    "    print (prefix)\n",
    "    descend(root.left)\n",
    "    print(root.rootid)\n",
    "    descend(root.right)\n",
    "    \n",
    "    print ('hello')"
   ]
  },
  {
   "cell_type": "code",
   "execution_count": 12,
   "metadata": {},
   "outputs": [
    {
     "name": "stdout",
     "output_type": "stream",
     "text": [
      "[3]\n",
      "[3, 2]\n",
      "[3, 2, 4]\n",
      "4\n",
      "hello\n",
      "2\n",
      "[3, 2, 4, 1]\n",
      "1\n",
      "hello\n",
      "hello\n",
      "3\n",
      "[3, 2, 4, 1, 1]\n",
      "[3, 2, 4, 1, 1, 9]\n",
      "9\n",
      "hello\n",
      "1\n",
      "[3, 2, 4, 1, 1, 9, 8]\n",
      "8\n",
      "hello\n",
      "hello\n",
      "hello\n"
     ]
    }
   ],
   "source": [
    "descend(tree)"
   ]
  },
  {
   "cell_type": "code",
   "execution_count": null,
   "metadata": {
    "collapsed": true,
    "jupyter": {
     "outputs_hidden": true
    }
   },
   "outputs": [],
   "source": []
  }
 ],
 "metadata": {
  "kernelspec": {
   "display_name": "Python 3 (ipykernel)",
   "language": "python",
   "name": "python3"
  },
  "language_info": {
   "codemirror_mode": {
    "name": "ipython",
    "version": 3
   },
   "file_extension": ".py",
   "mimetype": "text/x-python",
   "name": "python",
   "nbconvert_exporter": "python",
   "pygments_lexer": "ipython3",
   "version": "3.8.16"
  }
 },
 "nbformat": 4,
 "nbformat_minor": 4
}
