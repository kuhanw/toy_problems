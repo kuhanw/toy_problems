{
 "cells": [
  {
   "cell_type": "code",
   "execution_count": 1,
   "metadata": {
    "collapsed": true
   },
   "outputs": [],
   "source": [
    "import math\n",
    "import copy\n",
    "import numpy as np\n",
    "import pandas as pd\n",
    "import random\n",
    "\n",
    "import networkx as nx"
   ]
  },
  {
   "cell_type": "code",
   "execution_count": 2,
   "metadata": {
    "collapsed": true
   },
   "outputs": [],
   "source": [
    "#This is a list of toy problems that would be useful to solve"
   ]
  },
  {
   "cell_type": "code",
   "execution_count": 3,
   "metadata": {
    "collapsed": true
   },
   "outputs": [],
   "source": [
    "'''\n",
    "Question #1. \n",
    "\n",
    "Given a string of length n, write a function that outputs all permutations of the string\n",
    "#example, \"abc\" -> bca, cab, bac, etc\n",
    "'''\n",
    "    \n",
    "def perm(a, l=0):\n",
    "    \n",
    "    if(l==len(a)):\n",
    "        print (a, l)\n",
    "    else:\n",
    "        #This loop eventually passes over every index position in the list\n",
    "        #l represents the number of layers of the tree descent\n",
    "        #At the same time the process involves us fixing as many as one less then the total number of elements in the list, \n",
    "        #thus when descending we increment l, telling us that we are fixing the character at the lth index position with prior\n",
    "        #positions already fixed at higher levels of the tree\n",
    "        \n",
    "        #The key trick is to realize this should be written as a for loop!\n",
    "        for i in range(l, len(a)):\n",
    "            print ('i', i, 'l', l, 'length:', len(a))\n",
    "            print ('pre swap:', a, 'i:', i, 'l:', l)\n",
    "            a[l], a[i] = a[i], a[l]\n",
    "            print ('post swap:', a, 'i:', i, 'l:', l)\n",
    "            perm(a, l+1)\n",
    "            print ('post perm call:', a, 'i:', i, 'l:',l)\n",
    "            a[l], a[i] = a[i], a[l] #This line rearranges the elements to what they were prior to the last perm call, \n",
    "            #In other words we rearrange back to the pattern seen at the node of the prior layer and then loop back and descend \n",
    "            #once  more\n",
    "            #This is because once we have returned from the perm the list \"a\" represents the pattern at that level and not the\n",
    "            #returned level\n",
    "            print ('post backtrack:', a, 'i:', i, 'l:', l)"
   ]
  },
  {
   "cell_type": "code",
   "execution_count": 5,
   "metadata": {
    "collapsed": true
   },
   "outputs": [],
   "source": [
    "'''\n",
    "Question 2. \n",
    "\n",
    "Find the square root of a number without using math functions\n",
    "'''"
   ]
  },
  {
   "cell_type": "code",
   "execution_count": 594,
   "metadata": {
    "collapsed": true
   },
   "outputs": [],
   "source": [
    "#Doesn't always work, result is diverging\n",
    "#Have to use correct formula\n",
    "#Key to recognize using newton's method and apply it to root finding\n",
    "#Can't cut by half, have to cut by the estimate!\n",
    "def sqrtCutHalf(num, estimate, values, count=0):\n",
    "  \n",
    "    new_estimate = 0.5*(estimate+(num/estimate))\n",
    "    print (new_estimate)\n",
    "    #print (estimate, half_squared, diff_half, new_try)\n",
    "    values.append(new_estimate)\n",
    "    if count>10: \n",
    "        return values\n",
    "    else:\n",
    "        return sqrtCutHalf(num, new_estimate, values, count+1)"
   ]
  },
  {
   "cell_type": "code",
   "execution_count": 601,
   "metadata": {},
   "outputs": [
    {
     "name": "stdout",
     "output_type": "stream",
     "text": [
      "4.625\n",
      "3.393581081081081\n",
      "3.170160376279714\n",
      "3.162287460494848\n",
      "3.1622776601835656\n",
      "3.162277660168379\n",
      "3.162277660168379\n",
      "3.162277660168379\n",
      "3.162277660168379\n",
      "3.162277660168379\n",
      "3.162277660168379\n",
      "3.162277660168379\n"
     ]
    }
   ],
   "source": [
    "q = sqrtCutHalf(10, 8, [])"
   ]
  },
  {
   "cell_type": "code",
   "execution_count": 8,
   "metadata": {
    "collapsed": true
   },
   "outputs": [],
   "source": [
    "'''\n",
    "Question 3.\n",
    "You are given a 2D array (representing a world map). Adjacent cells with the same number represents \n",
    "some nationality. Count the number of all nationalities. What is the right approach/algorithm here?\n",
    "Question is ambigious, is this count how many nationalities there are or count the population of each nationality?\n",
    "Do you know how many nationalities there are in total?\n",
    "Take \"easy\" problem, the number of nationalities is known\n",
    "assumption, diagonal cells are not adjacent\n",
    "'''"
   ]
  },
  {
   "cell_type": "code",
   "execution_count": 9,
   "metadata": {
    "collapsed": true
   },
   "outputs": [],
   "source": [
    "#Construct an atlas of numbers\n",
    "atlas = np.random.randint(0, 10, size=(100, 100))\n",
    "#atlas = np.zeros(shape=(100, 100))"
   ]
  },
  {
   "cell_type": "code",
   "execution_count": 10,
   "metadata": {
    "collapsed": true
   },
   "outputs": [],
   "source": [
    "atlas[0][0] = 1\n",
    "atlas[0][1] = 1\n",
    "atlas[0][2] = 1\n",
    "atlas[1][0] = 1"
   ]
  },
  {
   "cell_type": "code",
   "execution_count": 9,
   "metadata": {
    "collapsed": true
   },
   "outputs": [],
   "source": [
    "nationality_count = {i:0 for i in range(10)}\n",
    "\n",
    "def incrementDict(element):\n",
    "    nationality_count[element]+=1\n",
    "\n",
    "def pairMatch(list_a, list_b):\n",
    "    #Assume both lists have same length\n",
    "    #You should count up the nationalities directly here otherwise you are passing through\n",
    "    #the list twice\n",
    "    pair_check = [incrementDict(element) for idx, element in enumerate(list_b) if element==list_a[idx]]\n",
    "    \n",
    "    return pair_check"
   ]
  },
  {
   "cell_type": "code",
   "execution_count": 10,
   "metadata": {
    "collapsed": true
   },
   "outputs": [],
   "source": [
    "row_matches = [pairMatch(atlas[idx], atlas[idx+1]) for idx, row in enumerate(atlas) if idx!=len(atlas)-1]"
   ]
  },
  {
   "cell_type": "code",
   "execution_count": 11,
   "metadata": {
    "collapsed": true
   },
   "outputs": [],
   "source": [
    "col_matches = [pairMatch(list(zip(*atlas))[idx], list(zip(*atlas))[idx+1]) for idx, row in \\\n",
    "               enumerate(list(zip(*atlas))) if idx!=len(atlas)-1]"
   ]
  },
  {
   "cell_type": "code",
   "execution_count": 12,
   "metadata": {},
   "outputs": [
    {
     "data": {
      "text/plain": [
       "{0: 206,\n",
       " 1: 227,\n",
       " 2: 208,\n",
       " 3: 224,\n",
       " 4: 182,\n",
       " 5: 191,\n",
       " 6: 196,\n",
       " 7: 205,\n",
       " 8: 185,\n",
       " 9: 243}"
      ]
     },
     "execution_count": 12,
     "metadata": {},
     "output_type": "execute_result"
    }
   ],
   "source": [
    "nationality_count"
   ]
  },
  {
   "cell_type": "code",
   "execution_count": 13,
   "metadata": {
    "collapsed": true
   },
   "outputs": [],
   "source": [
    "#What if we just want to know how many nationalities there are?\n",
    "#Not count their population?\n",
    "\n",
    "#Possible algo\n",
    "\n",
    "#1. Start at any point in matrix\n",
    "#2. check four neighbors, are any a match? if not, junk the point and pick an adjacent point on the graph\n",
    "#, we junk because we don't need to revisit it again\n",
    "#3. if has a match, junk both the point and the adjacent matched point as we have found one pop type\n",
    "#and don't need to find it again, step to any other point\n",
    "#4. When picking new points, if point already in collection of nationalities just skip it"
   ]
  },
  {
   "cell_type": "code",
   "execution_count": 14,
   "metadata": {
    "collapsed": true
   },
   "outputs": [],
   "source": [
    "#nationality_set = set([])"
   ]
  },
  {
   "cell_type": "code",
   "execution_count": 15,
   "metadata": {
    "collapsed": true
   },
   "outputs": [],
   "source": [
    "#Have to watch out for wrap around\n",
    "def checkAdjacent(start_x, start_y, nationality_set):\n",
    "    new_nationality_found = -1\n",
    "    \n",
    "    if atlas[start_x][start_y] == atlas[start_x+1][start_y]:\n",
    "        set([atlas[start_x][start_y]]).union(nationality_set)\n",
    "        new_nationality_found = 0\n",
    "        \n",
    "    if atlas[start_x][start_y] == atlas[start_x][start_y+1]:\n",
    "        set([atlas[start_x][start_y]]).union(nationality_set)\n",
    "        new_nationality_found = 1\n",
    "\n",
    "    if atlas[start_x][start_y] == atlas[start_x-1][start_y]:\n",
    "        set([atlas[start_x][start_y]]).union(nationality_set)\n",
    "        new_nationality_found = 2\n",
    "    \n",
    "    if atlas[start_x][start_y] == atlas[start_x][start_y-1]:\n",
    "        set([atlas[start_x][start_y]]).union(nationality_set)\n",
    "        new_nationality_found = 3\n",
    "        \n",
    "    return [new_nationality_found]"
   ]
  },
  {
   "cell_type": "code",
   "execution_count": 21,
   "metadata": {
    "collapsed": true
   },
   "outputs": [],
   "source": [
    "def exploreMatrix(start_x, start_y, nationality_set, test_count=0):\n",
    "        \n",
    "    if test_count>10000:\n",
    "        return nationality_set\n",
    "    \n",
    "    #print (test_count)\n",
    "    if start_x==0 or start_x==99 or start_y==0 or start_y==99:\n",
    "        \n",
    "        random_direction = np.random.randint(0, 4)\n",
    "        if random_direction == 0: return exploreMatrix(start_x+1, start_y, nationality_set, test_count+1)\n",
    "        if random_direction == 1: return exploreMatrix(start_x, start_y+1, nationality_set, test_count+1)\n",
    "        if random_direction == 2: return exploreMatrix(start_x-1, start_y, nationality_set, test_count+1)\n",
    "        if random_direction == 3: return exploreMatrix(start_x, start_y-1, nationality_set, test_count+1)\n",
    "            \n",
    "    #Check if already in nationality set\n",
    "    if atlas[start_x][start_y] in nationality_set:\n",
    "        \n",
    "        random_direction = np.random.randint(0, 4)\n",
    "        if random_direction == 0: return exploreMatrix(start_x+1, start_y, nationality_set, test_count+1)\n",
    "        if random_direction == 1: return exploreMatrix(start_x, start_y+1, nationality_set, test_count+1)\n",
    "        if random_direction == 2: return exploreMatrix(start_x-1, start_y, nationality_set, test_count+1)\n",
    "        if random_direction == 3: return exploreMatrix(start_x, start_y-1, nationality_set, test_count+1)\n",
    "    \n",
    "    nationality_direction = checkAdjacent(start_x, start_y, nationality_set)\n",
    "    \n",
    "    step_directions = list(set([0, 1, 2, 3]) - set(nationality_direction))\n",
    "    \n",
    "    next_step = random.choice(step_directions)\n",
    "    \n",
    "    if next_step == 0: return exploreMatrix(start_x+1, start_y, nationality_set, test_count+1)\n",
    "    if next_step == 1: return exploreMatrix(start_x, start_y+1, nationality_set, test_count+1)\n",
    "    if next_step == 2: return exploreMatrix(start_x-1, start_y, nationality_set, test_count+1)\n",
    "    if next_step == 3: return exploreMatrix(start_x, start_y-1, nationality_set, test_count+1)\n",
    "\n",
    "\n",
    "    #Whats the break condition?\n",
    "    #Has to be every node has been checked"
   ]
  },
  {
   "cell_type": "code",
   "execution_count": 7,
   "metadata": {
    "collapsed": true
   },
   "outputs": [],
   "source": [
    "matrix_graph = nx.Graph()"
   ]
  },
  {
   "cell_type": "code",
   "execution_count": 11,
   "metadata": {},
   "outputs": [
    {
     "data": {
      "text/plain": [
       "array([[1, 1, 1, ..., 6, 3, 9],\n",
       "       [1, 8, 8, ..., 1, 5, 6],\n",
       "       [1, 9, 0, ..., 1, 2, 4],\n",
       "       ..., \n",
       "       [5, 3, 1, ..., 2, 0, 7],\n",
       "       [3, 6, 2, ..., 1, 0, 2],\n",
       "       [6, 1, 5, ..., 1, 3, 3]])"
      ]
     },
     "execution_count": 11,
     "metadata": {},
     "output_type": "execute_result"
    }
   ],
   "source": [
    "atlas"
   ]
  },
  {
   "cell_type": "code",
   "execution_count": null,
   "metadata": {
    "collapsed": true
   },
   "outputs": [],
   "source": [
    "'''\n",
    "Question 4 \n",
    "\n",
    "Remove alternate duplicate elements in a list\n",
    "\n",
    "example: \"you got beautiful eyes\"\n",
    "Output: ”you gtbeaiful es”\n",
    "\n",
    "What if I remove all but the first appearance?\n",
    "Pass through list only once\n",
    "'''"
   ]
  },
  {
   "cell_type": "code",
   "execution_count": 12,
   "metadata": {
    "collapsed": true
   },
   "outputs": [],
   "source": [
    "string = 'you got beautiful eyes'"
   ]
  },
  {
   "cell_type": "code",
   "execution_count": 113,
   "metadata": {},
   "outputs": [
    {
     "data": {
      "text/plain": [
       "'\\nQuestion 7\\n\\nFind k largests elements in a list \\n'"
      ]
     },
     "execution_count": 113,
     "metadata": {},
     "output_type": "execute_result"
    }
   ],
   "source": [
    "'''\n",
    "Question 7\n",
    "\n",
    "Find k largests elements in a list \n",
    "'''"
   ]
  },
  {
   "cell_type": "code",
   "execution_count": 114,
   "metadata": {
    "collapsed": true
   },
   "outputs": [],
   "source": [
    "l = [1, 23, 12, 9, 30, 2, 50, 12, 49, 4, 26]"
   ]
  },
  {
   "cell_type": "code",
   "execution_count": 115,
   "metadata": {
    "collapsed": true
   },
   "outputs": [],
   "source": [
    "#suppose k=1"
   ]
  },
  {
   "cell_type": "code",
   "execution_count": 116,
   "metadata": {},
   "outputs": [
    {
     "name": "stdout",
     "output_type": "stream",
     "text": [
      "50\n"
     ]
    }
   ],
   "source": [
    "max_element = -1\n",
    "for i in range(len(l)):\n",
    "    #print(l[i])\n",
    "    if l[i]>max_element: max_element=l[i]\n",
    "        \n",
    "print (max_element)"
   ]
  },
  {
   "cell_type": "code",
   "execution_count": 119,
   "metadata": {
    "collapsed": true
   },
   "outputs": [],
   "source": [
    "#suppose k is arbritary\n",
    "k=4\n",
    "#max_k = sorted(l[:k])\n",
    "max_k = l[:k]\n",
    "for i in range(k, len(l), 1):\n",
    "    if l[i]>max_k[0]: \n",
    "        max_k[0]=l[i]\n",
    "        max_k = sorted(max_k)"
   ]
  },
  {
   "cell_type": "code",
   "execution_count": 120,
   "metadata": {},
   "outputs": [
    {
     "data": {
      "text/plain": [
       "[26, 30, 49, 50]"
      ]
     },
     "execution_count": 120,
     "metadata": {},
     "output_type": "execute_result"
    }
   ],
   "source": [
    "max_k"
   ]
  },
  {
   "cell_type": "code",
   "execution_count": null,
   "metadata": {
    "collapsed": true
   },
   "outputs": [],
   "source": [
    "'''\n",
    "Question 6\n",
    "\n",
    "Given a matrix, rotate it 90 degrees counter-clockwise in place\n",
    " 1  2  3  4 \n",
    " 5  6  7  8 \n",
    " 9 10 11 12 \n",
    "13 14 15 16 \n",
    "\n",
    "Output:\n",
    " 4  8 12 16 \n",
    " 3  7 11 15 \n",
    " 2  6 10 14 \n",
    " 1  5  9 13\n",
    "'''"
   ]
  },
  {
   "cell_type": "code",
   "execution_count": 186,
   "metadata": {
    "collapsed": true
   },
   "outputs": [],
   "source": [
    "matrix = np.array([[1,2,3,4], [5,6,7,8], [9,10,11,12], [13, 14, 15, 16]])"
   ]
  },
  {
   "cell_type": "code",
   "execution_count": 197,
   "metadata": {
    "collapsed": true
   },
   "outputs": [],
   "source": [
    "n_size = len(matrix[0])"
   ]
  },
  {
   "cell_type": "code",
   "execution_count": null,
   "metadata": {
    "collapsed": true
   },
   "outputs": [],
   "source": [
    "#The hardest part about this problem is the indexing\n",
    "#Its obvious there are cycles in a square matrix\n",
    "#the problem is knowing how to index the positions correctly\n",
    "#and realizing there are four swaps you have to make per loop"
   ]
  },
  {
   "cell_type": "code",
   "execution_count": 198,
   "metadata": {
    "collapsed": true
   },
   "outputs": [],
   "source": [
    "#The number of \"square cycles is always half rounded down the size of the matrix\n",
    "for cycle in range(n_size//2):\n",
    "    #if cycle==0: continue\n",
    "    #In each cycle you have to move all the elements, going around in a circle\n",
    "    #Each cycle is smaller then the prior cycle (going from the outside of the matrix inside)\n",
    "    for x in range(cycle, n_size-cycle-1, 1):\n",
    "        \n",
    "        temp = matrix[cycle][x]\n",
    "        #Move mid right to mid left\n",
    "        matrix[cycle][x] = matrix[x][n_size-1-cycle]\n",
    "        #move bottom right to top right\n",
    "        matrix[x][n_size-1-cycle] = matrix[n_size-1-cycle][n_size-1-x]\n",
    "        #move bottom left to bottom right\n",
    "        matrix[n_size-1-cycle][n_size-1-x] = matrix[n_size-1-x][cycle]\n",
    "        #move top left to bottom left\n",
    "        matrix[n_size-1-x][cycle] = temp"
   ]
  },
  {
   "cell_type": "code",
   "execution_count": 199,
   "metadata": {},
   "outputs": [
    {
     "data": {
      "text/plain": [
       "array([[3, 6, 9],\n",
       "       [2, 5, 8],\n",
       "       [1, 4, 7]])"
      ]
     },
     "execution_count": 199,
     "metadata": {},
     "output_type": "execute_result"
    }
   ],
   "source": [
    "matrix"
   ]
  },
  {
   "cell_type": "code",
   "execution_count": 72,
   "metadata": {
    "collapsed": true
   },
   "outputs": [],
   "source": [
    "#Without using inplace method\n",
    "matrix_new = np.zeros(shape=(3, 3))\n",
    "\n",
    "for i in range(len(matrix)):\n",
    "    matrix_new[:,i] = sorted(matrix[i], reverse=True)"
   ]
  },
  {
   "cell_type": "code",
   "execution_count": null,
   "metadata": {
    "collapsed": true
   },
   "outputs": [],
   "source": [
    "'''\n",
    "Question 7\n",
    "\n",
    "Next Greater Element\n",
    "Given an array, print the Next Greater Element (NGE) for every element. \n",
    "The Next greater Element for an element x is the first greater element on the right side of x in array. \n",
    "Elements for which no greater element exist, consider next greater element as -1.\n",
    "\n",
    "Example:\n",
    "\n",
    "[4, 5, 2, 25}\n",
    "\n",
    "Element       NGE\n",
    "   4      -->   5\n",
    "   5      -->   25\n",
    "   2      -->   25\n",
    "   25     -->   -1\n",
    "'''"
   ]
  },
  {
   "cell_type": "code",
   "execution_count": 213,
   "metadata": {
    "collapsed": true
   },
   "outputs": [],
   "source": [
    "elements = [13, 7, 6, 12]\n",
    "nge = []"
   ]
  },
  {
   "cell_type": "code",
   "execution_count": 214,
   "metadata": {
    "collapsed": true
   },
   "outputs": [],
   "source": [
    "sorted_elements = sorted(elements)"
   ]
  },
  {
   "cell_type": "code",
   "execution_count": 215,
   "metadata": {},
   "outputs": [
    {
     "data": {
      "text/plain": [
       "([6, 7, 12, 13], [13, 7, 6, 12])"
      ]
     },
     "execution_count": 215,
     "metadata": {},
     "output_type": "execute_result"
    }
   ],
   "source": [
    "sorted_elements, elements"
   ]
  },
  {
   "cell_type": "code",
   "execution_count": 216,
   "metadata": {},
   "outputs": [
    {
     "name": "stdout",
     "output_type": "stream",
     "text": [
      "13 -1\n",
      "7 12\n",
      "6 12\n",
      "12 -1\n"
     ]
    }
   ],
   "source": [
    "for i in range(len(elements)):\n",
    "    found_nge = 0\n",
    "    for j in range(i, len(elements), 1):\n",
    "        if elements[j]>elements[i]:\n",
    "            print (elements[i], elements[j])\n",
    "            found_nge = 1\n",
    "            break\n",
    "    if found_nge == 0:\n",
    "        print (elements[i], -1)            "
   ]
  },
  {
   "cell_type": "code",
   "execution_count": 234,
   "metadata": {
    "collapsed": true
   },
   "outputs": [],
   "source": [
    "#Faster solution"
   ]
  },
  {
   "cell_type": "code",
   "execution_count": 230,
   "metadata": {
    "collapsed": true
   },
   "outputs": [],
   "source": [
    "# Python program to print next greater element using stack\n",
    " \n",
    "def createStack():\n",
    "    stack = []\n",
    "    return stack\n",
    " \n",
    "def isEmpty(stack):\n",
    "    return len(stack) == 0\n",
    " \n",
    "def push(stack, x):\n",
    "    stack.append(x)\n",
    " \n",
    "def pop(stack):\n",
    "    if isEmpty(stack):\n",
    "        print(\"Error : stack underflow\")\n",
    "    else:\n",
    "        return stack.pop()"
   ]
  },
  {
   "cell_type": "code",
   "execution_count": 231,
   "metadata": {
    "collapsed": true
   },
   "outputs": [],
   "source": [
    "def printNGE(arr):\n",
    "    s = createStack()\n",
    "    element = 0\n",
    "    next = 0\n",
    " \n",
    "    # push the first element to stack\n",
    "    push(s, arr[0])\n",
    " \n",
    "    # iterate for rest of the elements\n",
    "    for i in range(1, len(arr), 1):\n",
    "        next = arr[i]\n",
    " \n",
    "        if isEmpty(s) == False:\n",
    " \n",
    "            # if stack is not empty, then pop an element from stack\n",
    "            element = pop(s)\n",
    " \n",
    "            '''If the popped element is smaller than next, then\n",
    "                a) print the pair\n",
    "                b) keep popping while elements are smaller and\n",
    "                   stack is not empty '''\n",
    "            while element < next :\n",
    "                print(str(element)+ \" -- \" + str(next))\n",
    "                if isEmpty(s) == True :\n",
    "                    break\n",
    "                element = pop(s)\n",
    " \n",
    "            '''If element is greater than next, then push\n",
    "               the element back '''\n",
    "            if  element > next:\n",
    "                push(s, element)\n",
    " \n",
    "        '''push next to stack so that we can find\n",
    "           next greater for it '''\n",
    "        push(s, next)\n",
    " \n",
    "    '''After iterating over the loop, the remaining\n",
    "       elements in stack do not have the next greater\n",
    "       element, so print -1 for them '''\n",
    " \n",
    "    while isEmpty(s) == False:\n",
    "            element = pop(s)\n",
    "            next = -1\n",
    "            print(str(element) + \" -- \" + str(next))"
   ]
  },
  {
   "cell_type": "code",
   "execution_count": 233,
   "metadata": {},
   "outputs": [
    {
     "name": "stdout",
     "output_type": "stream",
     "text": [
      "2 -- 4\n",
      "3 -- 4\n",
      "2 -- -1\n",
      "4 -- -1\n"
     ]
    }
   ],
   "source": [
    "printNGE([3, 2, 4, 2])"
   ]
  },
  {
   "cell_type": "code",
   "execution_count": null,
   "metadata": {
    "collapsed": true
   },
   "outputs": [],
   "source": [
    "'''\n",
    "Question 8\n",
    "\n",
    "Given an array of positive numbers, find the maximum sum of a subsequence with the \n",
    "constraint that no 2 numbers in the sequence should be adjacent in the array. \n",
    "So 3 2 7 10 should return 13 (sum of 3 and 10) or 3 2 5 10 7 should return 15 (sum of 3, 5 and 7).\n",
    "Answer the question in most efficient way.\n",
    "\n",
    "Examples:\n",
    "\n",
    "Input : arr[] = {5, 5, 10, 100, 10, 5}\n",
    "Output : 110\n",
    "\n",
    "Input : arr[] = {1, 2, 3}\n",
    "Output : 4\n",
    "\n",
    "Input : arr[] = {1, 20, 3}\n",
    "Output : 20\n",
    "'''"
   ]
  },
  {
   "cell_type": "code",
   "execution_count": 425,
   "metadata": {
    "collapsed": true
   },
   "outputs": [],
   "source": [
    "array = [5, 5, 10, 40, 3, 1]"
   ]
  },
  {
   "cell_type": "code",
   "execution_count": 426,
   "metadata": {
    "collapsed": true
   },
   "outputs": [],
   "source": [
    "#Dynamic programming problem, have to keep track of two running sums.\n",
    "#Tricky problem\n",
    "#Inclusive: The best possible sum if I include the current number\n",
    "#Exclusive: The best possible sum if I don't include the current number\n",
    "\n",
    "incl = 0\n",
    "excl = 0\n",
    "\n",
    "for index, i in enumerate(array):\n",
    "    #print (index, 'step0:', i, incl, excl)\n",
    "    new_excl = incl\n",
    "    # Current max including i\n",
    "    incl = excl + i\n",
    "    #print (index, 'step1:', i, incl, excl)\n",
    "\n",
    "    excl = new_excl\n",
    "    #print (index, 'step2:', i, incl, excl)"
   ]
  },
  {
   "cell_type": "code",
   "execution_count": 427,
   "metadata": {},
   "outputs": [
    {
     "data": {
      "text/plain": [
       "(46, 18)"
      ]
     },
     "execution_count": 427,
     "metadata": {},
     "output_type": "execute_result"
    }
   ],
   "source": [
    "'''\n",
    "Question 9\n",
    "\n",
    "Given two strings str1 and str2 and below operations \n",
    "that can performed on str1. Find minimum number of edits (operations) required to convert ‘str1’ into ‘str2’.\n",
    "\n",
    "Insert\n",
    "Remove\n",
    "Replace\n",
    "All of the above operations are of equal cost.\n",
    "\n",
    "Example:\n",
    "\n",
    "Input:   str1 = \"geek\", str2 = \"gesek\"\n",
    "Output:  1\n",
    "We can convert str1 into str2 by inserting a 's'.\n",
    "\n",
    "Input:   str1 = \"cat\", str2 = \"cut\"\n",
    "Output:  1\n",
    "We can convert str1 into str2 by replacing 'a' with 'u'.\n",
    "\n",
    "Input:   str1 = \"sunday\", str2 = \"saturday\"\n",
    "Output:  3\n",
    "Last three and first characters are same.  We basically\n",
    "need to convert \"un\" to \"atur\".  This can be done using\n",
    "below three operations. \n",
    "Replace 'n' with 'r', insert t, insert a\n",
    "'''"
   ]
  },
  {
   "cell_type": "code",
   "execution_count": 6,
   "metadata": {
    "collapsed": true
   },
   "outputs": [],
   "source": [
    "str1 = 'geek'\n",
    "str2 = 'gesekt'"
   ]
  },
  {
   "cell_type": "code",
   "execution_count": 7,
   "metadata": {
    "collapsed": true
   },
   "outputs": [],
   "source": [
    "#Initial position has to be at back of string\n",
    "def editDistance(str1, str2, str1_pos, str2_pos, score=0):\n",
    "    #These two are the crucial \"bottoms\" of the recursive function and hard to understand\n",
    "    if str1_pos==0:\n",
    "        return str2_pos\n",
    "    if str2_pos==0:\n",
    "        return str1_pos\n",
    "    \n",
    "    #print (str1[str1_pos], str2[str2_pos])\n",
    "    if str1[str1_pos]==str2[str2_pos]:\n",
    "        return editDistance(str1, str2, str1_pos-1, str2_pos-1)\n",
    "    else:\n",
    "        #Why is this 1+ needed? maybe you need the 1 because the element positions start counting from 0 and not 1?\n",
    "        return 1+min(editDistance(str1, str2, str1_pos-1, str2_pos), editDistance(str1, str2, str1_pos, str2_pos-1), \\\n",
    "            editDistance(str1, str2, str1_pos-1, str2_pos-1))"
   ]
  },
  {
   "cell_type": "code",
   "execution_count": 8,
   "metadata": {},
   "outputs": [
    {
     "data": {
      "text/plain": [
       "2"
      ]
     },
     "execution_count": 8,
     "metadata": {},
     "output_type": "execute_result"
    }
   ],
   "source": [
    "editDistance(str1, str2, len(str1)-1, len(str2)-1)"
   ]
  },
  {
   "cell_type": "code",
   "execution_count": 9,
   "metadata": {
    "collapsed": true
   },
   "outputs": [],
   "source": [
    "#Dynamic programming solution"
   ]
  },
  {
   "cell_type": "code",
   "execution_count": 44,
   "metadata": {
    "collapsed": true
   },
   "outputs": [],
   "source": [
    "str1='sunday'\n",
    "str2='saturday'"
   ]
  },
  {
   "cell_type": "code",
   "execution_count": 45,
   "metadata": {
    "collapsed": true
   },
   "outputs": [],
   "source": [
    "edit_matrix= [[0 for i in range(len(str2)+1)] for j in range(len(str1)+1)]"
   ]
  },
  {
   "cell_type": "code",
   "execution_count": 46,
   "metadata": {},
   "outputs": [
    {
     "data": {
      "text/plain": [
       "[[0, 0, 0, 0, 0, 0, 0, 0, 0],\n",
       " [0, 0, 0, 0, 0, 0, 0, 0, 0],\n",
       " [0, 0, 0, 0, 0, 0, 0, 0, 0],\n",
       " [0, 0, 0, 0, 0, 0, 0, 0, 0],\n",
       " [0, 0, 0, 0, 0, 0, 0, 0, 0],\n",
       " [0, 0, 0, 0, 0, 0, 0, 0, 0],\n",
       " [0, 0, 0, 0, 0, 0, 0, 0, 0]]"
      ]
     },
     "execution_count": 46,
     "metadata": {},
     "output_type": "execute_result"
    }
   ],
   "source": [
    "edit_matrix"
   ]
  },
  {
   "cell_type": "code",
   "execution_count": 47,
   "metadata": {
    "collapsed": true
   },
   "outputs": [],
   "source": [
    "for idx_1 in range(len(str1)+1):\n",
    "    for idx_2 in range(len(str2)+1):\n",
    "        if idx_1==0:\n",
    "            edit_matrix[idx_1][idx_2] = idx_2 #this means it takes j moves to transform blank to w/e j is (j could be zero)\n",
    "        \n",
    "        elif idx_2==0:\n",
    "            edit_matrix[idx_1][idx_2] = idx_1 #this means the reverse, if j is zero it takes i  moves to transform it from blank\n",
    "            \n",
    "        elif str1[idx_1-1] == str2[idx_2-1]: #in this case always take diagonal element before\n",
    "            edit_matrix[idx_1][idx_2] = edit_matrix[idx_1-1][idx_2-1]\n",
    "        \n",
    "        else:\n",
    "            #other wise its one move (which is the cost of modifying the current char to be the same) + the least amount of \n",
    "            #moves from the prior char position, the least amount of moves from the previous char position given all possible\n",
    "            #ways of moving is giving by replace, add, and modify\n",
    "            edit_matrix[idx_1][idx_2] = 1 + min(edit_matrix[idx_1-1][idx_2-1], \n",
    "                                                edit_matrix[idx_1][idx_2-1], \n",
    "                                                edit_matrix[idx_1-1][idx_2])"
   ]
  },
  {
   "cell_type": "code",
   "execution_count": 48,
   "metadata": {},
   "outputs": [
    {
     "data": {
      "text/plain": [
       "[[0, 1, 2, 3, 4, 5, 6, 7, 8],\n",
       " [1, 0, 1, 2, 3, 4, 5, 6, 7],\n",
       " [2, 1, 1, 2, 2, 3, 4, 5, 6],\n",
       " [3, 2, 2, 2, 3, 3, 4, 5, 6],\n",
       " [4, 3, 3, 3, 3, 4, 3, 4, 5],\n",
       " [5, 4, 3, 4, 4, 4, 4, 3, 4],\n",
       " [6, 5, 4, 4, 5, 5, 5, 4, 3]]"
      ]
     },
     "execution_count": 48,
     "metadata": {},
     "output_type": "execute_result"
    }
   ],
   "source": [
    "edit_matrix"
   ]
  },
  {
   "cell_type": "code",
   "execution_count": null,
   "metadata": {
    "collapsed": true
   },
   "outputs": [],
   "source": [
    "'''\n",
    "Question 10\n",
    "\n",
    "The Stock Span Problem\n",
    "\n",
    "The stock span problem is a financial problem where \n",
    "we have a series of n daily price quotes for a stock and \n",
    "we need to calculate span of stock’s price for all n days. \n",
    "\n",
    "The span Si of the stock’s price on a given day i is defined as the \n",
    "maximum number of consecutive days just before the given day, \n",
    "for which the price of the stock on the current day is less than or \n",
    "equal to its price on the given day.\n",
    "For example, if an array of 7 days prices is given as {100, 80, 60, 70, 60, 75, 85}, \n",
    "then the span values for corresponding 7 days are {1, 1, 1, 2, 1, 4, 6}\n",
    "'''"
   ]
  },
  {
   "cell_type": "code",
   "execution_count": 98,
   "metadata": {
    "collapsed": true
   },
   "outputs": [],
   "source": [
    "stock_price = [100, 80, 60, 70, 60, 75, 85]\n",
    "stock_price = [10, 4, 5, 90, 120, 80]"
   ]
  },
  {
   "cell_type": "code",
   "execution_count": 99,
   "metadata": {
    "collapsed": true
   },
   "outputs": [],
   "source": [
    "span = [-1 for i in range(len(stock_price))]"
   ]
  },
  {
   "cell_type": "code",
   "execution_count": 100,
   "metadata": {},
   "outputs": [
    {
     "data": {
      "text/plain": [
       "[10, 4, 5, 90, 120, 80]"
      ]
     },
     "execution_count": 100,
     "metadata": {},
     "output_type": "execute_result"
    }
   ],
   "source": [
    "stock_price"
   ]
  },
  {
   "cell_type": "code",
   "execution_count": 101,
   "metadata": {
    "collapsed": true
   },
   "outputs": [],
   "source": [
    "for idx_i in range(len(stock_price)):\n",
    "    if idx_i==0: #Assuming this a default state\n",
    "        span[0] = 1\n",
    "    else:            \n",
    "        span_sum = 0\n",
    "        for idx_j in reversed(range(0, len(stock_price[:idx_i]), 1)):\n",
    "            if stock_price[idx_i]<stock_price[idx_j]:\n",
    "                span[idx_i] = (idx_i-idx_j)\n",
    "                break"
   ]
  },
  {
   "cell_type": "code",
   "execution_count": null,
   "metadata": {
    "collapsed": true
   },
   "outputs": [],
   "source": [
    "'''\n",
    "Question 11\n",
    "\n",
    "a) Construct a binary tree class\n",
    "\n",
    "b) Given the root of a binary tree and a number,\n",
    "write a function that returns the node with the number or null if the number is not found.\n",
    "'''"
   ]
  },
  {
   "cell_type": "code",
   "execution_count": 4,
   "metadata": {
    "collapsed": true
   },
   "outputs": [],
   "source": [
    "#a) The constructor creates one \"fork\", the fork is then duplicated to construct a tree\n",
    "#Therefore to construct the tree one has to recursively call the constructor!\n",
    "#Have to change the way I think about the problem\n",
    "\n",
    "class BinaryTree():\n",
    "\n",
    "    def __init__(self,rootid):\n",
    "        self.left = None\n",
    "        self.right = None\n",
    "        self.rootid = rootid\n",
    "\n",
    "    def getLeftChild(self):\n",
    "        return self.left\n",
    "    \n",
    "    def getRightChild(self):\n",
    "        return self.right\n",
    "    \n",
    "    def setNodeValue(self,value):\n",
    "        self.rootid = value\n",
    "    \n",
    "    def getNodeValue(self):\n",
    "        return self.rootid"
   ]
  },
  {
   "cell_type": "code",
   "execution_count": 5,
   "metadata": {
    "collapsed": true
   },
   "outputs": [],
   "source": [
    "tree = BinaryTree(3)"
   ]
  },
  {
   "cell_type": "code",
   "execution_count": 6,
   "metadata": {
    "collapsed": true
   },
   "outputs": [],
   "source": [
    "tree.left = BinaryTree(2)"
   ]
  },
  {
   "cell_type": "code",
   "execution_count": 7,
   "metadata": {
    "collapsed": true
   },
   "outputs": [],
   "source": [
    "tree.right = BinaryTree(1)"
   ]
  },
  {
   "cell_type": "code",
   "execution_count": 8,
   "metadata": {
    "collapsed": true
   },
   "outputs": [],
   "source": [
    "tree.left.left = BinaryTree(4)\n",
    "tree.left.right = BinaryTree(1)"
   ]
  },
  {
   "cell_type": "code",
   "execution_count": 9,
   "metadata": {
    "collapsed": true
   },
   "outputs": [],
   "source": [
    "tree.right.left = BinaryTree(9)\n",
    "tree.right.right = BinaryTree(8)"
   ]
  },
  {
   "cell_type": "code",
   "execution_count": 10,
   "metadata": {
    "collapsed": true
   },
   "outputs": [],
   "source": [
    "#b) Write a function that traverses every node in the tree"
   ]
  },
  {
   "cell_type": "code",
   "execution_count": 30,
   "metadata": {
    "collapsed": true
   },
   "outputs": [],
   "source": [
    "#DO NOT CALL RETURN!\n",
    "#You are fundamentally misunderstanding how return works in a recursive function\n",
    "#If you call return, you are asking to terminate the recursive call, otherwise the function will\n",
    "#\"boomerang\" back which is the effect you were looking for!\n",
    "\n",
    "def findNode(tree, num, found, layer=0):\n",
    "    \n",
    "    if tree.getNodeValue() is None:\n",
    "        return None\n",
    "    elif tree.getNodeValue()==num:\n",
    "        print ('Number %d found' % num)\n",
    "    else:\n",
    "        print (tree.getNodeValue())\n",
    "        if tree.right is not None:\n",
    "            findNode(tree.getRightChild(), num, found, layer+1)\n",
    "        if tree.left is not None:\n",
    "            findNode(tree.getLeftChild(), num, found, layer+1)    "
   ]
  },
  {
   "cell_type": "code",
   "execution_count": 33,
   "metadata": {},
   "outputs": [
    {
     "name": "stdout",
     "output_type": "stream",
     "text": [
      "3\n",
      "1\n",
      "Number 8 found\n",
      "9\n",
      "2\n",
      "1\n",
      "4\n"
     ]
    }
   ],
   "source": [
    "findNode(tree, 8, 0, 0)"
   ]
  },
  {
   "cell_type": "code",
   "execution_count": 40,
   "metadata": {
    "collapsed": true
   },
   "outputs": [],
   "source": [
    "#Why does return not work.\n",
    "def findNode(tree, layer=0):\n",
    "\n",
    "    print (tree.getNodeValue())\n",
    "    if tree.right is not None:\n",
    "        return findNode(tree.getRightChild(), layer+1)\n",
    "    #Notice the function is the same regardless if you comment this bottom part in or out\n",
    "    #Because as soon as you hit the return statement the current iteration ends!!\n",
    "#    if tree.left is not None:\n",
    "#        return findNode(tree.getLeftChild(), layer+1)    "
   ]
  },
  {
   "cell_type": "code",
   "execution_count": 41,
   "metadata": {},
   "outputs": [
    {
     "name": "stdout",
     "output_type": "stream",
     "text": [
      "3\n",
      "1\n",
      "8\n"
     ]
    }
   ],
   "source": [
    "findNode(tree, layer=0)"
   ]
  },
  {
   "cell_type": "code",
   "execution_count": null,
   "metadata": {
    "collapsed": true
   },
   "outputs": [],
   "source": [
    "'''\n",
    "Spiral pattern, write a function that produces the following pattern:\n",
    "n=3 123\n",
    "    894  \n",
    "    765\n",
    "n=4 1   2  3 4\n",
    "    12 13 14 5\n",
    "    11 16 15 6\n",
    "    10  9  8 7\n",
    "'''"
   ]
  },
  {
   "cell_type": "code",
   "execution_count": null,
   "metadata": {
    "collapsed": true
   },
   "outputs": [],
   "source": [
    "#try and do odd n"
   ]
  },
  {
   "cell_type": "code",
   "execution_count": null,
   "metadata": {
    "collapsed": true
   },
   "outputs": [],
   "source": [
    "for i in range(3):\n",
    "    for j in range(3):\n",
    "        "
   ]
  },
  {
   "cell_type": "code",
   "execution_count": 6,
   "metadata": {
    "collapsed": true
   },
   "outputs": [],
   "source": [
    "'''\n",
    "One edit away\n",
    "\n",
    "Write a function that returns whether two strings are exactly one edit away\n",
    "An edit is:\n",
    "1.Inserting one character anywhere in the word (including at the beginning and end)\n",
    "2. Removing one character\n",
    "3. Replacing one character\n",
    "OneEditApart(\"cat\", \"dog\") = false\n",
    "OneEditApart(\"cat\", \"cats\") = true\n",
    "OneEditApart(\"cat\", \"cut\") = true\n",
    "OneEditApart(\"cat\", \"cast\") = true\n",
    "OneEditApart(\"cat\", \"at\") = true\n",
    "OneEditApart(\"cat\", \"act\") = false #key to note\n",
    "'''"
   ]
  },
  {
   "cell_type": "code",
   "execution_count": 105,
   "metadata": {},
   "outputs": [],
   "source": [
    "def OneEditApart(str1, str2):\n",
    "    \n",
    "    if abs(len(str1)-len(str2))>1:\n",
    "        return False\n",
    "    else:        \n",
    "        if len(str1)==len(str2):\n",
    "            n_edits=0\n",
    "            for idx in range(len(str1)):\n",
    "                if str1[idx]==str2[idx]:\n",
    "                    pass\n",
    "                else:\n",
    "                    n_edits+=1\n",
    "        else:\n",
    "            #if not the same length, they can at most differ by length one\n",
    "            #The thing to check now is are they more then one edit away?\n",
    "            #For sure they cannot be 0 edits away anymore\n",
    "            n_edits=1\n",
    "            #Always want str1 to be the smaller one\n",
    "            if len(str1)>len(str2):\n",
    "                str1, str2=str2, str1\n",
    "            for idx in range(min(len(str1), len(str2))):                    \n",
    "                if str1[idx]==str2[idx]:\n",
    "                    pass\n",
    "                elif str1[idx]==str2[idx+1]:\n",
    "                    pass\n",
    "                else:\n",
    "                    n_edits+=1                            \n",
    "        \n",
    "        return n_edits==1        "
   ]
  },
  {
   "cell_type": "code",
   "execution_count": 107,
   "metadata": {},
   "outputs": [
    {
     "data": {
      "text/plain": [
       "False"
      ]
     },
     "execution_count": 107,
     "metadata": {},
     "output_type": "execute_result"
    }
   ],
   "source": [
    "OneEditApart('cat', 'cat')"
   ]
  },
  {
   "cell_type": "code",
   "execution_count": null,
   "metadata": {
    "collapsed": true
   },
   "outputs": [],
   "source": [
    "'''\n",
    "Implement a function that outputs the Look and Say sequence:\n",
    " \n",
    "1\n",
    "11\n",
    "21\n",
    "1211\n",
    "111221\n",
    "312211\n",
    "13112221\n",
    "1113213211\n",
    "31131211131221\n",
    "13211311123113112211\n",
    "\n",
    "The next sequence is generated by reading the last one\n",
    "'''"
   ]
  },
  {
   "cell_type": "code",
   "execution_count": null,
   "metadata": {
    "collapsed": true
   },
   "outputs": [],
   "source": [
    "#Lets count the number of occurrences of a numbers from left to right"
   ]
  },
  {
   "cell_type": "code",
   "execution_count": 172,
   "metadata": {},
   "outputs": [],
   "source": [
    "def generate_look_say_sequence(current_seq):\n",
    "    sequences = []\n",
    "    idx=0\n",
    "    while idx<len(current_seq):    \n",
    "        current_char = current_seq[idx]\n",
    "        current_ptr = idx\n",
    "        sub_seq=[]\n",
    "        while current_ptr<len(current_seq):\n",
    "            if current_seq[current_ptr]==current_char:            \n",
    "                sub_seq.append(current_seq[current_ptr])\n",
    "                current_ptr+=1\n",
    "            else:\n",
    "                break\n",
    "        sequences.append(sub_seq)\n",
    "        idx+=len(sub_seq)\n",
    "    \n",
    "    seq_counting = [np.unique(sub_seq, return_counts=True) for sub_seq in sequences]\n",
    "    \n",
    "    return ''.join([str(i[1][0]) + str(i[0][0]) for i in seq_counting])"
   ]
  },
  {
   "cell_type": "code",
   "execution_count": 178,
   "metadata": {},
   "outputs": [
    {
     "data": {
      "text/plain": [
       "'312211'"
      ]
     },
     "execution_count": 178,
     "metadata": {},
     "output_type": "execute_result"
    }
   ],
   "source": [
    "generate_look_say_sequence(generate_look_say_sequence(generate_look_say_sequence(generate_look_say_sequence(generate_look_say_sequence('1')))))"
   ]
  },
  {
   "cell_type": "code",
   "execution_count": 179,
   "metadata": {},
   "outputs": [
    {
     "data": {
      "text/plain": [
       "'\\nGiven a string A.\\n\\nReturn the string A after reversing the string word by word.\\n\\nNOTE:\\n\\n    A sequence of non-space characters constitutes a word.\\n\\n    Your reversed string should not contain leading or trailing spaces, even if it is present in the input string.\\n\\n    If there are multiple spaces between words, reduce them to a single space in the reversed string.\\n\\nInput 1:\\n    A = \"the sky is blue\"\\nOutput 1:\\n    \"blue is sky the\"\\n\\nInput 2:\\n    A = \"this is ib\"\\nOutput 2:\\n    \"ib is this\"\\n'"
      ]
     },
     "execution_count": 179,
     "metadata": {},
     "output_type": "execute_result"
    }
   ],
   "source": [
    "'''\n",
    "Given a string A.\n",
    "\n",
    "Return the string A after reversing the string word by word.\n",
    "\n",
    "NOTE:\n",
    "\n",
    "    A sequence of non-space characters constitutes a word.\n",
    "\n",
    "    Your reversed string should not contain leading or trailing spaces, even if it is present in the input string.\n",
    "\n",
    "    If there are multiple spaces between words, reduce them to a single space in the reversed string.\n",
    "\n",
    "Input 1:\n",
    "    A = \"the sky is blue\"\n",
    "Output 1:\n",
    "    \"blue is sky the\"\n",
    "\n",
    "Input 2:\n",
    "    A = \"this is ib\"\n",
    "Output 2:\n",
    "    \"ib is this\"\n",
    "'''"
   ]
  },
  {
   "cell_type": "code",
   "execution_count": 184,
   "metadata": {
    "collapsed": true
   },
   "outputs": [],
   "source": [
    "def reverse_string(string):\n",
    "    reversed_words = []\n",
    "    for word in reversed(string.split(' ')):\n",
    "        reversed_words.append(word)\n",
    "    return ' '.join(reversed_words).strip()"
   ]
  },
  {
   "cell_type": "code",
   "execution_count": 185,
   "metadata": {},
   "outputs": [
    {
     "data": {
      "text/plain": [
       "'blue is sky the'"
      ]
     },
     "execution_count": 185,
     "metadata": {},
     "output_type": "execute_result"
    }
   ],
   "source": [
    "reverse_string(\"the sky is blue \")"
   ]
  },
  {
   "cell_type": "code",
   "execution_count": null,
   "metadata": {
    "collapsed": true
   },
   "outputs": [],
   "source": [
    "'''\n",
    "Stock span problem buy-sell \n",
    "If you were only permitted to complete at most one transaction \n",
    "(ie, buy one and sell one share of the stock), design an algorithm to find the maximum profit.\n",
    "Return the maximum possible profit.\n",
    "\n",
    "Problem Constraints\n",
    "\n",
    "1 <= A[i] <= 1e7\n",
    "\n",
    "Example Input\n",
    "\n",
    "Input 1: A = [1, 2]\n",
    "\n",
    "Input 2: A = [1, 4, 5, 2, 4]\n",
    "\n",
    "Explanation 1: Buy the stock on day 0, and sell it on day 1.\n",
    "\n",
    "Explanation 2: Buy the stock on day 0, and sell it on day 2.\n",
    "'''"
   ]
  },
  {
   "cell_type": "code",
   "execution_count": 199,
   "metadata": {
    "collapsed": true
   },
   "outputs": [],
   "source": [
    "A=[1, 4, 5, 2, 4, 99, 13, 10, 190, 191, 11, 10]"
   ]
  },
  {
   "cell_type": "code",
   "execution_count": 200,
   "metadata": {},
   "outputs": [],
   "source": [
    "#Naive solution\n",
    "#Enumerate through all different combinations\n",
    "best_profit = 0\n",
    "dates=[0,0]\n",
    "for idx_buy in range(len(A)):\n",
    "    buy_price = A[idx_buy]\n",
    "    for idx_sell in range(idx_buy+1, len(A), 1):\n",
    "        sell_price = A[idx_sell]\n",
    "        if sell_price-buy_price>best_profit:\n",
    "            best_profit=sell_price-buy_price\n",
    "            dates=[idx_buy, idx_sell]"
   ]
  },
  {
   "cell_type": "code",
   "execution_count": null,
   "metadata": {
    "collapsed": true
   },
   "outputs": [],
   "source": [
    "#Alternative solution\n",
    "#Suppose you sort the list and returned the index position of the sorted results\n",
    "#Then just take the arguments of the sorted list at the beginning and end"
   ]
  },
  {
   "cell_type": "code",
   "execution_count": null,
   "metadata": {
    "collapsed": true
   },
   "outputs": [],
   "source": [
    "def merge_sort(span):\n",
    "    \n",
    "    if len(span)==1:        \n",
    "        return [span[0]]\n",
    "    elif len(span)==2:\n",
    "        if span[0]>span[1]:\n",
    "            return [span[1], span[0]]\n",
    "        else:\n",
    "            return [span[0], span[1]]\n",
    "    else:\n",
    "        span_left = span[:len(span)//2]\n",
    "        span_right = span[len(span)//2:]\n",
    "\n",
    "        left_best_span = best_span(span_left)\n",
    "        right_best_span = best_span(span_right)\n",
    "        \n",
    "        #Merge the left and right spans and sort \n",
    "        #How do i merge?\n",
    "        left_right_span = left_best_span + right_best_span\n",
    "        sorted_span = []\n",
    "        min_value=999999\n",
    "        min_idx=0\n",
    "        while len(left_right_span)!=0:\n",
    "            lowest_value = min(left_right_span)\n",
    "            sorted_span.append(lowest_value)\n",
    "            left_right_span.remove(lowest_value)\n",
    "        \n",
    "        return sorted_span    "
   ]
  },
  {
   "cell_type": "code",
   "execution_count": 212,
   "metadata": {},
   "outputs": [],
   "source": [
    "def best_span(span):\n",
    "    \n",
    "    if len(span)==1:        \n",
    "        return [span[0]]\n",
    "    elif len(span)==2:\n",
    "        if span[0]>span[1]:\n",
    "            return [span[1], span[0]]\n",
    "        else:\n",
    "            return [span[0], span[1]]\n",
    "    else:\n",
    "        span_left = span[:len(span)//2]\n",
    "        span_right = span[len(span)//2:]\n",
    "\n",
    "        left_best_span = best_span(span_left)\n",
    "        right_best_span = best_span(span_right)\n",
    "        \n",
    "        #Merge the left and right spans and sort \n",
    "        #How do i merge?\n",
    "        left_right_span = left_best_span + right_best_span\n",
    "        sorted_span = []\n",
    "        min_value=999999\n",
    "        min_idx=0\n",
    "        while len(left_right_span)!=0:\n",
    "            lowest_value = min(left_right_span)\n",
    "            sorted_span.append(lowest_value)\n",
    "            left_right_span.remove(lowest_value)\n",
    "        \n",
    "        return sorted_span\n",
    "        '''\n",
    "        min_value=999999\n",
    "        min_idx=0\n",
    "        for idx in range(len(left_right_span)):\n",
    "            if left_right_span[idx]<min_value:\n",
    "                min_value = left_right_span[idx]\n",
    "                min_idx=idx\n",
    "                sorted_span.append(min_value)\n",
    "        '''"
   ]
  },
  {
   "cell_type": "code",
   "execution_count": 213,
   "metadata": {},
   "outputs": [
    {
     "data": {
      "text/plain": [
       "[1, 2, 4, 4, 5, 10, 10, 11, 13, 99, 190, 191]"
      ]
     },
     "execution_count": 213,
     "metadata": {},
     "output_type": "execute_result"
    }
   ],
   "source": [
    "#Ended up writing merge sort instead...\n",
    "best_span(A)"
   ]
  },
  {
   "cell_type": "code",
   "execution_count": null,
   "metadata": {
    "collapsed": true
   },
   "outputs": [],
   "source": []
  }
 ],
 "metadata": {
  "kernelspec": {
   "display_name": "Python 3",
   "language": "python",
   "name": "python3"
  },
  "language_info": {
   "codemirror_mode": {
    "name": "ipython",
    "version": 3
   },
   "file_extension": ".py",
   "mimetype": "text/x-python",
   "name": "python",
   "nbconvert_exporter": "python",
   "pygments_lexer": "ipython3",
   "version": "3.6.1"
  }
 },
 "nbformat": 4,
 "nbformat_minor": 2
}
