{
 "cells": [
  {
   "cell_type": "code",
   "execution_count": 1,
   "metadata": {},
   "outputs": [],
   "source": [
    "import math\n",
    "import copy\n",
    "import numpy as np\n",
    "import pandas as pd\n",
    "import random\n",
    "\n",
    "import networkx as nx"
   ]
  },
  {
   "cell_type": "code",
   "execution_count": 2,
   "metadata": {},
   "outputs": [],
   "source": [
    "#This is a list of toy problems that would be useful to solve"
   ]
  },
  {
   "cell_type": "code",
   "execution_count": 3,
   "metadata": {},
   "outputs": [],
   "source": [
    "'''\n",
    "Question #1. \n",
    "\n",
    "Given a string of length n, write a function that outputs all permutations of the string\n",
    "#example, \"abc\" -> bca, cab, bac, etc\n",
    "'''\n",
    "    \n",
    "def perm(a, l=0):\n",
    "    \n",
    "    if(l==len(a)):\n",
    "        print (a, l)\n",
    "    else:\n",
    "        #This loop eventually passes over every index position in the list\n",
    "        #l represents the number of layers of the tree descent\n",
    "        #At the same time the process involves us fixing as many as one less then the total number of elements in the list, \n",
    "        #thus when descending we increment l, telling us that we are fixing the character at the lth index position with prior\n",
    "        #positions already fixed at higher levels of the tree\n",
    "        \n",
    "        #The key trick is to realize this should be written as a for loop!\n",
    "        for i in range(l, len(a)):\n",
    "            print ('i', i, 'l', l, 'length:', len(a))\n",
    "            print ('pre swap:', a, 'i:', i, 'l:', l)\n",
    "            a[l], a[i] = a[i], a[l]\n",
    "            print ('post swap:', a, 'i:', i, 'l:', l)\n",
    "            perm(a, l+1)\n",
    "            print ('post perm call:', a, 'i:', i, 'l:',l)\n",
    "            a[l], a[i] = a[i], a[l] #This line rearranges the elements to what they were prior to the last perm call, \n",
    "            #In other words we rearrange back to the pattern seen at the node of the prior layer and then loop back and descend \n",
    "            #once  more\n",
    "            #This is because once we have returned from the perm the list \"a\" represents the pattern at that level and not the\n",
    "            #returned level\n",
    "            print ('post backtrack:', a, 'i:', i, 'l:', l)"
   ]
  },
  {
   "cell_type": "code",
   "execution_count": 5,
   "metadata": {},
   "outputs": [],
   "source": [
    "'''\n",
    "Question 2. \n",
    "\n",
    "Find the square root of a number without using math functions\n",
    "'''"
   ]
  },
  {
   "cell_type": "code",
   "execution_count": 594,
   "metadata": {},
   "outputs": [],
   "source": [
    "#Doesn't always work, result is diverging\n",
    "#Have to use correct formula\n",
    "#Key to recognize using newton's method and apply it to root finding\n",
    "#Can't cut by half, have to cut by the estimate!\n",
    "def sqrtCutHalf(num, estimate, values, count=0):\n",
    "  \n",
    "    new_estimate = 0.5*(estimate+(num/estimate))\n",
    "    print (new_estimate)\n",
    "    #print (estimate, half_squared, diff_half, new_try)\n",
    "    values.append(new_estimate)\n",
    "    if count>10: \n",
    "        return values\n",
    "    else:\n",
    "        return sqrtCutHalf(num, new_estimate, values, count+1)"
   ]
  },
  {
   "cell_type": "code",
   "execution_count": 601,
   "metadata": {},
   "outputs": [
    {
     "name": "stdout",
     "output_type": "stream",
     "text": [
      "4.625\n",
      "3.393581081081081\n",
      "3.170160376279714\n",
      "3.162287460494848\n",
      "3.1622776601835656\n",
      "3.162277660168379\n",
      "3.162277660168379\n",
      "3.162277660168379\n",
      "3.162277660168379\n",
      "3.162277660168379\n",
      "3.162277660168379\n",
      "3.162277660168379\n"
     ]
    }
   ],
   "source": [
    "q = sqrtCutHalf(10, 8, [])"
   ]
  },
  {
   "cell_type": "code",
   "execution_count": 8,
   "metadata": {},
   "outputs": [],
   "source": [
    "'''\n",
    "Question 3.\n",
    "You are given a 2D array (representing a world map). Adjacent cells with the same number represents \n",
    "some nationality. Count the number of all nationalities. What is the right approach/algorithm here?\n",
    "Question is ambigious, is this count how many nationalities there are or count the population of each nationality?\n",
    "Do you know how many nationalities there are in total?\n",
    "Take \"easy\" problem, the number of nationalities is known\n",
    "assumption, diagonal cells are not adjacent\n",
    "'''"
   ]
  },
  {
   "cell_type": "code",
   "execution_count": 9,
   "metadata": {},
   "outputs": [],
   "source": [
    "#Construct an atlas of numbers\n",
    "atlas = np.random.randint(0, 10, size=(100, 100))\n",
    "#atlas = np.zeros(shape=(100, 100))"
   ]
  },
  {
   "cell_type": "code",
   "execution_count": 10,
   "metadata": {},
   "outputs": [],
   "source": [
    "atlas[0][0] = 1\n",
    "atlas[0][1] = 1\n",
    "atlas[0][2] = 1\n",
    "atlas[1][0] = 1"
   ]
  },
  {
   "cell_type": "code",
   "execution_count": 9,
   "metadata": {},
   "outputs": [],
   "source": [
    "nationality_count = {i:0 for i in range(10)}\n",
    "\n",
    "def incrementDict(element):\n",
    "    nationality_count[element]+=1\n",
    "\n",
    "def pairMatch(list_a, list_b):\n",
    "    #Assume both lists have same length\n",
    "    #You should count up the nationalities directly here otherwise you are passing through\n",
    "    #the list twice\n",
    "    pair_check = [incrementDict(element) for idx, element in enumerate(list_b) if element==list_a[idx]]\n",
    "    \n",
    "    return pair_check"
   ]
  },
  {
   "cell_type": "code",
   "execution_count": 10,
   "metadata": {},
   "outputs": [],
   "source": [
    "row_matches = [pairMatch(atlas[idx], atlas[idx+1]) for idx, row in enumerate(atlas) if idx!=len(atlas)-1]"
   ]
  },
  {
   "cell_type": "code",
   "execution_count": 11,
   "metadata": {},
   "outputs": [],
   "source": [
    "col_matches = [pairMatch(list(zip(*atlas))[idx], list(zip(*atlas))[idx+1]) for idx, row in \\\n",
    "               enumerate(list(zip(*atlas))) if idx!=len(atlas)-1]"
   ]
  },
  {
   "cell_type": "code",
   "execution_count": 12,
   "metadata": {},
   "outputs": [
    {
     "data": {
      "text/plain": [
       "{0: 206,\n",
       " 1: 227,\n",
       " 2: 208,\n",
       " 3: 224,\n",
       " 4: 182,\n",
       " 5: 191,\n",
       " 6: 196,\n",
       " 7: 205,\n",
       " 8: 185,\n",
       " 9: 243}"
      ]
     },
     "execution_count": 12,
     "metadata": {},
     "output_type": "execute_result"
    }
   ],
   "source": [
    "nationality_count"
   ]
  },
  {
   "cell_type": "code",
   "execution_count": 13,
   "metadata": {},
   "outputs": [],
   "source": [
    "#What if we just want to know how many nationalities there are?\n",
    "#Not count their population?\n",
    "\n",
    "#Possible algo\n",
    "\n",
    "#1. Start at any point in matrix\n",
    "#2. check four neighbors, are any a match? if not, junk the point and pick an adjacent point on the graph\n",
    "#, we junk because we don't need to revisit it again\n",
    "#3. if has a match, junk both the point and the adjacent matched point as we have found one pop type\n",
    "#and don't need to find it again, step to any other point\n",
    "#4. When picking new points, if point already in collection of nationalities just skip it"
   ]
  },
  {
   "cell_type": "code",
   "execution_count": 14,
   "metadata": {},
   "outputs": [],
   "source": [
    "#nationality_set = set([])"
   ]
  },
  {
   "cell_type": "code",
   "execution_count": 15,
   "metadata": {},
   "outputs": [],
   "source": [
    "#Have to watch out for wrap around\n",
    "def checkAdjacent(start_x, start_y, nationality_set):\n",
    "    new_nationality_found = -1\n",
    "    \n",
    "    if atlas[start_x][start_y] == atlas[start_x+1][start_y]:\n",
    "        set([atlas[start_x][start_y]]).union(nationality_set)\n",
    "        new_nationality_found = 0\n",
    "        \n",
    "    if atlas[start_x][start_y] == atlas[start_x][start_y+1]:\n",
    "        set([atlas[start_x][start_y]]).union(nationality_set)\n",
    "        new_nationality_found = 1\n",
    "\n",
    "    if atlas[start_x][start_y] == atlas[start_x-1][start_y]:\n",
    "        set([atlas[start_x][start_y]]).union(nationality_set)\n",
    "        new_nationality_found = 2\n",
    "    \n",
    "    if atlas[start_x][start_y] == atlas[start_x][start_y-1]:\n",
    "        set([atlas[start_x][start_y]]).union(nationality_set)\n",
    "        new_nationality_found = 3\n",
    "        \n",
    "    return [new_nationality_found]"
   ]
  },
  {
   "cell_type": "code",
   "execution_count": 21,
   "metadata": {},
   "outputs": [],
   "source": [
    "def exploreMatrix(start_x, start_y, nationality_set, test_count=0):\n",
    "        \n",
    "    if test_count>10000:\n",
    "        return nationality_set\n",
    "    \n",
    "    #print (test_count)\n",
    "    if start_x==0 or start_x==99 or start_y==0 or start_y==99:\n",
    "        \n",
    "        random_direction = np.random.randint(0, 4)\n",
    "        if random_direction == 0: return exploreMatrix(start_x+1, start_y, nationality_set, test_count+1)\n",
    "        if random_direction == 1: return exploreMatrix(start_x, start_y+1, nationality_set, test_count+1)\n",
    "        if random_direction == 2: return exploreMatrix(start_x-1, start_y, nationality_set, test_count+1)\n",
    "        if random_direction == 3: return exploreMatrix(start_x, start_y-1, nationality_set, test_count+1)\n",
    "            \n",
    "    #Check if already in nationality set\n",
    "    if atlas[start_x][start_y] in nationality_set:\n",
    "        \n",
    "        random_direction = np.random.randint(0, 4)\n",
    "        if random_direction == 0: return exploreMatrix(start_x+1, start_y, nationality_set, test_count+1)\n",
    "        if random_direction == 1: return exploreMatrix(start_x, start_y+1, nationality_set, test_count+1)\n",
    "        if random_direction == 2: return exploreMatrix(start_x-1, start_y, nationality_set, test_count+1)\n",
    "        if random_direction == 3: return exploreMatrix(start_x, start_y-1, nationality_set, test_count+1)\n",
    "    \n",
    "    nationality_direction = checkAdjacent(start_x, start_y, nationality_set)\n",
    "    \n",
    "    step_directions = list(set([0, 1, 2, 3]) - set(nationality_direction))\n",
    "    \n",
    "    next_step = random.choice(step_directions)\n",
    "    \n",
    "    if next_step == 0: return exploreMatrix(start_x+1, start_y, nationality_set, test_count+1)\n",
    "    if next_step == 1: return exploreMatrix(start_x, start_y+1, nationality_set, test_count+1)\n",
    "    if next_step == 2: return exploreMatrix(start_x-1, start_y, nationality_set, test_count+1)\n",
    "    if next_step == 3: return exploreMatrix(start_x, start_y-1, nationality_set, test_count+1)\n",
    "\n",
    "\n",
    "    #Whats the break condition?\n",
    "    #Has to be every node has been checked"
   ]
  },
  {
   "cell_type": "code",
   "execution_count": 7,
   "metadata": {},
   "outputs": [],
   "source": [
    "matrix_graph = nx.Graph()"
   ]
  },
  {
   "cell_type": "code",
   "execution_count": 11,
   "metadata": {},
   "outputs": [
    {
     "data": {
      "text/plain": [
       "array([[1, 1, 1, ..., 6, 3, 9],\n",
       "       [1, 8, 8, ..., 1, 5, 6],\n",
       "       [1, 9, 0, ..., 1, 2, 4],\n",
       "       ..., \n",
       "       [5, 3, 1, ..., 2, 0, 7],\n",
       "       [3, 6, 2, ..., 1, 0, 2],\n",
       "       [6, 1, 5, ..., 1, 3, 3]])"
      ]
     },
     "execution_count": 11,
     "metadata": {},
     "output_type": "execute_result"
    }
   ],
   "source": [
    "atlas"
   ]
  },
  {
   "cell_type": "code",
   "execution_count": null,
   "metadata": {},
   "outputs": [],
   "source": [
    "'''\n",
    "Question 4 \n",
    "\n",
    "Remove alternate duplicate elements in a list\n",
    "\n",
    "example: \"you got beautiful eyes\"\n",
    "Output: ”you gtbeaiful es”\n",
    "\n",
    "What if I remove all but the first appearance?\n",
    "Pass through list only once\n",
    "'''"
   ]
  },
  {
   "cell_type": "code",
   "execution_count": 12,
   "metadata": {},
   "outputs": [],
   "source": [
    "string = 'you got beautiful eyes'"
   ]
  },
  {
   "cell_type": "code",
   "execution_count": null,
   "metadata": {},
   "outputs": [],
   "source": [
    "#Find k largests elements in a list "
   ]
  },
  {
   "cell_type": "code",
   "execution_count": 48,
   "metadata": {},
   "outputs": [],
   "source": [
    "l = [1, 23, 12, 9, 30, 2, 50, 12, 49, 4, 26]"
   ]
  },
  {
   "cell_type": "code",
   "execution_count": 49,
   "metadata": {},
   "outputs": [],
   "source": [
    "#suppose k=1"
   ]
  },
  {
   "cell_type": "code",
   "execution_count": 50,
   "metadata": {},
   "outputs": [
    {
     "name": "stdout",
     "output_type": "stream",
     "text": [
      "50\n"
     ]
    }
   ],
   "source": [
    "max_element = -1\n",
    "for i in range(len(l)):\n",
    "    #print(l[i])\n",
    "    if l[i]>max_element: max_element=l[i]\n",
    "        \n",
    "print (max_element)"
   ]
  },
  {
   "cell_type": "code",
   "execution_count": 53,
   "metadata": {},
   "outputs": [],
   "source": [
    "#suppose k is arbritary\n",
    "k=4\n",
    "max_k = sorted(l[:k])\n",
    "for i in range(k, len(l), 1):\n",
    "    if l[i]>max_k[0]: \n",
    "        max_k[0]=l[i]\n",
    "        max_k = sorted(max_k)"
   ]
  },
  {
   "cell_type": "code",
   "execution_count": 54,
   "metadata": {},
   "outputs": [
    {
     "data": {
      "text/plain": [
       "[26, 30, 49, 50]"
      ]
     },
     "execution_count": 54,
     "metadata": {},
     "output_type": "execute_result"
    }
   ],
   "source": [
    "max_k"
   ]
  },
  {
   "cell_type": "code",
   "execution_count": null,
   "metadata": {},
   "outputs": [],
   "source": [
    "'''\n",
    "Question 5\n",
    "\n",
    "Given a matrix, rotate it 90 degrees counter-clockwise in place\n",
    " 1  2  3  4 \n",
    " 5  6  7  8 \n",
    " 9 10 11 12 \n",
    "13 14 15 16 \n",
    "\n",
    "Output:\n",
    " 4  8 12 16 \n",
    " 3  7 11 15 \n",
    " 2  6 10 14 \n",
    " 1  5  9 13\n",
    "'''"
   ]
  },
  {
   "cell_type": "code",
   "execution_count": 186,
   "metadata": {},
   "outputs": [],
   "source": [
    "matrix = np.array([[1,2,3,4], [5,6,7,8], [9,10,11,12], [13, 14, 15, 16]])"
   ]
  },
  {
   "cell_type": "code",
   "execution_count": 197,
   "metadata": {},
   "outputs": [],
   "source": [
    "n_size = len(matrix[0])"
   ]
  },
  {
   "cell_type": "code",
   "execution_count": null,
   "metadata": {},
   "outputs": [],
   "source": [
    "#The hardest part about this problem is the indexing\n",
    "#Its obvious there are cycles in a square matrix\n",
    "#the problem is knowing how to index the positions correctly\n",
    "#and realizing there are four swaps you have to make per loop"
   ]
  },
  {
   "cell_type": "code",
   "execution_count": 198,
   "metadata": {},
   "outputs": [],
   "source": [
    "#The number of \"square cycles is always half rounded down the size of the matrix\n",
    "for cycle in range(n_size//2):\n",
    "    #if cycle==0: continue\n",
    "    #In each cycle you have to move all the elements, going around in a circle\n",
    "    #Each cycle is smaller then the prior cycle (going from the outside of the matrix inside)\n",
    "    for x in range(cycle, n_size-cycle-1, 1):\n",
    "        \n",
    "        temp = matrix[cycle][x]\n",
    "        #Move mid right to mid left\n",
    "        matrix[cycle][x] = matrix[x][n_size-1-cycle]\n",
    "        #move bottom right to top right\n",
    "        matrix[x][n_size-1-cycle] = matrix[n_size-1-cycle][n_size-1-x]\n",
    "        #move bottom left to bottom right\n",
    "        matrix[n_size-1-cycle][n_size-1-x] = matrix[n_size-1-x][cycle]\n",
    "        #move top left to bottom left\n",
    "        matrix[n_size-1-x][cycle] = temp"
   ]
  },
  {
   "cell_type": "code",
   "execution_count": 199,
   "metadata": {},
   "outputs": [
    {
     "data": {
      "text/plain": [
       "array([[3, 6, 9],\n",
       "       [2, 5, 8],\n",
       "       [1, 4, 7]])"
      ]
     },
     "execution_count": 199,
     "metadata": {},
     "output_type": "execute_result"
    }
   ],
   "source": [
    "matrix"
   ]
  },
  {
   "cell_type": "code",
   "execution_count": 72,
   "metadata": {},
   "outputs": [],
   "source": [
    "#Without using inplace method\n",
    "matrix_new = np.zeros(shape=(3, 3))\n",
    "\n",
    "for i in range(len(matrix)):\n",
    "    matrix_new[:,i] = sorted(matrix[i], reverse=True)"
   ]
  },
  {
   "cell_type": "code",
   "execution_count": null,
   "metadata": {},
   "outputs": [],
   "source": [
    "'''\n",
    "Question 6\n",
    "\n",
    "Next Greater Element\n",
    "Given an array, print the Next Greater Element (NGE) for every element. \n",
    "The Next greater Element for an element x is the first greater element on the right side of x in array. \n",
    "Elements for which no greater element exist, consider next greater element as -1.\n",
    "\n",
    "Example:\n",
    "\n",
    "[4, 5, 2, 25}\n",
    "\n",
    "Element       NGE\n",
    "   4      -->   5\n",
    "   5      -->   25\n",
    "   2      -->   25\n",
    "   25     -->   -1\n",
    "'''"
   ]
  },
  {
   "cell_type": "code",
   "execution_count": 213,
   "metadata": {},
   "outputs": [],
   "source": [
    "elements = [13, 7, 6, 12]\n",
    "nge = []"
   ]
  },
  {
   "cell_type": "code",
   "execution_count": 214,
   "metadata": {},
   "outputs": [],
   "source": [
    "sorted_elements = sorted(elements)"
   ]
  },
  {
   "cell_type": "code",
   "execution_count": 215,
   "metadata": {},
   "outputs": [
    {
     "data": {
      "text/plain": [
       "([6, 7, 12, 13], [13, 7, 6, 12])"
      ]
     },
     "execution_count": 215,
     "metadata": {},
     "output_type": "execute_result"
    }
   ],
   "source": [
    "sorted_elements, elements"
   ]
  },
  {
   "cell_type": "code",
   "execution_count": 216,
   "metadata": {},
   "outputs": [
    {
     "name": "stdout",
     "output_type": "stream",
     "text": [
      "13 -1\n",
      "7 12\n",
      "6 12\n",
      "12 -1\n"
     ]
    }
   ],
   "source": [
    "for i in range(len(elements)):\n",
    "    found_nge = 0\n",
    "    for j in range(i, len(elements), 1):\n",
    "        if elements[j]>elements[i]:\n",
    "            print (elements[i], elements[j])\n",
    "            found_nge = 1\n",
    "            break\n",
    "    if found_nge == 0:\n",
    "        print (elements[i], -1)            "
   ]
  },
  {
   "cell_type": "code",
   "execution_count": 234,
   "metadata": {},
   "outputs": [],
   "source": [
    "#Faster solution"
   ]
  },
  {
   "cell_type": "code",
   "execution_count": 230,
   "metadata": {},
   "outputs": [],
   "source": [
    "# Python program to print next greater element using stack\n",
    " \n",
    "def createStack():\n",
    "    stack = []\n",
    "    return stack\n",
    " \n",
    "def isEmpty(stack):\n",
    "    return len(stack) == 0\n",
    " \n",
    "def push(stack, x):\n",
    "    stack.append(x)\n",
    " \n",
    "def pop(stack):\n",
    "    if isEmpty(stack):\n",
    "        print(\"Error : stack underflow\")\n",
    "    else:\n",
    "        return stack.pop()"
   ]
  },
  {
   "cell_type": "code",
   "execution_count": 231,
   "metadata": {},
   "outputs": [],
   "source": [
    "def printNGE(arr):\n",
    "    s = createStack()\n",
    "    element = 0\n",
    "    next = 0\n",
    " \n",
    "    # push the first element to stack\n",
    "    push(s, arr[0])\n",
    " \n",
    "    # iterate for rest of the elements\n",
    "    for i in range(1, len(arr), 1):\n",
    "        next = arr[i]\n",
    " \n",
    "        if isEmpty(s) == False:\n",
    " \n",
    "            # if stack is not empty, then pop an element from stack\n",
    "            element = pop(s)\n",
    " \n",
    "            '''If the popped element is smaller than next, then\n",
    "                a) print the pair\n",
    "                b) keep popping while elements are smaller and\n",
    "                   stack is not empty '''\n",
    "            while element < next :\n",
    "                print(str(element)+ \" -- \" + str(next))\n",
    "                if isEmpty(s) == True :\n",
    "                    break\n",
    "                element = pop(s)\n",
    " \n",
    "            '''If element is greater than next, then push\n",
    "               the element back '''\n",
    "            if  element > next:\n",
    "                push(s, element)\n",
    " \n",
    "        '''push next to stack so that we can find\n",
    "           next greater for it '''\n",
    "        push(s, next)\n",
    " \n",
    "    '''After iterating over the loop, the remaining\n",
    "       elements in stack do not have the next greater\n",
    "       element, so print -1 for them '''\n",
    " \n",
    "    while isEmpty(s) == False:\n",
    "            element = pop(s)\n",
    "            next = -1\n",
    "            print(str(element) + \" -- \" + str(next))"
   ]
  },
  {
   "cell_type": "code",
   "execution_count": 233,
   "metadata": {},
   "outputs": [
    {
     "name": "stdout",
     "output_type": "stream",
     "text": [
      "2 -- 4\n",
      "3 -- 4\n",
      "2 -- -1\n",
      "4 -- -1\n"
     ]
    }
   ],
   "source": [
    "printNGE([3, 2, 4, 2])"
   ]
  },
  {
   "cell_type": "code",
   "execution_count": null,
   "metadata": {},
   "outputs": [],
   "source": [
    "'''\n",
    "Question 7\n",
    "\n",
    "Given an array of positive numbers, find the maximum sum of a subsequence with the \n",
    "constraint that no 2 numbers in the sequence should be adjacent in the array. \n",
    "So 3 2 7 10 should return 13 (sum of 3 and 10) or 3 2 5 10 7 should return 15 (sum of 3, 5 and 7).\n",
    "Answer the question in most efficient way.\n",
    "\n",
    "Examples:\n",
    "\n",
    "Input : arr[] = {5, 5, 10, 100, 10, 5}\n",
    "Output : 110\n",
    "\n",
    "Input : arr[] = {1, 2, 3}\n",
    "Output : 4\n",
    "\n",
    "Input : arr[] = {1, 20, 3}\n",
    "Output : 20\n",
    "'''"
   ]
  },
  {
   "cell_type": "code",
   "execution_count": 425,
   "metadata": {},
   "outputs": [],
   "source": [
    "array = [5, 5, 10, 40, 3, 1]"
   ]
  },
  {
   "cell_type": "code",
   "execution_count": 426,
   "metadata": {},
   "outputs": [],
   "source": [
    "'''\n",
    "Dynamic programming problem, have to keep track of two running sums.\n",
    "\n",
    "Inclusive: The best possible sum if I include the current number\n",
    "Exclusive: The best possible sum if I don't include the current number\n",
    "'''\n",
    "\n",
    "incl = 0\n",
    "excl = 0\n",
    "for index, i in enumerate(array):\n",
    "    #print (index, 'step0:', i, incl, excl)\n",
    "#    new_excl = excl if excl>incl else incl #Why do we need this if else here?\n",
    "    new_excl = incl\n",
    "    # Current max including i\n",
    "    incl = excl + i\n",
    "    #print (index, 'step1:', i, incl, excl)\n",
    "\n",
    "    excl = new_excl\n",
    "    #print (index, 'step2:', i, incl, excl)"
   ]
  },
  {
   "cell_type": "code",
   "execution_count": 427,
   "metadata": {},
   "outputs": [
    {
     "data": {
      "text/plain": [
       "(46, 18)"
      ]
     },
     "execution_count": 427,
     "metadata": {},
     "output_type": "execute_result"
    }
   ],
   "source": [
    "'''\n",
    "Question 8\n",
    "\n",
    "Given two strings str1 and str2 and below operations \n",
    "that can performed on str1. Find minimum number of edits (operations) required to convert ‘str1’ into ‘str2’.\n",
    "\n",
    "Insert\n",
    "Remove\n",
    "Replace\n",
    "All of the above operations are of equal cost.\n",
    "\n",
    "Example:\n",
    "\n",
    "Input:   str1 = \"geek\", str2 = \"gesek\"\n",
    "Output:  1\n",
    "We can convert str1 into str2 by inserting a 's'.\n",
    "\n",
    "Input:   str1 = \"cat\", str2 = \"cut\"\n",
    "Output:  1\n",
    "We can convert str1 into str2 by replacing 'a' with 'u'.\n",
    "\n",
    "Input:   str1 = \"sunday\", str2 = \"saturday\"\n",
    "Output:  3\n",
    "Last three and first characters are same.  We basically\n",
    "need to convert \"un\" to \"atur\".  This can be done using\n",
    "below three operations. \n",
    "Replace 'n' with 'r', insert t, insert a\n",
    "'''"
   ]
  },
  {
   "cell_type": "code",
   "execution_count": 6,
   "metadata": {},
   "outputs": [],
   "source": [
    "str1 = 'geek'\n",
    "str2 = 'gesekt'"
   ]
  },
  {
   "cell_type": "code",
   "execution_count": 7,
   "metadata": {},
   "outputs": [],
   "source": [
    "#Initial position has to be at back of string\n",
    "def editDistance(str1, str2, str1_pos, str2_pos, score=0):\n",
    "    #These two are the crucial \"bottoms\" of the recursive function and hard to understand\n",
    "    if str1_pos==0:\n",
    "        return str2_pos\n",
    "    if str2_pos==0:\n",
    "        return str1_pos\n",
    "    \n",
    "    #print (str1[str1_pos], str2[str2_pos])\n",
    "    if str1[str1_pos]==str2[str2_pos]:\n",
    "        return editDistance(str1, str2, str1_pos-1, str2_pos-1)\n",
    "    else:\n",
    "        #Why is this 1+ needed? maybe you need the 1 because the element positions start counting from 0 and not 1?\n",
    "        return 1+min(editDistance(str1, str2, str1_pos-1, str2_pos), editDistance(str1, str2, str1_pos, str2_pos-1), \\\n",
    "            editDistance(str1, str2, str1_pos-1, str2_pos-1))"
   ]
  },
  {
   "cell_type": "code",
   "execution_count": 8,
   "metadata": {},
   "outputs": [
    {
     "data": {
      "text/plain": [
       "2"
      ]
     },
     "execution_count": 8,
     "metadata": {},
     "output_type": "execute_result"
    }
   ],
   "source": [
    "editDistance(str1, str2, len(str1)-1, len(str2)-1)"
   ]
  },
  {
   "cell_type": "code",
   "execution_count": 9,
   "metadata": {},
   "outputs": [],
   "source": [
    "#Dynamic programming solution"
   ]
  },
  {
   "cell_type": "code",
   "execution_count": 44,
   "metadata": {},
   "outputs": [],
   "source": [
    "str1='sunday'\n",
    "str2='saturday'"
   ]
  },
  {
   "cell_type": "code",
   "execution_count": 45,
   "metadata": {},
   "outputs": [],
   "source": [
    "edit_matrix= [[0 for i in range(len(str2)+1)] for j in range(len(str1)+1)]"
   ]
  },
  {
   "cell_type": "code",
   "execution_count": 46,
   "metadata": {},
   "outputs": [
    {
     "data": {
      "text/plain": [
       "[[0, 0, 0, 0, 0, 0, 0, 0, 0],\n",
       " [0, 0, 0, 0, 0, 0, 0, 0, 0],\n",
       " [0, 0, 0, 0, 0, 0, 0, 0, 0],\n",
       " [0, 0, 0, 0, 0, 0, 0, 0, 0],\n",
       " [0, 0, 0, 0, 0, 0, 0, 0, 0],\n",
       " [0, 0, 0, 0, 0, 0, 0, 0, 0],\n",
       " [0, 0, 0, 0, 0, 0, 0, 0, 0]]"
      ]
     },
     "execution_count": 46,
     "metadata": {},
     "output_type": "execute_result"
    }
   ],
   "source": [
    "edit_matrix"
   ]
  },
  {
   "cell_type": "code",
   "execution_count": 47,
   "metadata": {},
   "outputs": [],
   "source": [
    "for idx_1 in range(len(str1)+1):\n",
    "    for idx_2 in range(len(str2)+1):\n",
    "        if idx_1==0:\n",
    "            edit_matrix[idx_1][idx_2] = idx_2 #this means it takes j moves to transform blank to w/e j is (j could be zero)\n",
    "        \n",
    "        elif idx_2==0:\n",
    "            edit_matrix[idx_1][idx_2] = idx_1 #this means the reverse, if j is zero it takes i  moves to transform it from blank\n",
    "            \n",
    "        elif str1[idx_1-1] == str2[idx_2-1]: #in this case always take diagonal element before\n",
    "            edit_matrix[idx_1][idx_2] = edit_matrix[idx_1-1][idx_2-1]\n",
    "        \n",
    "        else:\n",
    "            #other wise its one move (which is the cost of modifying the current char to be the same) + the least amount of \n",
    "            #mods from the prior char position, the least amount of moves from the previous char position given all possible\n",
    "            #ways of moving is giving by replace, add, and modify\n",
    "            edit_matrix[idx_1][idx_2] = 1 + min(edit_matrix[idx_1-1][idx_2-1], \n",
    "                                                edit_matrix[idx_1][idx_2-1], \n",
    "                                                edit_matrix[idx_1-1][idx_2])"
   ]
  },
  {
   "cell_type": "code",
   "execution_count": 48,
   "metadata": {},
   "outputs": [
    {
     "data": {
      "text/plain": [
       "[[0, 1, 2, 3, 4, 5, 6, 7, 8],\n",
       " [1, 0, 1, 2, 3, 4, 5, 6, 7],\n",
       " [2, 1, 1, 2, 2, 3, 4, 5, 6],\n",
       " [3, 2, 2, 2, 3, 3, 4, 5, 6],\n",
       " [4, 3, 3, 3, 3, 4, 3, 4, 5],\n",
       " [5, 4, 3, 4, 4, 4, 4, 3, 4],\n",
       " [6, 5, 4, 4, 5, 5, 5, 4, 3]]"
      ]
     },
     "execution_count": 48,
     "metadata": {},
     "output_type": "execute_result"
    }
   ],
   "source": [
    "edit_matrix"
   ]
  },
  {
   "cell_type": "code",
   "execution_count": null,
   "metadata": {},
   "outputs": [],
   "source": [
    "'''\n",
    "Question 9\n",
    "\n",
    "The Stock Span Problem\n",
    "\n",
    "The stock span problem is a financial problem where \n",
    "we have a series of n daily price quotes for a stock and \n",
    "we need to calculate span of stock’s price for all n days. \n",
    "\n",
    "The span Si of the stock’s price on a given day i is defined as the \n",
    "maximum number of consecutive days just before the given day, \n",
    "for which the price of the stock on the current day is less than or \n",
    "equal to its price on the given day.\n",
    "For example, if an array of 7 days prices is given as {100, 80, 60, 70, 60, 75, 85}, \n",
    "then the span values for corresponding 7 days are {1, 1, 1, 2, 1, 4, 6}\n",
    "'''"
   ]
  },
  {
   "cell_type": "code",
   "execution_count": 98,
   "metadata": {},
   "outputs": [],
   "source": [
    "stock_price = [100, 80, 60, 70, 60, 75, 85]\n",
    "stock_price = [10, 4, 5, 90, 120, 80]"
   ]
  },
  {
   "cell_type": "code",
   "execution_count": 99,
   "metadata": {},
   "outputs": [],
   "source": [
    "span = [-1 for i in range(len(stock_price))]"
   ]
  },
  {
   "cell_type": "code",
   "execution_count": 100,
   "metadata": {},
   "outputs": [
    {
     "data": {
      "text/plain": [
       "[10, 4, 5, 90, 120, 80]"
      ]
     },
     "execution_count": 100,
     "metadata": {},
     "output_type": "execute_result"
    }
   ],
   "source": [
    "stock_price"
   ]
  },
  {
   "cell_type": "code",
   "execution_count": 101,
   "metadata": {},
   "outputs": [],
   "source": [
    "for idx_i in range(len(stock_price)):\n",
    "    if idx_i==0: #Assuming this a default state\n",
    "        span[0]=1\n",
    "    else:            \n",
    "        span_sum = 0\n",
    "        for idx_j in reversed(range(0, len(stock_price[:idx_i]), 1)):\n",
    "            if stock_price[idx_i]<stock_price[idx_j]:\n",
    "                span[idx_i] = (idx_i-idx_j)\n",
    "                break"
   ]
  },
  {
   "cell_type": "code",
   "execution_count": 102,
   "metadata": {},
   "outputs": [
    {
     "data": {
      "text/plain": [
       "[1, 1, 2, -1, -1, 1]"
      ]
     },
     "execution_count": 102,
     "metadata": {},
     "output_type": "execute_result"
    }
   ],
   "source": [
    "span"
   ]
  },
  {
   "cell_type": "code",
   "execution_count": 108,
   "metadata": {},
   "outputs": [],
   "source": [
    "a = [2, 3, 1]"
   ]
  },
  {
   "cell_type": "code",
   "execution_count": 109,
   "metadata": {},
   "outputs": [
    {
     "data": {
      "text/plain": [
       "2"
      ]
     },
     "execution_count": 109,
     "metadata": {},
     "output_type": "execute_result"
    }
   ],
   "source": [
    "a[0]"
   ]
  },
  {
   "cell_type": "code",
   "execution_count": 110,
   "metadata": {},
   "outputs": [
    {
     "data": {
      "text/plain": [
       "1"
      ]
     },
     "execution_count": 110,
     "metadata": {},
     "output_type": "execute_result"
    }
   ],
   "source": [
    "a.pop()"
   ]
  },
  {
   "cell_type": "code",
   "execution_count": 111,
   "metadata": {},
   "outputs": [
    {
     "data": {
      "text/plain": [
       "2"
      ]
     },
     "execution_count": 111,
     "metadata": {},
     "output_type": "execute_result"
    }
   ],
   "source": [
    "a[0]"
   ]
  },
  {
   "cell_type": "code",
   "execution_count": null,
   "metadata": {},
   "outputs": [],
   "source": []
  }
 ],
 "metadata": {
  "kernelspec": {
   "display_name": "Python 3",
   "language": "python",
   "name": "python3"
  },
  "language_info": {
   "codemirror_mode": {
    "name": "ipython",
    "version": 3
   },
   "file_extension": ".py",
   "mimetype": "text/x-python",
   "name": "python",
   "nbconvert_exporter": "python",
   "pygments_lexer": "ipython3",
   "version": "3.5.4"
  }
 },
 "nbformat": 4,
 "nbformat_minor": 2
}
