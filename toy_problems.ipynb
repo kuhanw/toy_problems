{
 "cells": [
  {
   "cell_type": "code",
   "execution_count": 1,
   "metadata": {
    "collapsed": true
   },
   "outputs": [],
   "source": [
    "import math\n",
    "import copy\n",
    "import numpy as np\n",
    "import pandas as pd\n",
    "import random\n",
    "\n",
    "import networkx as nx"
   ]
  },
  {
   "cell_type": "code",
   "execution_count": 2,
   "metadata": {
    "collapsed": true
   },
   "outputs": [],
   "source": [
    "#This is a list of toy problems that would be useful to solve"
   ]
  },
  {
   "cell_type": "code",
   "execution_count": 3,
   "metadata": {
    "collapsed": true
   },
   "outputs": [],
   "source": [
    "'''\n",
    "Question #1. \n",
    "\n",
    "Given a string of length n, write a function that outputs all permutations of the string\n",
    "#example, \"abc\" -> bca, cab, bac, etc\n",
    "'''\n",
    "    \n",
    "def perm(a, l=0):\n",
    "    \n",
    "    if(l==len(a)):\n",
    "        print (a, l)\n",
    "    else:\n",
    "        #This loop eventually passes over every index position in the list\n",
    "        #l represents the number of layers of the tree descent\n",
    "        #At the same time the process involves us fixing as many as one less \n",
    "        #then the total number of elements in the list, \n",
    "        #thus when descending we increment l, telling us that we are fixing the character \n",
    "        #at the lth index position with prior\n",
    "        #positions already fixed at higher levels of the tree\n",
    "        \n",
    "        #The key trick is to realize this should be written as a for loop!\n",
    "        for i in range(l, len(a)):\n",
    "            print ('i', i, 'l', l, 'length:', len(a))\n",
    "            print ('pre swap:', a, 'i:', i, 'l:', l)\n",
    "            a[l], a[i] = a[i], a[l]\n",
    "            print ('post swap:', a, 'i:', i, 'l:', l)\n",
    "            perm(a, l+1)\n",
    "            print ('post perm call:', a, 'i:', i, 'l:',l)\n",
    "            a[l], a[i] = a[i], a[l] #This line rearranges the elements to what they were prior to the last perm call, \n",
    "            #In other words we rearrange back to the pattern seen at the node of the prior layer and then loop back and descend \n",
    "            #once  more\n",
    "            #This is because once we have returned from the perm the list \"a\" represents the pattern at that level and not the\n",
    "            #returned level\n",
    "            print ('post backtrack:', a, 'i:', i, 'l:', l)"
   ]
  },
  {
   "cell_type": "code",
   "execution_count": 743,
   "metadata": {
    "collapsed": true
   },
   "outputs": [],
   "source": [
    "import itertools"
   ]
  },
  {
   "cell_type": "code",
   "execution_count": 747,
   "metadata": {},
   "outputs": [
    {
     "data": {
      "text/plain": [
       "'itertools'"
      ]
     },
     "execution_count": 747,
     "metadata": {},
     "output_type": "execute_result"
    }
   ],
   "source": [
    "itertools.__name__"
   ]
  },
  {
   "cell_type": "code",
   "execution_count": 775,
   "metadata": {
    "collapsed": true
   },
   "outputs": [],
   "source": [
    "indices = list(range(5))"
   ]
  },
  {
   "cell_type": "code",
   "execution_count": 776,
   "metadata": {},
   "outputs": [
    {
     "data": {
      "text/plain": [
       "[0, 1, 2, 3, 4]"
      ]
     },
     "execution_count": 776,
     "metadata": {},
     "output_type": "execute_result"
    }
   ],
   "source": [
    "indices"
   ]
  },
  {
   "cell_type": "code",
   "execution_count": 777,
   "metadata": {
    "collapsed": true
   },
   "outputs": [],
   "source": [
    "i=1"
   ]
  },
  {
   "cell_type": "code",
   "execution_count": 778,
   "metadata": {
    "collapsed": true
   },
   "outputs": [],
   "source": [
    "indices[i:] = indices[i+1:] + indices[i:i+1]"
   ]
  },
  {
   "cell_type": "code",
   "execution_count": 779,
   "metadata": {},
   "outputs": [
    {
     "data": {
      "text/plain": [
       "[0, 2, 3, 4, 1]"
      ]
     },
     "execution_count": 779,
     "metadata": {},
     "output_type": "execute_result"
    }
   ],
   "source": [
    "indices"
   ]
  },
  {
   "cell_type": "code",
   "execution_count": 798,
   "metadata": {},
   "outputs": [
    {
     "name": "stdout",
     "output_type": "stream",
     "text": [
      "1 2\n",
      "1 1\n",
      "1 1 [0, 1, 2] 1 2\n",
      "1 1 2 1\n",
      "1 1\n",
      "1 0\n",
      "0 3\n",
      "0 2\n",
      "0 2 [0, 1, 2] 0 1\n",
      "0 2 1 0\n",
      "1 2\n",
      "1 1\n",
      "1 1 [1, 0, 2] 0 2\n",
      "1 1 2 0\n",
      "1 1\n",
      "1 0\n",
      "0 2\n",
      "0 1\n",
      "0 1 [1, 0, 2] 1 2\n",
      "0 1 2 1\n",
      "1 2\n",
      "1 1\n",
      "1 1 [2, 0, 1] 0 1\n",
      "1 1 1 0\n",
      "1 1\n",
      "1 0\n",
      "0 1\n",
      "0 0\n"
     ]
    },
    {
     "data": {
      "text/plain": [
       "[('a', 'b'), ('a', 'c'), ('b', 'a'), ('b', 'c'), ('c', 'a'), ('c', 'b')]"
      ]
     },
     "execution_count": 798,
     "metadata": {},
     "output_type": "execute_result"
    }
   ],
   "source": [
    "[i for i in permutations('abc', 2)]"
   ]
  },
  {
   "cell_type": "code",
   "execution_count": 795,
   "metadata": {
    "collapsed": true
   },
   "outputs": [],
   "source": [
    "'''\n",
    "Permutations of select length\n",
    "'''\n",
    "def permutations(iterable, r=None):\n",
    "    # permutations('ABCD', 2) --> AB AC AD BA BC BD CA CB CD DA DB DC\n",
    "    # permutations(range(3)) --> 012 021 102 120 201 210\n",
    "    pool = tuple(iterable)\n",
    "    n = len(pool)\n",
    "    r = n if r is None else r\n",
    "    if r > n:\n",
    "        return\n",
    "    indices = list(range(n))\n",
    "    cycles = list(range(n, n-r, -1))\n",
    "    yield tuple(pool[i] for i in indices[:r])\n",
    "    while n:\n",
    "        for i in reversed(range(r)):\n",
    "            print (i, cycles[i])\n",
    "            cycles[i] -= 1\n",
    "            print (i, cycles[i])\n",
    "            if cycles[i] == 0:\n",
    "                indices[i:] = indices[i+1:] + indices[i:i+1]\n",
    "                cycles[i] = n - i\n",
    "            else:\n",
    "                j = cycles[i]\n",
    "                print (i, j, indices, indices[i], indices[-j])\n",
    "                indices[i], indices[-j] = indices[-j], indices[i]\n",
    "                print (i, j, indices[i], indices[-j])\n",
    "                yield tuple(pool[i] for i in indices[:r])\n",
    "                break\n",
    "        else:\n",
    "            return"
   ]
  },
  {
   "cell_type": "code",
   "execution_count": 789,
   "metadata": {
    "collapsed": true
   },
   "outputs": [],
   "source": [
    "'''\n",
    "Permutations of select length\n",
    "'''\n",
    "def permutations(iterable, r=None):\n",
    "    # permutations('ABCD', 2) --> AB AC AD BA BC BD CA CB CD DA DB DC\n",
    "    # permutations(range(3)) --> 012 021 102 120 201 210\n",
    "    pool = tuple(iterable)\n",
    "    n = len(pool)\n",
    "    r = n if r is None else r\n",
    "    if r > n:\n",
    "        return\n",
    "    indices = list(range(n))\n",
    "    cycles = list(range(n, n-r, -1))\n",
    "    yield tuple(pool[i] for i in indices[:r])\n",
    "    while n:\n",
    "        for i in reversed(range(r)):\n",
    "            print (i, list(reversed(range(r))))\n",
    "            \n",
    "            yield(i)\n",
    "        else:\n",
    "            return"
   ]
  },
  {
   "cell_type": "code",
   "execution_count": 790,
   "metadata": {
    "collapsed": true
   },
   "outputs": [],
   "source": [
    "q = permutations('abc', 2)"
   ]
  },
  {
   "cell_type": "code",
   "execution_count": 794,
   "metadata": {},
   "outputs": [
    {
     "ename": "StopIteration",
     "evalue": "",
     "output_type": "error",
     "traceback": [
      "\u001b[1;31m---------------------------------------------------------------------------\u001b[0m",
      "\u001b[1;31mStopIteration\u001b[0m                             Traceback (most recent call last)",
      "\u001b[1;32m<ipython-input-794-e377ae2c7384>\u001b[0m in \u001b[0;36m<module>\u001b[1;34m()\u001b[0m\n\u001b[1;32m----> 1\u001b[1;33m \u001b[0mnext\u001b[0m\u001b[1;33m(\u001b[0m\u001b[0mq\u001b[0m\u001b[1;33m)\u001b[0m\u001b[1;33m\u001b[0m\u001b[0m\n\u001b[0m",
      "\u001b[1;31mStopIteration\u001b[0m: "
     ]
    }
   ],
   "source": [
    "next(q)"
   ]
  },
  {
   "cell_type": "code",
   "execution_count": 5,
   "metadata": {
    "collapsed": true
   },
   "outputs": [],
   "source": [
    "'''\n",
    "Question 2. \n",
    "\n",
    "Find the square root of a number without using math functions\n",
    "'''"
   ]
  },
  {
   "cell_type": "code",
   "execution_count": 594,
   "metadata": {
    "collapsed": true
   },
   "outputs": [],
   "source": [
    "#Doesn't always work, result is diverging\n",
    "#Have to use correct formula\n",
    "#Key to recognize using newton's method and apply it to root finding\n",
    "#Can't cut by half, have to cut by the estimate!\n",
    "def sqrtCutHalf(num, estimate, values, count=0):\n",
    "  \n",
    "    new_estimate = 0.5*(estimate+(num/estimate))\n",
    "    print (new_estimate)\n",
    "    #print (estimate, half_squared, diff_half, new_try)\n",
    "    values.append(new_estimate)\n",
    "    if count>10: \n",
    "        return values\n",
    "    else:\n",
    "        return sqrtCutHalf(num, new_estimate, values, count+1)"
   ]
  },
  {
   "cell_type": "code",
   "execution_count": 601,
   "metadata": {},
   "outputs": [
    {
     "name": "stdout",
     "output_type": "stream",
     "text": [
      "4.625\n",
      "3.393581081081081\n",
      "3.170160376279714\n",
      "3.162287460494848\n",
      "3.1622776601835656\n",
      "3.162277660168379\n",
      "3.162277660168379\n",
      "3.162277660168379\n",
      "3.162277660168379\n",
      "3.162277660168379\n",
      "3.162277660168379\n",
      "3.162277660168379\n"
     ]
    }
   ],
   "source": [
    "q = sqrtCutHalf(10, 8, [])"
   ]
  },
  {
   "cell_type": "code",
   "execution_count": 8,
   "metadata": {
    "collapsed": true
   },
   "outputs": [],
   "source": [
    "'''\n",
    "Question 3.\n",
    "You are given a 2D array (representing a world map). Adjacent cells with the same number represents \n",
    "some nationality. Count the number of all nationalities. What is the right approach/algorithm here?\n",
    "Question is ambigious, is this count how many nationalities there are or count the population of each nationality?\n",
    "Do you know how many nationalities there are in total?\n",
    "Take \"easy\" problem, the number of nationalities is known\n",
    "assumption, diagonal cells are not adjacent\n",
    "'''"
   ]
  },
  {
   "cell_type": "code",
   "execution_count": 9,
   "metadata": {
    "collapsed": true
   },
   "outputs": [],
   "source": [
    "#Construct an atlas of numbers\n",
    "atlas = np.random.randint(0, 10, size=(100, 100))\n",
    "#atlas = np.zeros(shape=(100, 100))"
   ]
  },
  {
   "cell_type": "code",
   "execution_count": 10,
   "metadata": {
    "collapsed": true
   },
   "outputs": [],
   "source": [
    "atlas[0][0] = 1\n",
    "atlas[0][1] = 1\n",
    "atlas[0][2] = 1\n",
    "atlas[1][0] = 1"
   ]
  },
  {
   "cell_type": "code",
   "execution_count": 9,
   "metadata": {
    "collapsed": true
   },
   "outputs": [],
   "source": [
    "nationality_count = {i:0 for i in range(10)}\n",
    "\n",
    "def incrementDict(element):\n",
    "    nationality_count[element]+=1\n",
    "\n",
    "def pairMatch(list_a, list_b):\n",
    "    #Assume both lists have same length\n",
    "    #You should count up the nationalities directly here otherwise you are passing through\n",
    "    #the list twice\n",
    "    pair_check = [incrementDict(element) for idx, element in enumerate(list_b) if element==list_a[idx]]\n",
    "    \n",
    "    return pair_check"
   ]
  },
  {
   "cell_type": "code",
   "execution_count": 10,
   "metadata": {
    "collapsed": true
   },
   "outputs": [],
   "source": [
    "row_matches = [pairMatch(atlas[idx], atlas[idx+1]) for idx, row in enumerate(atlas) if idx!=len(atlas)-1]"
   ]
  },
  {
   "cell_type": "code",
   "execution_count": 11,
   "metadata": {
    "collapsed": true
   },
   "outputs": [],
   "source": [
    "col_matches = [pairMatch(list(zip(*atlas))[idx], list(zip(*atlas))[idx+1]) for idx, row in \\\n",
    "               enumerate(list(zip(*atlas))) if idx!=len(atlas)-1]"
   ]
  },
  {
   "cell_type": "code",
   "execution_count": 12,
   "metadata": {},
   "outputs": [
    {
     "data": {
      "text/plain": [
       "{0: 206,\n",
       " 1: 227,\n",
       " 2: 208,\n",
       " 3: 224,\n",
       " 4: 182,\n",
       " 5: 191,\n",
       " 6: 196,\n",
       " 7: 205,\n",
       " 8: 185,\n",
       " 9: 243}"
      ]
     },
     "execution_count": 12,
     "metadata": {},
     "output_type": "execute_result"
    }
   ],
   "source": [
    "nationality_count"
   ]
  },
  {
   "cell_type": "code",
   "execution_count": 13,
   "metadata": {
    "collapsed": true
   },
   "outputs": [],
   "source": [
    "#What if we just want to know how many nationalities there are?\n",
    "#Not count their population?\n",
    "\n",
    "#Possible algo\n",
    "\n",
    "#1. Start at any point in matrix\n",
    "#2. check four neighbors, are any a match? if not, junk the point and pick an adjacent point on the graph\n",
    "#, we junk because we don't need to revisit it again\n",
    "#3. if has a match, junk both the point and the adjacent matched point as we have found one pop type\n",
    "#and don't need to find it again, step to any other point\n",
    "#4. When picking new points, if point already in collection of nationalities just skip it"
   ]
  },
  {
   "cell_type": "code",
   "execution_count": 14,
   "metadata": {
    "collapsed": true
   },
   "outputs": [],
   "source": [
    "#nationality_set = set([])"
   ]
  },
  {
   "cell_type": "code",
   "execution_count": 15,
   "metadata": {
    "collapsed": true
   },
   "outputs": [],
   "source": [
    "#Have to watch out for wrap around\n",
    "def checkAdjacent(start_x, start_y, nationality_set):\n",
    "    new_nationality_found = -1\n",
    "    \n",
    "    if atlas[start_x][start_y] == atlas[start_x+1][start_y]:\n",
    "        set([atlas[start_x][start_y]]).union(nationality_set)\n",
    "        new_nationality_found = 0\n",
    "        \n",
    "    if atlas[start_x][start_y] == atlas[start_x][start_y+1]:\n",
    "        set([atlas[start_x][start_y]]).union(nationality_set)\n",
    "        new_nationality_found = 1\n",
    "\n",
    "    if atlas[start_x][start_y] == atlas[start_x-1][start_y]:\n",
    "        set([atlas[start_x][start_y]]).union(nationality_set)\n",
    "        new_nationality_found = 2\n",
    "    \n",
    "    if atlas[start_x][start_y] == atlas[start_x][start_y-1]:\n",
    "        set([atlas[start_x][start_y]]).union(nationality_set)\n",
    "        new_nationality_found = 3\n",
    "        \n",
    "    return [new_nationality_found]"
   ]
  },
  {
   "cell_type": "code",
   "execution_count": 21,
   "metadata": {
    "collapsed": true
   },
   "outputs": [],
   "source": [
    "def exploreMatrix(start_x, start_y, nationality_set, test_count=0):\n",
    "        \n",
    "    if test_count>10000:\n",
    "        return nationality_set\n",
    "    \n",
    "    #print (test_count)\n",
    "    if start_x==0 or start_x==99 or start_y==0 or start_y==99:\n",
    "        \n",
    "        random_direction = np.random.randint(0, 4)\n",
    "        if random_direction == 0: return exploreMatrix(start_x+1, start_y, nationality_set, test_count+1)\n",
    "        if random_direction == 1: return exploreMatrix(start_x, start_y+1, nationality_set, test_count+1)\n",
    "        if random_direction == 2: return exploreMatrix(start_x-1, start_y, nationality_set, test_count+1)\n",
    "        if random_direction == 3: return exploreMatrix(start_x, start_y-1, nationality_set, test_count+1)\n",
    "            \n",
    "    #Check if already in nationality set\n",
    "    if atlas[start_x][start_y] in nationality_set:\n",
    "        \n",
    "        random_direction = np.random.randint(0, 4)\n",
    "        if random_direction == 0: return exploreMatrix(start_x+1, start_y, nationality_set, test_count+1)\n",
    "        if random_direction == 1: return exploreMatrix(start_x, start_y+1, nationality_set, test_count+1)\n",
    "        if random_direction == 2: return exploreMatrix(start_x-1, start_y, nationality_set, test_count+1)\n",
    "        if random_direction == 3: return exploreMatrix(start_x, start_y-1, nationality_set, test_count+1)\n",
    "    \n",
    "    nationality_direction = checkAdjacent(start_x, start_y, nationality_set)\n",
    "    \n",
    "    step_directions = list(set([0, 1, 2, 3]) - set(nationality_direction))\n",
    "    \n",
    "    next_step = random.choice(step_directions)\n",
    "    \n",
    "    if next_step == 0: return exploreMatrix(start_x+1, start_y, nationality_set, test_count+1)\n",
    "    if next_step == 1: return exploreMatrix(start_x, start_y+1, nationality_set, test_count+1)\n",
    "    if next_step == 2: return exploreMatrix(start_x-1, start_y, nationality_set, test_count+1)\n",
    "    if next_step == 3: return exploreMatrix(start_x, start_y-1, nationality_set, test_count+1)\n",
    "\n",
    "\n",
    "    #Whats the break condition?\n",
    "    #Has to be every node has been checked"
   ]
  },
  {
   "cell_type": "code",
   "execution_count": 7,
   "metadata": {
    "collapsed": true
   },
   "outputs": [],
   "source": [
    "matrix_graph = nx.Graph()"
   ]
  },
  {
   "cell_type": "code",
   "execution_count": 11,
   "metadata": {},
   "outputs": [
    {
     "data": {
      "text/plain": [
       "array([[1, 1, 1, ..., 6, 3, 9],\n",
       "       [1, 8, 8, ..., 1, 5, 6],\n",
       "       [1, 9, 0, ..., 1, 2, 4],\n",
       "       ..., \n",
       "       [5, 3, 1, ..., 2, 0, 7],\n",
       "       [3, 6, 2, ..., 1, 0, 2],\n",
       "       [6, 1, 5, ..., 1, 3, 3]])"
      ]
     },
     "execution_count": 11,
     "metadata": {},
     "output_type": "execute_result"
    }
   ],
   "source": [
    "atlas"
   ]
  },
  {
   "cell_type": "code",
   "execution_count": null,
   "metadata": {
    "collapsed": true
   },
   "outputs": [],
   "source": [
    "'''\n",
    "Question 4 \n",
    "\n",
    "Remove alternate duplicate elements in a list\n",
    "\n",
    "example: \"you got beautiful eyes\"\n",
    "Output: ”you gtbeaiful es”\n",
    "\n",
    "What if I remove all but the first appearance?\n",
    "Pass through list only once\n",
    "'''"
   ]
  },
  {
   "cell_type": "code",
   "execution_count": 12,
   "metadata": {
    "collapsed": true
   },
   "outputs": [],
   "source": [
    "string = 'you got beautiful eyes'"
   ]
  },
  {
   "cell_type": "code",
   "execution_count": 113,
   "metadata": {},
   "outputs": [
    {
     "data": {
      "text/plain": [
       "'\\nQuestion 7\\n\\nFind k largests elements in a list \\n'"
      ]
     },
     "execution_count": 113,
     "metadata": {},
     "output_type": "execute_result"
    }
   ],
   "source": [
    "'''\n",
    "Question 7\n",
    "\n",
    "Find k largests elements in a list \n",
    "'''"
   ]
  },
  {
   "cell_type": "code",
   "execution_count": 114,
   "metadata": {
    "collapsed": true
   },
   "outputs": [],
   "source": [
    "l = [1, 23, 12, 9, 30, 2, 50, 12, 49, 4, 26]"
   ]
  },
  {
   "cell_type": "code",
   "execution_count": 115,
   "metadata": {
    "collapsed": true
   },
   "outputs": [],
   "source": [
    "#suppose k=1"
   ]
  },
  {
   "cell_type": "code",
   "execution_count": 116,
   "metadata": {},
   "outputs": [
    {
     "name": "stdout",
     "output_type": "stream",
     "text": [
      "50\n"
     ]
    }
   ],
   "source": [
    "max_element = -1\n",
    "for i in range(len(l)):\n",
    "    #print(l[i])\n",
    "    if l[i]>max_element: max_element=l[i]\n",
    "        \n",
    "print (max_element)"
   ]
  },
  {
   "cell_type": "code",
   "execution_count": 119,
   "metadata": {
    "collapsed": true
   },
   "outputs": [],
   "source": [
    "#suppose k is arbritary\n",
    "k=4\n",
    "#max_k = sorted(l[:k])\n",
    "max_k = l[:k]\n",
    "for i in range(k, len(l), 1):\n",
    "    if l[i]>max_k[0]: \n",
    "        max_k[0]=l[i]\n",
    "        max_k = sorted(max_k)"
   ]
  },
  {
   "cell_type": "code",
   "execution_count": 120,
   "metadata": {},
   "outputs": [
    {
     "data": {
      "text/plain": [
       "[26, 30, 49, 50]"
      ]
     },
     "execution_count": 120,
     "metadata": {},
     "output_type": "execute_result"
    }
   ],
   "source": [
    "max_k"
   ]
  },
  {
   "cell_type": "code",
   "execution_count": null,
   "metadata": {
    "collapsed": true
   },
   "outputs": [],
   "source": [
    "'''\n",
    "Question 6\n",
    "\n",
    "Given a matrix, rotate it 90 degrees counter-clockwise in place\n",
    " 1  2  3  4 \n",
    " 5  6  7  8 \n",
    " 9 10 11 12 \n",
    "13 14 15 16 \n",
    "\n",
    "Output:\n",
    " 4  8 12 16 \n",
    " 3  7 11 15 \n",
    " 2  6 10 14 \n",
    " 1  5  9 13\n",
    "'''"
   ]
  },
  {
   "cell_type": "code",
   "execution_count": 186,
   "metadata": {
    "collapsed": true
   },
   "outputs": [],
   "source": [
    "matrix = np.array([[1,2,3,4], [5,6,7,8], [9,10,11,12], [13, 14, 15, 16]])"
   ]
  },
  {
   "cell_type": "code",
   "execution_count": 197,
   "metadata": {
    "collapsed": true
   },
   "outputs": [],
   "source": [
    "n_size = len(matrix[0])"
   ]
  },
  {
   "cell_type": "code",
   "execution_count": null,
   "metadata": {
    "collapsed": true
   },
   "outputs": [],
   "source": [
    "#The hardest part about this problem is the indexing\n",
    "#Its obvious there are cycles in a square matrix\n",
    "#the problem is knowing how to index the positions correctly\n",
    "#and realizing there are four swaps you have to make per loop"
   ]
  },
  {
   "cell_type": "code",
   "execution_count": 198,
   "metadata": {
    "collapsed": true
   },
   "outputs": [],
   "source": [
    "#The number of \"square cycles is always half rounded down the size of the matrix\n",
    "for cycle in range(n_size//2):\n",
    "    #if cycle==0: continue\n",
    "    #In each cycle you have to move all the elements, going around in a circle\n",
    "    #Each cycle is smaller then the prior cycle (going from the outside of the matrix inside)\n",
    "    for x in range(cycle, n_size-cycle-1, 1):\n",
    "        \n",
    "        temp = matrix[cycle][x]\n",
    "        #Move mid right to mid left\n",
    "        matrix[cycle][x] = matrix[x][n_size-1-cycle]\n",
    "        #move bottom right to top right\n",
    "        matrix[x][n_size-1-cycle] = matrix[n_size-1-cycle][n_size-1-x]\n",
    "        #move bottom left to bottom right\n",
    "        matrix[n_size-1-cycle][n_size-1-x] = matrix[n_size-1-x][cycle]\n",
    "        #move top left to bottom left\n",
    "        matrix[n_size-1-x][cycle] = temp"
   ]
  },
  {
   "cell_type": "code",
   "execution_count": 199,
   "metadata": {},
   "outputs": [
    {
     "data": {
      "text/plain": [
       "array([[3, 6, 9],\n",
       "       [2, 5, 8],\n",
       "       [1, 4, 7]])"
      ]
     },
     "execution_count": 199,
     "metadata": {},
     "output_type": "execute_result"
    }
   ],
   "source": [
    "matrix"
   ]
  },
  {
   "cell_type": "code",
   "execution_count": 72,
   "metadata": {
    "collapsed": true
   },
   "outputs": [],
   "source": [
    "#Without using inplace method\n",
    "matrix_new = np.zeros(shape=(3, 3))\n",
    "\n",
    "for i in range(len(matrix)):\n",
    "    matrix_new[:,i] = sorted(matrix[i], reverse=True)"
   ]
  },
  {
   "cell_type": "code",
   "execution_count": null,
   "metadata": {
    "collapsed": true
   },
   "outputs": [],
   "source": [
    "'''\n",
    "Question 7\n",
    "\n",
    "Next Greater Element\n",
    "Given an array, print the Next Greater Element (NGE) for every element. \n",
    "The Next greater Element for an element x is the first greater element on the right side of x in array. \n",
    "Elements for which no greater element exist, consider next greater element as -1.\n",
    "\n",
    "Example:\n",
    "\n",
    "[4, 5, 2, 25}\n",
    "\n",
    "Element       NGE\n",
    "   4      -->   5\n",
    "   5      -->   25\n",
    "   2      -->   25\n",
    "   25     -->   -1\n",
    "'''"
   ]
  },
  {
   "cell_type": "code",
   "execution_count": 213,
   "metadata": {
    "collapsed": true
   },
   "outputs": [],
   "source": [
    "elements = [13, 7, 6, 12]\n",
    "nge = []"
   ]
  },
  {
   "cell_type": "code",
   "execution_count": 214,
   "metadata": {
    "collapsed": true
   },
   "outputs": [],
   "source": [
    "sorted_elements = sorted(elements)"
   ]
  },
  {
   "cell_type": "code",
   "execution_count": 215,
   "metadata": {},
   "outputs": [
    {
     "data": {
      "text/plain": [
       "([6, 7, 12, 13], [13, 7, 6, 12])"
      ]
     },
     "execution_count": 215,
     "metadata": {},
     "output_type": "execute_result"
    }
   ],
   "source": [
    "sorted_elements, elements"
   ]
  },
  {
   "cell_type": "code",
   "execution_count": 216,
   "metadata": {},
   "outputs": [
    {
     "name": "stdout",
     "output_type": "stream",
     "text": [
      "13 -1\n",
      "7 12\n",
      "6 12\n",
      "12 -1\n"
     ]
    }
   ],
   "source": [
    "for i in range(len(elements)):\n",
    "    found_nge = 0\n",
    "    for j in range(i, len(elements), 1):\n",
    "        if elements[j]>elements[i]:\n",
    "            print (elements[i], elements[j])\n",
    "            found_nge = 1\n",
    "            break\n",
    "    if found_nge == 0:\n",
    "        print (elements[i], -1)            "
   ]
  },
  {
   "cell_type": "code",
   "execution_count": 234,
   "metadata": {
    "collapsed": true
   },
   "outputs": [],
   "source": [
    "#Faster solution"
   ]
  },
  {
   "cell_type": "code",
   "execution_count": 230,
   "metadata": {
    "collapsed": true
   },
   "outputs": [],
   "source": [
    "# Python program to print next greater element using stack\n",
    " \n",
    "def createStack():\n",
    "    stack = []\n",
    "    return stack\n",
    " \n",
    "def isEmpty(stack):\n",
    "    return len(stack) == 0\n",
    " \n",
    "def push(stack, x):\n",
    "    stack.append(x)\n",
    " \n",
    "def pop(stack):\n",
    "    if isEmpty(stack):\n",
    "        print(\"Error : stack underflow\")\n",
    "    else:\n",
    "        return stack.pop()"
   ]
  },
  {
   "cell_type": "code",
   "execution_count": 231,
   "metadata": {
    "collapsed": true
   },
   "outputs": [],
   "source": [
    "def printNGE(arr):\n",
    "    s = createStack()\n",
    "    element = 0\n",
    "    next = 0\n",
    " \n",
    "    # push the first element to stack\n",
    "    push(s, arr[0])\n",
    " \n",
    "    # iterate for rest of the elements\n",
    "    for i in range(1, len(arr), 1):\n",
    "        next = arr[i]\n",
    " \n",
    "        if isEmpty(s) == False:\n",
    " \n",
    "            # if stack is not empty, then pop an element from stack\n",
    "            element = pop(s)\n",
    " \n",
    "            '''If the popped element is smaller than next, then\n",
    "                a) print the pair\n",
    "                b) keep popping while elements are smaller and\n",
    "                   stack is not empty '''\n",
    "            while element < next :\n",
    "                print(str(element)+ \" -- \" + str(next))\n",
    "                if isEmpty(s) == True :\n",
    "                    break\n",
    "                element = pop(s)\n",
    " \n",
    "            '''If element is greater than next, then push\n",
    "               the element back '''\n",
    "            if  element > next:\n",
    "                push(s, element)\n",
    " \n",
    "        '''push next to stack so that we can find\n",
    "           next greater for it '''\n",
    "        push(s, next)\n",
    " \n",
    "    '''After iterating over the loop, the remaining\n",
    "       elements in stack do not have the next greater\n",
    "       element, so print -1 for them '''\n",
    " \n",
    "    while isEmpty(s) == False:\n",
    "            element = pop(s)\n",
    "            next = -1\n",
    "            print(str(element) + \" -- \" + str(next))"
   ]
  },
  {
   "cell_type": "code",
   "execution_count": 233,
   "metadata": {},
   "outputs": [
    {
     "name": "stdout",
     "output_type": "stream",
     "text": [
      "2 -- 4\n",
      "3 -- 4\n",
      "2 -- -1\n",
      "4 -- -1\n"
     ]
    }
   ],
   "source": [
    "printNGE([3, 2, 4, 2])"
   ]
  },
  {
   "cell_type": "code",
   "execution_count": null,
   "metadata": {
    "collapsed": true
   },
   "outputs": [],
   "source": [
    "'''\n",
    "Question 8\n",
    "\n",
    "Given an array of positive numbers, find the maximum sum of a subsequence with the \n",
    "constraint that no 2 numbers in the sequence should be adjacent in the array. \n",
    "So 3 2 7 10 should return 13 (sum of 3 and 10) or 3 2 5 10 7 should return 15 (sum of 3, 5 and 7).\n",
    "Answer the question in most efficient way.\n",
    "\n",
    "Examples:\n",
    "\n",
    "Input : arr[] = {5, 5, 10, 100, 10, 5}\n",
    "Output : 110\n",
    "\n",
    "Input : arr[] = {1, 2, 3}\n",
    "Output : 4\n",
    "\n",
    "Input : arr[] = {1, 20, 3}\n",
    "Output : 20\n",
    "'''"
   ]
  },
  {
   "cell_type": "code",
   "execution_count": 425,
   "metadata": {
    "collapsed": true
   },
   "outputs": [],
   "source": [
    "array = [5, 5, 10, 40, 3, 1]"
   ]
  },
  {
   "cell_type": "code",
   "execution_count": 426,
   "metadata": {
    "collapsed": true
   },
   "outputs": [],
   "source": [
    "#Dynamic programming problem, have to keep track of two running sums.\n",
    "#Tricky problem\n",
    "#Inclusive: The best possible sum if I include the current number\n",
    "#Exclusive: The best possible sum if I don't include the current number\n",
    "\n",
    "incl = 0\n",
    "excl = 0\n",
    "\n",
    "for index, i in enumerate(array):\n",
    "    #print (index, 'step0:', i, incl, excl)\n",
    "    new_excl = incl\n",
    "    # Current max including i\n",
    "    incl = excl + i\n",
    "    #print (index, 'step1:', i, incl, excl)\n",
    "\n",
    "    excl = new_excl\n",
    "    #print (index, 'step2:', i, incl, excl)"
   ]
  },
  {
   "cell_type": "code",
   "execution_count": 427,
   "metadata": {},
   "outputs": [
    {
     "data": {
      "text/plain": [
       "(46, 18)"
      ]
     },
     "execution_count": 427,
     "metadata": {},
     "output_type": "execute_result"
    }
   ],
   "source": [
    "'''\n",
    "Question 9\n",
    "\n",
    "Given two strings str1 and str2 and below operations \n",
    "that can performed on str1. Find minimum number of edits (operations) required to convert ‘str1’ into ‘str2’.\n",
    "\n",
    "Insert\n",
    "Remove\n",
    "Replace\n",
    "All of the above operations are of equal cost.\n",
    "\n",
    "Example:\n",
    "\n",
    "Input:   str1 = \"geek\", str2 = \"gesek\"\n",
    "Output:  1\n",
    "We can convert str1 into str2 by inserting a 's'.\n",
    "\n",
    "Input:   str1 = \"cat\", str2 = \"cut\"\n",
    "Output:  1\n",
    "We can convert str1 into str2 by replacing 'a' with 'u'.\n",
    "\n",
    "Input:   str1 = \"sunday\", str2 = \"saturday\"\n",
    "Output:  3\n",
    "Last three and first characters are same.  We basically\n",
    "need to convert \"un\" to \"atur\".  This can be done using\n",
    "below three operations. \n",
    "Replace 'n' with 'r', insert t, insert a\n",
    "'''"
   ]
  },
  {
   "cell_type": "code",
   "execution_count": 6,
   "metadata": {
    "collapsed": true
   },
   "outputs": [],
   "source": [
    "str1 = 'geek'\n",
    "str2 = 'gesekt'"
   ]
  },
  {
   "cell_type": "code",
   "execution_count": 7,
   "metadata": {
    "collapsed": true
   },
   "outputs": [],
   "source": [
    "#Initial position has to be at back of string\n",
    "def editDistance(str1, str2, str1_pos, str2_pos, score=0):\n",
    "    #These two are the crucial \"bottoms\" of the recursive function and hard to understand\n",
    "    if str1_pos==0:\n",
    "        return str2_pos\n",
    "    if str2_pos==0:\n",
    "        return str1_pos\n",
    "    \n",
    "    #print (str1[str1_pos], str2[str2_pos])\n",
    "    if str1[str1_pos]==str2[str2_pos]:\n",
    "        return editDistance(str1, str2, str1_pos-1, str2_pos-1)\n",
    "    else:\n",
    "        #Why is this 1+ needed? maybe you need the 1 because the element positions start counting from 0 and not 1?\n",
    "        return 1+min(editDistance(str1, str2, str1_pos-1, str2_pos), editDistance(str1, str2, str1_pos, str2_pos-1), \\\n",
    "            editDistance(str1, str2, str1_pos-1, str2_pos-1))"
   ]
  },
  {
   "cell_type": "code",
   "execution_count": 8,
   "metadata": {},
   "outputs": [
    {
     "data": {
      "text/plain": [
       "2"
      ]
     },
     "execution_count": 8,
     "metadata": {},
     "output_type": "execute_result"
    }
   ],
   "source": [
    "editDistance(str1, str2, len(str1)-1, len(str2)-1)"
   ]
  },
  {
   "cell_type": "code",
   "execution_count": 9,
   "metadata": {
    "collapsed": true
   },
   "outputs": [],
   "source": [
    "#Dynamic programming solution"
   ]
  },
  {
   "cell_type": "code",
   "execution_count": 44,
   "metadata": {
    "collapsed": true
   },
   "outputs": [],
   "source": [
    "str1='sunday'\n",
    "str2='saturday'"
   ]
  },
  {
   "cell_type": "code",
   "execution_count": 45,
   "metadata": {
    "collapsed": true
   },
   "outputs": [],
   "source": [
    "edit_matrix= [[0 for i in range(len(str2)+1)] for j in range(len(str1)+1)]"
   ]
  },
  {
   "cell_type": "code",
   "execution_count": 46,
   "metadata": {},
   "outputs": [
    {
     "data": {
      "text/plain": [
       "[[0, 0, 0, 0, 0, 0, 0, 0, 0],\n",
       " [0, 0, 0, 0, 0, 0, 0, 0, 0],\n",
       " [0, 0, 0, 0, 0, 0, 0, 0, 0],\n",
       " [0, 0, 0, 0, 0, 0, 0, 0, 0],\n",
       " [0, 0, 0, 0, 0, 0, 0, 0, 0],\n",
       " [0, 0, 0, 0, 0, 0, 0, 0, 0],\n",
       " [0, 0, 0, 0, 0, 0, 0, 0, 0]]"
      ]
     },
     "execution_count": 46,
     "metadata": {},
     "output_type": "execute_result"
    }
   ],
   "source": [
    "edit_matrix"
   ]
  },
  {
   "cell_type": "code",
   "execution_count": 47,
   "metadata": {
    "collapsed": true
   },
   "outputs": [],
   "source": [
    "for idx_1 in range(len(str1)+1):\n",
    "    for idx_2 in range(len(str2)+1):\n",
    "        if idx_1==0:\n",
    "            edit_matrix[idx_1][idx_2] = idx_2 #this means it takes j moves to transform blank to w/e j is (j could be zero)\n",
    "        \n",
    "        elif idx_2==0:\n",
    "            edit_matrix[idx_1][idx_2] = idx_1 #this means the reverse, if j is zero it takes i  moves to transform it from blank\n",
    "            \n",
    "        elif str1[idx_1-1] == str2[idx_2-1]: #in this case always take diagonal element before\n",
    "            edit_matrix[idx_1][idx_2] = edit_matrix[idx_1-1][idx_2-1]\n",
    "        \n",
    "        else:\n",
    "            #other wise its one move (which is the cost of modifying the current char to be the same) + the least amount of \n",
    "            #moves from the prior char position, the least amount of moves from the previous char position given all possible\n",
    "            #ways of moving is giving by replace, add, and modify\n",
    "            edit_matrix[idx_1][idx_2] = 1 + min(edit_matrix[idx_1-1][idx_2-1], \n",
    "                                                edit_matrix[idx_1][idx_2-1], \n",
    "                                                edit_matrix[idx_1-1][idx_2])"
   ]
  },
  {
   "cell_type": "code",
   "execution_count": 48,
   "metadata": {},
   "outputs": [
    {
     "data": {
      "text/plain": [
       "[[0, 1, 2, 3, 4, 5, 6, 7, 8],\n",
       " [1, 0, 1, 2, 3, 4, 5, 6, 7],\n",
       " [2, 1, 1, 2, 2, 3, 4, 5, 6],\n",
       " [3, 2, 2, 2, 3, 3, 4, 5, 6],\n",
       " [4, 3, 3, 3, 3, 4, 3, 4, 5],\n",
       " [5, 4, 3, 4, 4, 4, 4, 3, 4],\n",
       " [6, 5, 4, 4, 5, 5, 5, 4, 3]]"
      ]
     },
     "execution_count": 48,
     "metadata": {},
     "output_type": "execute_result"
    }
   ],
   "source": [
    "edit_matrix"
   ]
  },
  {
   "cell_type": "code",
   "execution_count": null,
   "metadata": {
    "collapsed": true
   },
   "outputs": [],
   "source": [
    "'''\n",
    "Question 10\n",
    "\n",
    "The Stock Span Problem\n",
    "\n",
    "The stock span problem is a financial problem where \n",
    "we have a series of n daily price quotes for a stock and \n",
    "we need to calculate span of stock’s price for all n days. \n",
    "\n",
    "The span Si of the stock’s price on a given day i is defined as the \n",
    "maximum number of consecutive days just before the given day, \n",
    "for which the price of the stock on the current day is less than or \n",
    "equal to its price on the given day.\n",
    "For example, if an array of 7 days prices is given as {100, 80, 60, 70, 60, 75, 85}, \n",
    "then the span values for corresponding 7 days are {1, 1, 1, 2, 1, 4, 6}\n",
    "'''"
   ]
  },
  {
   "cell_type": "code",
   "execution_count": 98,
   "metadata": {
    "collapsed": true
   },
   "outputs": [],
   "source": [
    "stock_price = [100, 80, 60, 70, 60, 75, 85]\n",
    "stock_price = [10, 4, 5, 90, 120, 80]"
   ]
  },
  {
   "cell_type": "code",
   "execution_count": 99,
   "metadata": {
    "collapsed": true
   },
   "outputs": [],
   "source": [
    "span = [-1 for i in range(len(stock_price))]"
   ]
  },
  {
   "cell_type": "code",
   "execution_count": 100,
   "metadata": {},
   "outputs": [
    {
     "data": {
      "text/plain": [
       "[10, 4, 5, 90, 120, 80]"
      ]
     },
     "execution_count": 100,
     "metadata": {},
     "output_type": "execute_result"
    }
   ],
   "source": [
    "stock_price"
   ]
  },
  {
   "cell_type": "code",
   "execution_count": 101,
   "metadata": {
    "collapsed": true
   },
   "outputs": [],
   "source": [
    "for idx_i in range(len(stock_price)):\n",
    "    if idx_i==0: #Assuming this a default state\n",
    "        span[0] = 1\n",
    "    else:            \n",
    "        span_sum = 0\n",
    "        for idx_j in reversed(range(0, len(stock_price[:idx_i]), 1)):\n",
    "            if stock_price[idx_i]<stock_price[idx_j]:\n",
    "                span[idx_i] = (idx_i-idx_j)\n",
    "                break"
   ]
  },
  {
   "cell_type": "code",
   "execution_count": null,
   "metadata": {
    "collapsed": true
   },
   "outputs": [],
   "source": [
    "'''\n",
    "Question 11\n",
    "\n",
    "a) Construct a binary tree class\n",
    "\n",
    "b) Given the root of a binary tree and a number,\n",
    "write a function that returns the node with the number or null if the number is not found.\n",
    "'''"
   ]
  },
  {
   "cell_type": "code",
   "execution_count": 2,
   "metadata": {
    "collapsed": true
   },
   "outputs": [],
   "source": [
    "#a) The constructor creates one \"fork\", the fork is then duplicated to construct a tree\n",
    "#Therefore to construct the tree one has to recursively call the constructor!\n",
    "#Have to change the way I think about the problem\n",
    "\n",
    "class BinaryTree():\n",
    "\n",
    "    def __init__(self,rootid):\n",
    "        self.left = None\n",
    "        self.right = None\n",
    "        self.rootid = rootid\n",
    "\n",
    "    def getLeftChild(self):\n",
    "        return self.left\n",
    "    \n",
    "    def getRightChild(self):\n",
    "        return self.right\n",
    "    \n",
    "    def setNodeValue(self,value):\n",
    "        self.rootid = value\n",
    "    \n",
    "    def getNodeValue(self):\n",
    "        return self.rootid"
   ]
  },
  {
   "cell_type": "code",
   "execution_count": 5,
   "metadata": {
    "collapsed": true
   },
   "outputs": [],
   "source": [
    "tree = BinaryTree(3)"
   ]
  },
  {
   "cell_type": "code",
   "execution_count": 6,
   "metadata": {
    "collapsed": true
   },
   "outputs": [],
   "source": [
    "tree.left = BinaryTree(2)"
   ]
  },
  {
   "cell_type": "code",
   "execution_count": 7,
   "metadata": {
    "collapsed": true
   },
   "outputs": [],
   "source": [
    "tree.right = BinaryTree(1)"
   ]
  },
  {
   "cell_type": "code",
   "execution_count": 8,
   "metadata": {
    "collapsed": true
   },
   "outputs": [],
   "source": [
    "tree.left.left = BinaryTree(4)\n",
    "tree.left.right = BinaryTree(1)"
   ]
  },
  {
   "cell_type": "code",
   "execution_count": 9,
   "metadata": {
    "collapsed": true
   },
   "outputs": [],
   "source": [
    "tree.right.left = BinaryTree(9)\n",
    "tree.right.right = BinaryTree(8)"
   ]
  },
  {
   "cell_type": "code",
   "execution_count": 10,
   "metadata": {
    "collapsed": true
   },
   "outputs": [],
   "source": [
    "#b) Write a function that traverses every node in the tree"
   ]
  },
  {
   "cell_type": "code",
   "execution_count": 30,
   "metadata": {
    "collapsed": true
   },
   "outputs": [],
   "source": [
    "#DO NOT CALL RETURN!\n",
    "#You are fundamentally misunderstanding how return works in a recursive function\n",
    "#If you call return, you are asking to terminate the recursive call, otherwise the function will\n",
    "#\"boomerang\" back which is the effect you were looking for!\n",
    "\n",
    "def findNode(tree, num, found, layer=0):\n",
    "    \n",
    "    if tree.getNodeValue() is None:\n",
    "        return None\n",
    "    elif tree.getNodeValue()==num:\n",
    "        print ('Number %d found' % num)\n",
    "    else:\n",
    "        print (tree.getNodeValue())\n",
    "        if tree.right is not None:\n",
    "            findNode(tree.getRightChild(), num, found, layer+1)\n",
    "        if tree.left is not None:\n",
    "            findNode(tree.getLeftChild(), num, found, layer+1)    "
   ]
  },
  {
   "cell_type": "code",
   "execution_count": 33,
   "metadata": {},
   "outputs": [
    {
     "name": "stdout",
     "output_type": "stream",
     "text": [
      "3\n",
      "1\n",
      "Number 8 found\n",
      "9\n",
      "2\n",
      "1\n",
      "4\n"
     ]
    }
   ],
   "source": [
    "findNode(tree, 8, 0, 0)"
   ]
  },
  {
   "cell_type": "code",
   "execution_count": 40,
   "metadata": {
    "collapsed": true
   },
   "outputs": [],
   "source": [
    "#Why does return not work.\n",
    "def findNode(tree, layer=0):\n",
    "\n",
    "    print (tree.getNodeValue())\n",
    "    if tree.right is not None:\n",
    "        return findNode(tree.getRightChild(), layer+1)\n",
    "    #Notice the function is the same regardless if you comment this bottom part in or out\n",
    "    #Because as soon as you hit the return statement the current iteration ends!!\n",
    "#    if tree.left is not None:\n",
    "#        return findNode(tree.getLeftChild(), layer+1)    "
   ]
  },
  {
   "cell_type": "code",
   "execution_count": 41,
   "metadata": {},
   "outputs": [
    {
     "name": "stdout",
     "output_type": "stream",
     "text": [
      "3\n",
      "1\n",
      "8\n"
     ]
    }
   ],
   "source": [
    "findNode(tree, layer=0)"
   ]
  },
  {
   "cell_type": "code",
   "execution_count": null,
   "metadata": {
    "collapsed": true
   },
   "outputs": [],
   "source": [
    "'''\n",
    "Spiral pattern, write a function that produces the following pattern:\n",
    "n=3 123\n",
    "    894  \n",
    "    765\n",
    "n=4 1   2  3 4\n",
    "    12 13 14 5\n",
    "    11 16 15 6\n",
    "    10  9  8 7\n",
    "'''"
   ]
  },
  {
   "cell_type": "code",
   "execution_count": null,
   "metadata": {
    "collapsed": true
   },
   "outputs": [],
   "source": [
    "#try and do odd n"
   ]
  },
  {
   "cell_type": "code",
   "execution_count": null,
   "metadata": {
    "collapsed": true
   },
   "outputs": [],
   "source": [
    "for i in range(3):\n",
    "    for j in range(3):\n",
    "        "
   ]
  },
  {
   "cell_type": "code",
   "execution_count": 6,
   "metadata": {
    "collapsed": true
   },
   "outputs": [],
   "source": [
    "'''\n",
    "One edit away\n",
    "\n",
    "Write a function that returns whether two strings are exactly one edit away\n",
    "An edit is:\n",
    "1.Inserting one character anywhere in the word (including at the beginning and end)\n",
    "2. Removing one character\n",
    "3. Replacing one character\n",
    "OneEditApart(\"cat\", \"dog\") = false\n",
    "OneEditApart(\"cat\", \"cats\") = true\n",
    "OneEditApart(\"cat\", \"cut\") = true\n",
    "OneEditApart(\"cat\", \"cast\") = true\n",
    "OneEditApart(\"cat\", \"at\") = true\n",
    "OneEditApart(\"cat\", \"act\") = false #key to note\n",
    "'''"
   ]
  },
  {
   "cell_type": "code",
   "execution_count": 105,
   "metadata": {
    "collapsed": true
   },
   "outputs": [],
   "source": [
    "def OneEditApart(str1, str2):\n",
    "    \n",
    "    if abs(len(str1)-len(str2))>1:\n",
    "        return False\n",
    "    else:        \n",
    "        if len(str1)==len(str2):\n",
    "            n_edits=0\n",
    "            for idx in range(len(str1)):\n",
    "                if str1[idx]==str2[idx]:\n",
    "                    pass\n",
    "                else:\n",
    "                    n_edits+=1\n",
    "        else:\n",
    "            #if not the same length, they can at most differ by length one\n",
    "            #The thing to check now is are they more then one edit away?\n",
    "            #For sure they cannot be 0 edits away anymore\n",
    "            n_edits=1\n",
    "            #Always want str1 to be the smaller one\n",
    "            if len(str1)>len(str2):\n",
    "                str1, str2=str2, str1\n",
    "            for idx in range(min(len(str1), len(str2))):                    \n",
    "                if str1[idx]==str2[idx]:\n",
    "                    pass\n",
    "                elif str1[idx]==str2[idx+1]:\n",
    "                    pass\n",
    "                else:\n",
    "                    n_edits+=1                            \n",
    "        \n",
    "        return n_edits==1        "
   ]
  },
  {
   "cell_type": "code",
   "execution_count": 107,
   "metadata": {},
   "outputs": [
    {
     "data": {
      "text/plain": [
       "False"
      ]
     },
     "execution_count": 107,
     "metadata": {},
     "output_type": "execute_result"
    }
   ],
   "source": [
    "OneEditApart('cat', 'cat')"
   ]
  },
  {
   "cell_type": "code",
   "execution_count": null,
   "metadata": {
    "collapsed": true
   },
   "outputs": [],
   "source": [
    "'''\n",
    "Implement a function that outputs the Look and Say sequence: \n",
    "1\n",
    "11\n",
    "21\n",
    "1211\n",
    "111221\n",
    "312211\n",
    "13112221\n",
    "1113213211\n",
    "31131211131221\n",
    "13211311123113112211\n",
    "The next sequence is generated by reading the last one\n",
    "'''"
   ]
  },
  {
   "cell_type": "code",
   "execution_count": null,
   "metadata": {
    "collapsed": true
   },
   "outputs": [],
   "source": [
    "#Lets count the number of occurrences of a numbers from left to right"
   ]
  },
  {
   "cell_type": "code",
   "execution_count": 172,
   "metadata": {
    "collapsed": true
   },
   "outputs": [],
   "source": [
    "def generate_look_say_sequence(current_seq):\n",
    "    sequences = []\n",
    "    idx=0\n",
    "    while idx<len(current_seq):    \n",
    "        current_char = current_seq[idx]\n",
    "        current_ptr = idx\n",
    "        sub_seq=[]\n",
    "        while current_ptr<len(current_seq):\n",
    "            if current_seq[current_ptr]==current_char:            \n",
    "                sub_seq.append(current_seq[current_ptr])\n",
    "                current_ptr+=1\n",
    "            else:\n",
    "                break\n",
    "        sequences.append(sub_seq)\n",
    "        idx+=len(sub_seq)\n",
    "    \n",
    "    seq_counting = [np.unique(sub_seq, return_counts=True) for sub_seq in sequences]\n",
    "    \n",
    "    return ''.join([str(i[1][0]) + str(i[0][0]) for i in seq_counting])"
   ]
  },
  {
   "cell_type": "code",
   "execution_count": 178,
   "metadata": {},
   "outputs": [
    {
     "data": {
      "text/plain": [
       "'312211'"
      ]
     },
     "execution_count": 178,
     "metadata": {},
     "output_type": "execute_result"
    }
   ],
   "source": [
    "generate_look_say_sequence(generate_look_say_sequence(generate_look_say_sequence(generate_look_say_sequence(generate_look_say_sequence('1')))))"
   ]
  },
  {
   "cell_type": "code",
   "execution_count": 179,
   "metadata": {},
   "outputs": [
    {
     "data": {
      "text/plain": [
       "'\\nGiven a string A.\\n\\nReturn the string A after reversing the string word by word.\\n\\nNOTE:\\n\\n    A sequence of non-space characters constitutes a word.\\n\\n    Your reversed string should not contain leading or trailing spaces, even if it is present in the input string.\\n\\n    If there are multiple spaces between words, reduce them to a single space in the reversed string.\\n\\nInput 1:\\n    A = \"the sky is blue\"\\nOutput 1:\\n    \"blue is sky the\"\\n\\nInput 2:\\n    A = \"this is ib\"\\nOutput 2:\\n    \"ib is this\"\\n'"
      ]
     },
     "execution_count": 179,
     "metadata": {},
     "output_type": "execute_result"
    }
   ],
   "source": [
    "'''\n",
    "Given a string A.\n",
    "\n",
    "Return the string A after reversing the string word by word.\n",
    "\n",
    "NOTE:\n",
    "\n",
    "    A sequence of non-space characters constitutes a word.\n",
    "\n",
    "    Your reversed string should not contain leading or trailing spaces, even if it is present in the input string.\n",
    "\n",
    "    If there are multiple spaces between words, reduce them to a single space in the reversed string.\n",
    "\n",
    "Input 1:\n",
    "    A = \"the sky is blue\"\n",
    "Output 1:\n",
    "    \"blue is sky the\"\n",
    "\n",
    "Input 2:\n",
    "    A = \"this is ib\"\n",
    "Output 2:\n",
    "    \"ib is this\"\n",
    "'''"
   ]
  },
  {
   "cell_type": "code",
   "execution_count": 184,
   "metadata": {
    "collapsed": true
   },
   "outputs": [],
   "source": [
    "def reverse_string(string):\n",
    "    reversed_words = []\n",
    "    for word in reversed(string.split(' ')):\n",
    "        reversed_words.append(word)\n",
    "    return ' '.join(reversed_words).strip()"
   ]
  },
  {
   "cell_type": "code",
   "execution_count": 185,
   "metadata": {},
   "outputs": [
    {
     "data": {
      "text/plain": [
       "'blue is sky the'"
      ]
     },
     "execution_count": 185,
     "metadata": {},
     "output_type": "execute_result"
    }
   ],
   "source": [
    "reverse_string(\"the sky is blue \")"
   ]
  },
  {
   "cell_type": "code",
   "execution_count": null,
   "metadata": {
    "collapsed": true
   },
   "outputs": [],
   "source": [
    "'''\n",
    "Stock span problem buy-sell \n",
    "If you were only permitted to complete at most one transaction \n",
    "(ie, buy one and sell one share of the stock), design an algorithm to find the maximum profit.\n",
    "Return the maximum possible profit.\n",
    "\n",
    "Problem Constraints\n",
    "\n",
    "1 <= A[i] <= 1e7\n",
    "\n",
    "Example Input\n",
    "\n",
    "Input 1: A = [1, 2]\n",
    "\n",
    "Input 2: A = [1, 4, 5, 2, 4]\n",
    "\n",
    "Explanation 1: Buy the stock on day 0, and sell it on day 1.\n",
    "\n",
    "Explanation 2: Buy the stock on day 0, and sell it on day 2.\n",
    "'''"
   ]
  },
  {
   "cell_type": "code",
   "execution_count": 260,
   "metadata": {
    "collapsed": true
   },
   "outputs": [],
   "source": [
    "A=[201, 4, 5, 2, 4, 99, 13, 10, 190, 191, 11, 10, 1000000]"
   ]
  },
  {
   "cell_type": "code",
   "execution_count": 261,
   "metadata": {
    "collapsed": true
   },
   "outputs": [],
   "source": [
    "#Naive solution\n",
    "#Enumerate through all different combinations\n",
    "best_profit = 0\n",
    "dates=[0,0]\n",
    "for idx_buy in range(len(A)):\n",
    "    buy_price = A[idx_buy]\n",
    "    for idx_sell in range(idx_buy+1, len(A), 1):\n",
    "        sell_price = A[idx_sell]\n",
    "        if sell_price-buy_price>best_profit:\n",
    "            best_profit=sell_price-buy_price\n",
    "            dates=[idx_buy, idx_sell]"
   ]
  },
  {
   "cell_type": "code",
   "execution_count": 262,
   "metadata": {},
   "outputs": [
    {
     "data": {
      "text/plain": [
       "[3, 12]"
      ]
     },
     "execution_count": 262,
     "metadata": {},
     "output_type": "execute_result"
    }
   ],
   "source": [
    "dates"
   ]
  },
  {
   "cell_type": "code",
   "execution_count": 263,
   "metadata": {
    "collapsed": true
   },
   "outputs": [],
   "source": [
    "#Alternative solution\n",
    "#Suppose you sort the list and returned the index position of the sorted results\n",
    "#Then just take the arguments of the sorted list at the beginning and end"
   ]
  },
  {
   "cell_type": "code",
   "execution_count": 264,
   "metadata": {
    "collapsed": true
   },
   "outputs": [],
   "source": [
    "def merge_sort(span, indices):\n",
    "    '''\n",
    "    merge_sort\n",
    "    \n",
    "    return the indices of the sorted results\n",
    "    '''\n",
    "    if len(span)==1:        \n",
    "        return [span[0]], [indices[0]]\n",
    "    elif len(span)==2:\n",
    "        if span[0]>span[1]:\n",
    "            return [span[1], span[0]], [indices[1], indices[0]]\n",
    "        else:\n",
    "            return [span[0], span[1]],[indices[0], indices[1]]\n",
    "    else:\n",
    "        span_left = span[:len(span)//2]\n",
    "        span_right = span[len(span)//2:]\n",
    "        indices_left = indices[:len(span)//2]\n",
    "        indices_right = indices[len(span)//2:]\n",
    "\n",
    "        left_best_span, left_best_indices = merge_sort(span_left, indices_left)\n",
    "        right_best_span, rigth_best_indices = merge_sort(span_right, indices_right)\n",
    "        \n",
    "        #Merge the left and right spans and sort \n",
    "        #How do i merge?\n",
    "        left_right_span = left_best_span + right_best_span\n",
    "        left_right_indices = left_best_indices + rigth_best_indices\n",
    "        sorted_span = []\n",
    "        sorted_indices = []\n",
    "        \n",
    "        while len(left_right_span)!=0:\n",
    "            lowest_value = min(left_right_span)\n",
    "            lowest_index = left_right_indices[left_right_span.index(lowest_value)]\n",
    "            \n",
    "            sorted_span.append(lowest_value)\n",
    "            sorted_indices.append(lowest_index)\n",
    "            \n",
    "            left_right_span.remove(lowest_value)\n",
    "            left_right_indices.remove(lowest_index)\n",
    "        \n",
    "        return sorted_span, sorted_indices"
   ]
  },
  {
   "cell_type": "code",
   "execution_count": 265,
   "metadata": {
    "collapsed": true
   },
   "outputs": [],
   "source": [
    "#modify the merge sort to return the args instead of the values"
   ]
  },
  {
   "cell_type": "code",
   "execution_count": 266,
   "metadata": {
    "collapsed": true
   },
   "outputs": [],
   "source": [
    "A_indices =[i for i in range(len(A))]"
   ]
  },
  {
   "cell_type": "code",
   "execution_count": 267,
   "metadata": {
    "collapsed": true
   },
   "outputs": [],
   "source": [
    "#Ended up writing merge sort instead...\n",
    "sorted_A, sorted_args = merge_sort(A, A_indices)"
   ]
  },
  {
   "cell_type": "code",
   "execution_count": 268,
   "metadata": {},
   "outputs": [
    {
     "data": {
      "text/plain": [
       "[2, 4, 4, 5, 10, 10, 11, 13, 99, 190, 191, 201, 1000000]"
      ]
     },
     "execution_count": 268,
     "metadata": {},
     "output_type": "execute_result"
    }
   ],
   "source": [
    "sorted_A"
   ]
  },
  {
   "cell_type": "code",
   "execution_count": 284,
   "metadata": {
    "collapsed": true
   },
   "outputs": [],
   "source": [
    "#More efficient merge sort\n",
    "def merge_sort(span):\n",
    "    '''\n",
    "    merge_sort\n",
    "    \n",
    "    return the indices of the sorted results\n",
    "    '''\n",
    "    if len(span)==1:        \n",
    "        return [span[0]]\n",
    "    elif len(span)==2:\n",
    "        if span[0]>span[1]:\n",
    "            return [span[1], span[0]]\n",
    "        else:\n",
    "            return [span[0], span[1]]\n",
    "    else:\n",
    "        span_left = span[len(span)//2:]\n",
    "        span_right = span[:len(span)//2]\n",
    "\n",
    "        left_best_span = merge_sort(span_left)\n",
    "        right_best_span = merge_sort(span_right)\n",
    "        \n",
    "        #Merge the left and right spans and sort \n",
    "        #How do i merge?\n",
    "        #left_right_span = left_best_span + right_best_span\n",
    "        \n",
    "        sorted_span = []\n",
    "        left_idx=0\n",
    "        right_idx=0\n",
    "        while left_idx<len(left_best_span) and right_idx<len(right_best_span):\n",
    "            \n",
    "            if left_best_span[left_idx]<right_best_span[right_idx]:\n",
    "\n",
    "                sorted_span.append(left_best_span[left_idx]) \n",
    "                left_idx+=1\n",
    "            else:\n",
    "                sorted_span.append(right_best_span[right_idx]) \n",
    "                right_idx+=1\n",
    "        \n",
    "        #Compensate for the last values that were not incremented to\n",
    "        if left_idx==len(left_best_span):\n",
    "            sorted_span+=right_best_span[right_idx:]\n",
    "        else:\n",
    "            sorted_span+=left_best_span[left_idx:]\n",
    "        return sorted_span"
   ]
  },
  {
   "cell_type": "code",
   "execution_count": 287,
   "metadata": {},
   "outputs": [
    {
     "data": {
      "text/plain": [
       "[-10, -10, 0, 0, 10, 10, 123]"
      ]
     },
     "execution_count": 287,
     "metadata": {},
     "output_type": "execute_result"
    }
   ],
   "source": [
    "'''\n",
    "Find largest distance\n",
    "Given an arbitrary unweighted rooted tree which consists of N (2 <= N <= 40000) nodes. \n",
    "The goal of the problem is to find largest distance between two nodes in a tree. \n",
    "Distance between two nodes is a number of edges on a path between the nodes \n",
    "(there will be a unique path between any pair of nodes since it is a tree). \n",
    "The nodes will be numbered 0 through N - 1.\n",
    "\n",
    "The tree is given as an array P, there is an edge between nodes P[i] and i (0 <= i < N). \n",
    "Exactly one of the i’s will have P[i] equal to -1, it will be root node.\n",
    "\n",
    "Example:\n",
    "If given P is [-1, 0, 0, 0, 3], then node 0 is the root and the whole tree looks like this: \n",
    "\n",
    "      0\n",
    "   /  |  \\\n",
    "  1   2   3\n",
    "           \\\n",
    "            4  \n",
    "\n",
    "One of the longest path is 1 -> 0 -> 3 -> 4 and its length is 3,\n",
    "thus the answer is 3. Note that there are other paths with maximal distance. \n",
    "'''"
   ]
  },
  {
   "cell_type": "code",
   "execution_count": null,
   "metadata": {
    "collapsed": true
   },
   "outputs": [],
   "source": [
    "#Nuances\n",
    "#We are only discussing trees not graphs!\n",
    "#First problem: P must be converted into a adjacency or some structure that let's one query for neighbors\n",
    "#Second problem: Understand the concept of breadth first search and how it can used to calculate the diameter of a BT"
   ]
  },
  {
   "cell_type": "code",
   "execution_count": 288,
   "metadata": {
    "collapsed": true
   },
   "outputs": [],
   "source": [
    "#Cool way to express an undirected Tree\n",
    "P = [-1, 0, 0, 0, 3]"
   ]
  },
  {
   "cell_type": "code",
   "execution_count": 539,
   "metadata": {
    "collapsed": true
   },
   "outputs": [],
   "source": [
    "#Convert to adj_list representation or any representaton that lets you query the neighbors\n",
    "adj_list = {}\n",
    "for idx in range(len(P)):\n",
    "    if P[idx]==-1:\n",
    "        continue\n",
    "    else:\n",
    "        if P[idx] not in adj_list.keys():\n",
    "            adj_list[P[idx]] = [idx]\n",
    "        else:\n",
    "            adj_list[P[idx]].append(idx)\n",
    "        \n",
    "        if idx not in adj_list.keys():\n",
    "            adj_list[idx] = [P[idx]]\n",
    "        else:\n",
    "            adj_list[idx].append(P[idx])"
   ]
  },
  {
   "cell_type": "code",
   "execution_count": 542,
   "metadata": {
    "collapsed": true
   },
   "outputs": [],
   "source": [
    "#Traverse the graph once from a initial node and then traverse from the farthest node relative to the initial node\n",
    "#counting the paths (counting the paths is tricky part)\n",
    "\n",
    "def bfs_traverse_nodes(adj_list, initial_node):\n",
    "\n",
    "    visited_nodes= [initial_node]\n",
    "    current_queue = [initial_node]\n",
    "    dist_from_initial_node = {initial_node:0}\n",
    "    while len(current_queue)!=0:\n",
    "\n",
    "        current_node = current_queue.pop(0) #remove from the front as it is a queue   \n",
    "        current_neighbors = adj_list[current_node]\n",
    "        \n",
    "        for neighbor in current_neighbors:\n",
    "            \n",
    "            if neighbor not in visited_nodes:                \n",
    "                current_queue.append(neighbor)\n",
    "                dist_from_initial_node[neighbor] = dist_from_initial_node[current_node] + 1\n",
    "                visited_nodes.append(neighbor)\n",
    "                \n",
    "    return visited_nodes, dist_from_initial_node"
   ]
  },
  {
   "cell_type": "code",
   "execution_count": 543,
   "metadata": {
    "collapsed": true
   },
   "outputs": [],
   "source": [
    "_, dist_from_initial_node = bfs_traverse_nodes(adj_list, 0)"
   ]
  },
  {
   "cell_type": "code",
   "execution_count": 544,
   "metadata": {
    "collapsed": true
   },
   "outputs": [],
   "source": [
    "pivot_node = {j:i for i, j in dist_from_initial_node.items()}[max(dist_from_initial_node.values())]"
   ]
  },
  {
   "cell_type": "code",
   "execution_count": 547,
   "metadata": {},
   "outputs": [
    {
     "data": {
      "text/plain": [
       "{0: 0, 1: 1, 2: 1, 3: 1, 4: 2}"
      ]
     },
     "execution_count": 547,
     "metadata": {},
     "output_type": "execute_result"
    }
   ],
   "source": [
    "dist_from_initial_node"
   ]
  },
  {
   "cell_type": "code",
   "execution_count": 549,
   "metadata": {
    "collapsed": true
   },
   "outputs": [],
   "source": [
    "_, dist_from_pivot_node = bfs_traverse_nodes(adj_list, pivot_node)"
   ]
  },
  {
   "cell_type": "code",
   "execution_count": 550,
   "metadata": {
    "collapsed": true
   },
   "outputs": [],
   "source": [
    "final_node = {j:i for i, j in dist_from_pivot_node.items()}[max(dist_from_pivot_node.values())]"
   ]
  },
  {
   "cell_type": "code",
   "execution_count": 5,
   "metadata": {
    "collapsed": true
   },
   "outputs": [],
   "source": [
    "# A class for constructing nodes in a binary tree\n",
    "class Node: \n",
    "  \n",
    "    # Constructor to create a new node \n",
    "    def __init__(self, data): \n",
    "        self.data = data  \n",
    "        self.left = None\n",
    "        self.right = None  "
   ]
  },
  {
   "cell_type": "code",
   "execution_count": 950,
   "metadata": {
    "collapsed": true
   },
   "outputs": [],
   "source": [
    "#construct a binary tree by iteratively adding nodes\n",
    "root = Node(4) \n",
    "root.left = Node(2) \n",
    "root.right = Node(5) \n",
    "root.right.right = Node(-7) \n",
    "root.left.left = Node(5) \n",
    "root.left.right = Node(3) \n",
    "root.left.right.right = Node(7)\n",
    "root.left.right.left = Node(19)"
   ]
  },
  {
   "cell_type": "code",
   "execution_count": 959,
   "metadata": {
    "collapsed": true
   },
   "outputs": [],
   "source": [
    "def in_order_t(node):\n",
    "    if node is not None:\n",
    "        in_order_t(node.left)\n",
    "        print (node.data)\n",
    "        in_order_t(node.right)\n",
    "\n",
    "def pre_order_t(node):\n",
    "    if node is not None:\n",
    "        print (node.data)\n",
    "        pre_order_t(node.left)        \n",
    "        pre_order_t(node.right)        \n",
    "        \n",
    "def post_order_t(node):\n",
    "    if node is not None:\n",
    "        \n",
    "        post_order_t(node.left)        \n",
    "        post_order_t(node.right)                \n",
    "        print (node.data)"
   ]
  },
  {
   "cell_type": "code",
   "execution_count": 962,
   "metadata": {},
   "outputs": [
    {
     "name": "stdout",
     "output_type": "stream",
     "text": [
      "5\n",
      "19\n",
      "7\n",
      "3\n",
      "2\n",
      "-7\n",
      "5\n",
      "4\n"
     ]
    }
   ],
   "source": [
    "post_order_t(root)"
   ]
  },
  {
   "cell_type": "code",
   "execution_count": null,
   "metadata": {
    "collapsed": true
   },
   "outputs": [],
   "source": [
    "'''\n",
    "Verify if a binary tree is a binary search tree\n",
    "''' \n",
    "INT_MAX = 4294967296\n",
    "INT_MIN = -4294967296\n",
    "  \n",
    "\n",
    "#Returns true if the given tree is a binary search tree \n",
    "#(efficient version) \n",
    "def isBST(node): \n",
    "    return (isBSTUtil(node, INT_MIN, INT_MAX)) \n",
    "  \n",
    "# Retusn true if the given tree is a BST and its values \n",
    "# >= min and <= max \n",
    "def isBSTUtil(node, mini, maxi): \n",
    "      \n",
    "    # An empty tree is BST \n",
    "    if node is None: \n",
    "        return True\n",
    "  \n",
    "    # False if this node violates min/max constraint \n",
    "    if node.data < mini or node.data > maxi: \n",
    "        return False\n",
    "  \n",
    "    # Otherwise check the subtrees recursively \n",
    "    # tightening the min or max constraint \n",
    "    return (isBSTUtil(node.left, mini, node.data -1) and\n",
    "          isBSTUtil(node.right, node.data+1, maxi)) "
   ]
  },
  {
   "cell_type": "code",
   "execution_count": null,
   "metadata": {
    "collapsed": true
   },
   "outputs": [],
   "source": [
    "if (isBST(root)): \n",
    "    print (\"Is BST\")\n",
    "else: \n",
    "    print (\"Not a BST\")  "
   ]
  },
  {
   "cell_type": "code",
   "execution_count": null,
   "metadata": {
    "collapsed": true
   },
   "outputs": [],
   "source": [
    "'''\n",
    "Quicksort\n",
    "\n",
    "code a quicksort algo\n",
    "\n",
    "why does quicksort start at -1?\n",
    "'''"
   ]
  },
  {
   "cell_type": "code",
   "execution_count": 575,
   "metadata": {
    "collapsed": true
   },
   "outputs": [],
   "source": [
    "def partition(arr,low,high): \n",
    "    i = ( low-1 )         # index of smaller element \n",
    "    pivot = arr[high]     # pivot \n",
    "  \n",
    "    for j in range(low , high): \n",
    "        print('j:%d, arr[j]:%d, pivot:%d, before arr:%s' % (j, arr[j], pivot, arr))\n",
    "        # If current element is smaller than the pivot \n",
    "        if   arr[j] < pivot: \n",
    "          \n",
    "            # increment index of smaller element \n",
    "            i = i+1 \n",
    "            arr[i],arr[j] = arr[j],arr[i] \n",
    "        print('j:%d, arr[j]:%d, pivot:%d, after arr:%s' % (j, arr[j], pivot, arr))\n",
    "    arr[i+1],arr[high] = arr[high],arr[i+1] \n",
    "    return ( i+1 ) \n",
    "  \n",
    "def quickSort(arr,low,high): \n",
    "    if low < high: \n",
    "  \n",
    "        # pi is partitioning index, arr[p] is now \n",
    "        # at right place \n",
    "        pi = partition(arr,low,high) \n",
    "  \n",
    "        # Separately sort elements before \n",
    "        # partition and after partition \n",
    "        quickSort(arr, low, pi-1) \n",
    "        quickSort(arr, pi+1, high) \n",
    "  "
   ]
  },
  {
   "cell_type": "code",
   "execution_count": 576,
   "metadata": {
    "collapsed": true
   },
   "outputs": [],
   "source": [
    "A=[100, -1, 203, 123,0,1,2,39, 10]"
   ]
  },
  {
   "cell_type": "code",
   "execution_count": 577,
   "metadata": {
    "scrolled": true
   },
   "outputs": [
    {
     "name": "stdout",
     "output_type": "stream",
     "text": [
      "j:0, arr[j]:100, pivot:10, before arr:[100, -1, 203, 123, 0, 1, 2, 39, 10]\n",
      "j:0, arr[j]:100, pivot:10, after arr:[100, -1, 203, 123, 0, 1, 2, 39, 10]\n",
      "j:1, arr[j]:-1, pivot:10, before arr:[100, -1, 203, 123, 0, 1, 2, 39, 10]\n",
      "j:1, arr[j]:100, pivot:10, after arr:[-1, 100, 203, 123, 0, 1, 2, 39, 10]\n",
      "j:2, arr[j]:203, pivot:10, before arr:[-1, 100, 203, 123, 0, 1, 2, 39, 10]\n",
      "j:2, arr[j]:203, pivot:10, after arr:[-1, 100, 203, 123, 0, 1, 2, 39, 10]\n",
      "j:3, arr[j]:123, pivot:10, before arr:[-1, 100, 203, 123, 0, 1, 2, 39, 10]\n",
      "j:3, arr[j]:123, pivot:10, after arr:[-1, 100, 203, 123, 0, 1, 2, 39, 10]\n",
      "j:4, arr[j]:0, pivot:10, before arr:[-1, 100, 203, 123, 0, 1, 2, 39, 10]\n",
      "j:4, arr[j]:100, pivot:10, after arr:[-1, 0, 203, 123, 100, 1, 2, 39, 10]\n",
      "j:5, arr[j]:1, pivot:10, before arr:[-1, 0, 203, 123, 100, 1, 2, 39, 10]\n",
      "j:5, arr[j]:203, pivot:10, after arr:[-1, 0, 1, 123, 100, 203, 2, 39, 10]\n",
      "j:6, arr[j]:2, pivot:10, before arr:[-1, 0, 1, 123, 100, 203, 2, 39, 10]\n",
      "j:6, arr[j]:123, pivot:10, after arr:[-1, 0, 1, 2, 100, 203, 123, 39, 10]\n",
      "j:7, arr[j]:39, pivot:10, before arr:[-1, 0, 1, 2, 100, 203, 123, 39, 10]\n",
      "j:7, arr[j]:39, pivot:10, after arr:[-1, 0, 1, 2, 100, 203, 123, 39, 10]\n",
      "j:0, arr[j]:-1, pivot:2, before arr:[-1, 0, 1, 2, 10, 203, 123, 39, 100]\n",
      "j:0, arr[j]:-1, pivot:2, after arr:[-1, 0, 1, 2, 10, 203, 123, 39, 100]\n",
      "j:1, arr[j]:0, pivot:2, before arr:[-1, 0, 1, 2, 10, 203, 123, 39, 100]\n",
      "j:1, arr[j]:0, pivot:2, after arr:[-1, 0, 1, 2, 10, 203, 123, 39, 100]\n",
      "j:2, arr[j]:1, pivot:2, before arr:[-1, 0, 1, 2, 10, 203, 123, 39, 100]\n",
      "j:2, arr[j]:1, pivot:2, after arr:[-1, 0, 1, 2, 10, 203, 123, 39, 100]\n",
      "j:0, arr[j]:-1, pivot:1, before arr:[-1, 0, 1, 2, 10, 203, 123, 39, 100]\n",
      "j:0, arr[j]:-1, pivot:1, after arr:[-1, 0, 1, 2, 10, 203, 123, 39, 100]\n",
      "j:1, arr[j]:0, pivot:1, before arr:[-1, 0, 1, 2, 10, 203, 123, 39, 100]\n",
      "j:1, arr[j]:0, pivot:1, after arr:[-1, 0, 1, 2, 10, 203, 123, 39, 100]\n",
      "j:0, arr[j]:-1, pivot:0, before arr:[-1, 0, 1, 2, 10, 203, 123, 39, 100]\n",
      "j:0, arr[j]:-1, pivot:0, after arr:[-1, 0, 1, 2, 10, 203, 123, 39, 100]\n",
      "j:5, arr[j]:203, pivot:100, before arr:[-1, 0, 1, 2, 10, 203, 123, 39, 100]\n",
      "j:5, arr[j]:203, pivot:100, after arr:[-1, 0, 1, 2, 10, 203, 123, 39, 100]\n",
      "j:6, arr[j]:123, pivot:100, before arr:[-1, 0, 1, 2, 10, 203, 123, 39, 100]\n",
      "j:6, arr[j]:123, pivot:100, after arr:[-1, 0, 1, 2, 10, 203, 123, 39, 100]\n",
      "j:7, arr[j]:39, pivot:100, before arr:[-1, 0, 1, 2, 10, 203, 123, 39, 100]\n",
      "j:7, arr[j]:203, pivot:100, after arr:[-1, 0, 1, 2, 10, 39, 123, 203, 100]\n",
      "j:7, arr[j]:203, pivot:123, before arr:[-1, 0, 1, 2, 10, 39, 100, 203, 123]\n",
      "j:7, arr[j]:203, pivot:123, after arr:[-1, 0, 1, 2, 10, 39, 100, 203, 123]\n"
     ]
    }
   ],
   "source": [
    "quickSort(A, 0, len(A)-1)"
   ]
  },
  {
   "cell_type": "code",
   "execution_count": 574,
   "metadata": {},
   "outputs": [
    {
     "data": {
      "text/plain": [
       "[-1, 0, 1, 2, 10, 39, 100, 123, 203]"
      ]
     },
     "execution_count": 574,
     "metadata": {},
     "output_type": "execute_result"
    }
   ],
   "source": [
    "A"
   ]
  },
  {
   "cell_type": "code",
   "execution_count": null,
   "metadata": {
    "collapsed": true
   },
   "outputs": [],
   "source": [
    "'''\n",
    "Find the container with the most water\n",
    "\n",
    "Given n non-negative integers a1, a2, ..., an,\n",
    "where each represents a point at coordinate (i, ai).\n",
    "'n' vertical lines are drawn such that the two endpoints of line i is at (i, ai) and (i, 0).\n",
    "\n",
    "Find two lines, which together with x-axis forms a container, such that the container contains the most water.\n",
    "\n",
    "Your program should return an integer which corresponds to the maximum area of water that can be contained \n",
    "( Yes, we know maximum area instead of maximum volume sounds weird. But this is 2D plane \n",
    "we are working with for simplicity ).\n",
    "\n",
    "\n",
    "Note: You may not slant the container. <---I guess this means you cannot have diagonal lids?\n",
    "\n",
    "Input : [1, 5, 4, 3]\n",
    "Output : 6\n",
    "\n",
    "Explanation : 5 and 3 are distance 2 apart. So size of the base = 2. Height of container = min(5, 3) = 3. \n",
    "So total area = 3 * 2 = 6\n",
    "'''"
   ]
  },
  {
   "cell_type": "code",
   "execution_count": 677,
   "metadata": {
    "collapsed": true
   },
   "outputs": [],
   "source": [
    "coords = [1, 5, 4, 3]"
   ]
  },
  {
   "cell_type": "code",
   "execution_count": 678,
   "metadata": {
    "collapsed": true
   },
   "outputs": [],
   "source": [
    "#Start with the box with the largest base size and work your way down"
   ]
  },
  {
   "cell_type": "code",
   "execution_count": 679,
   "metadata": {
    "collapsed": true
   },
   "outputs": [],
   "source": [
    "#Simple solution, enumerate through all boxes\n",
    "def enumerate_boxes(box_coords):\n",
    "    \n",
    "    '''\n",
    "    enumerate_boxes\n",
    "    \n",
    "    Go through a list considering all boxes from biggest to smallest\n",
    "    '''\n",
    "    optimal_base = None\n",
    "    optimal_height = None\n",
    "    largest_box = 0\n",
    "    for base_size in reversed(range(1, len(coords)+1, 1)): #Forgot +1?\n",
    "        #find best height\n",
    "        #Boxes are contiguous\n",
    "        print(base_size)\n",
    "        n_possible_boxes = (len(coords)//base_size) + (len(coords)%base_size)\n",
    "        for chunk in range(0, n_possible_boxes, 1):\n",
    "            base_coords = coords[chunk:chunk+base_size]\n",
    "            print(base_coords)\n",
    "            #can't have a slanted top, so we have to choose the minimum height\n",
    "            #Can't take values in between otherwise that doesn't form a box\n",
    "            best_height = min(base_coords[0], base_coords[-1]) \n",
    "            best_area = best_height*(base_size-1) #Need negative since the base has to begin from the position\n",
    "            if best_area>largest_box: \n",
    "                largest_box=best_area\n",
    "                optimal_height = best_height\n",
    "                optimal_base = base_coords\n",
    "    \n",
    "    return [largest_box, optimal_height, optimal_base]"
   ]
  },
  {
   "cell_type": "code",
   "execution_count": 680,
   "metadata": {},
   "outputs": [
    {
     "name": "stdout",
     "output_type": "stream",
     "text": [
      "4\n",
      "[1, 5, 4, 3]\n",
      "3\n",
      "[1, 5, 4]\n",
      "[5, 4, 3]\n",
      "2\n",
      "[1, 5]\n",
      "[5, 4]\n",
      "1\n",
      "[1]\n",
      "[5]\n",
      "[4]\n",
      "[3]\n"
     ]
    },
    {
     "data": {
      "text/plain": [
       "[6, 3, [5, 4, 3]]"
      ]
     },
     "execution_count": 680,
     "metadata": {},
     "output_type": "execute_result"
    }
   ],
   "source": [
    "enumerate_boxes(coords)"
   ]
  },
  {
   "cell_type": "code",
   "execution_count": 663,
   "metadata": {
    "collapsed": true
   },
   "outputs": [],
   "source": [
    "#How can we optimize?\n",
    "#Notice after finishing one box, the best sub-box has the wall height of the maximum of the two current walls\n",
    "#with a intermediate wall of at least the height of the taller of the two current walls"
   ]
  },
  {
   "cell_type": "code",
   "execution_count": 664,
   "metadata": {
    "collapsed": true
   },
   "outputs": [],
   "source": [
    "left_wall = 0\n",
    "right_wall = len(coords)-1\n",
    "best_box = 0"
   ]
  },
  {
   "cell_type": "code",
   "execution_count": 665,
   "metadata": {
    "collapsed": true
   },
   "outputs": [],
   "source": [
    "while (left_wall<right_wall): #Box has to be atleast width 1\n",
    "    \n",
    "    current_height = min(coords[left_wall], coords[right_wall])\n",
    "    current_width = right_wall-left_wall\n",
    "    current_area = current_height*current_width\n",
    "    if current_area>best_box: best_box=current_area\n",
    "    \n",
    "    #if the left wall is lower then the right wall, no point in searching to the left\n",
    "    \n",
    "    if left_wall<right_wall:\n",
    "        left_wall+=1\n",
    "    else:\n",
    "        right_wall-=1\n",
    "    "
   ]
  },
  {
   "cell_type": "code",
   "execution_count": 799,
   "metadata": {},
   "outputs": [
    {
     "data": {
      "text/plain": [
       "'\\nYou are given two linked lists representing two non-negative numbers. \\nThe digits are stored in reverse order and each of their nodes contain a single digit. \\nAdd the two numbers and return it as a linked list.\\n\\nInput: (2 -> 4 -> 3) + (5 -> 6 -> 4)\\nOutput: 7 -> 0 -> 8\\n\\n    342 + 465 = 807\\n\\nMake sure there are no trailing zeros in the output list\\nSo, 7 -> 0 -> 8 -> 0 is not a valid response even though the value is still 807.\\n'"
      ]
     },
     "execution_count": 799,
     "metadata": {},
     "output_type": "execute_result"
    }
   ],
   "source": [
    "'''\n",
    "You are given two linked lists representing two non-negative numbers. \n",
    "The digits are stored in reverse order and each of their nodes contain a single digit. \n",
    "Add the two numbers and return it as a linked list.\n",
    "\n",
    "Input: (2 -> 4 -> 3) + (5 -> 6 -> 4)\n",
    "Output: 7 -> 0 -> 8\n",
    "\n",
    "    342 + 465 = 807\n",
    "\n",
    "Make sure there are no trailing zeros in the output list\n",
    "So, 7 -> 0 -> 8 -> 0 is not a valid response even though the value is still 807.\n",
    "'''"
   ]
  },
  {
   "cell_type": "code",
   "execution_count": null,
   "metadata": {
    "collapsed": true
   },
   "outputs": [],
   "source": [
    "#essence of a linked list is that it can only be traversed one way"
   ]
  },
  {
   "cell_type": "code",
   "execution_count": 800,
   "metadata": {
    "collapsed": true
   },
   "outputs": [],
   "source": [
    "a = [2, 4, 3]\n",
    "b = [5, 6, 4]"
   ]
  },
  {
   "cell_type": "code",
   "execution_count": 4,
   "metadata": {
    "collapsed": true
   },
   "outputs": [],
   "source": [
    "class Node(object):\n",
    "    def __init__(self):\n",
    "        self.data = None # contains the data\n",
    "        self.next = None # contains the reference to the next node"
   ]
  },
  {
   "cell_type": "code",
   "execution_count": 914,
   "metadata": {
    "collapsed": true
   },
   "outputs": [],
   "source": [
    "class LinkedList:\n",
    "    def __init__(self):\n",
    "        self.cur_node = None\n",
    "\n",
    "    def add_node(self, data):\n",
    "        new_node = Node() # create a new node\n",
    "        new_node.data = data\n",
    "        new_node.next = self.cur_node # link the new node to the 'previous' node.\n",
    "        self.cur_node = new_node #  set the current node to the new one.\n",
    "\n",
    "    def list_print(self):\n",
    "        node = self.cur_node # cant point to ll!\n",
    "        while node:\n",
    "            print (node.data)\n",
    "            node = node.next"
   ]
  },
  {
   "cell_type": "code",
   "execution_count": 934,
   "metadata": {},
   "outputs": [
    {
     "data": {
      "text/plain": [
       "6107"
      ]
     },
     "execution_count": 934,
     "metadata": {},
     "output_type": "execute_result"
    }
   ],
   "source": [
    "642+5465"
   ]
  },
  {
   "cell_type": "code",
   "execution_count": 929,
   "metadata": {
    "collapsed": true
   },
   "outputs": [],
   "source": [
    "a = LinkedList()\n",
    "a.add_node(6)\n",
    "a.add_node(4)\n",
    "a.add_node(2)\n",
    "\n",
    "b = LinkedList()\n",
    "b.add_node(5)\n",
    "b.add_node(4)\n",
    "b.add_node(6)\n",
    "b.add_node(5)\n",
    "\n",
    "c = LinkedList()"
   ]
  },
  {
   "cell_type": "code",
   "execution_count": 930,
   "metadata": {
    "collapsed": true
   },
   "outputs": [],
   "source": [
    "#Can we assume the two nodes are the same length?"
   ]
  },
  {
   "cell_type": "code",
   "execution_count": 931,
   "metadata": {
    "collapsed": true
   },
   "outputs": [],
   "source": [
    "def add_linked_lists():\n",
    "    remainder = 0 \n",
    "    current_a = a.cur_node\n",
    "    current_b = b.cur_node    \n",
    "\n",
    "    queue = []\n",
    "    while True:\n",
    "        if current_a is None:        \n",
    "            current_sum = current_b.data\n",
    "        elif current_b is None:        \n",
    "            current_sum = current.a.data\n",
    "        else:        \n",
    "            current_sum = current_a.data + current_b.data\n",
    "\n",
    "        if current_sum<10:        \n",
    "            queue.append(current_sum+remainder)\n",
    "            remainder = 0  \n",
    "        else:#Largest value is 9+9=18        \n",
    "            queue.append(current_sum%10+remainder)\n",
    "            remainder = 1\n",
    "\n",
    "        if current_a is None:        \n",
    "            current_b=current_b.next\n",
    "        elif current_b is None:        \n",
    "            current_a=current_a.next\n",
    "        else:        \n",
    "            current_b=current_b.next\n",
    "            current_a=current_a.next    \n",
    "\n",
    "        if current_a is None and current_b is None:break\n",
    "\n",
    "    while queue:\n",
    "        c.add_node(queue.pop())"
   ]
  },
  {
   "cell_type": "code",
   "execution_count": 936,
   "metadata": {},
   "outputs": [
    {
     "data": {
      "text/plain": [
       "'\\nFind the intersection of two sorted arrays.\\nOR in other words,\\nGiven 2 sorted arrays, find all the elements which occur in both the arrays.\\n\\nExample :\\n\\nInput : \\n    A : [1 2 3 3 4 5 6]\\n    B : [3 3 5]\\n\\nOutput : [3 3 5]\\n\\nInput : \\n    A : [1 2 3 3 4 5 6]\\n    B : [3 5]\\n\\nOutput : [3 5]\\n'"
      ]
     },
     "execution_count": 936,
     "metadata": {},
     "output_type": "execute_result"
    }
   ],
   "source": [
    "'''\n",
    "Find the intersection of two sorted arrays.\n",
    "OR in other words,\n",
    "Given 2 sorted arrays, find all the elements which occur in both the arrays.\n",
    "\n",
    "Example :\n",
    "\n",
    "Input : \n",
    "    A : [1 2 3 3 4 5 6]\n",
    "    B : [3 3 5]\n",
    "\n",
    "Output : [3 3 5]\n",
    "\n",
    "Input : \n",
    "    A : [1 2 3 3 4 5 6]\n",
    "    B : [3 5]\n",
    "\n",
    "Output : [3 5]\n",
    "'''"
   ]
  },
  {
   "cell_type": "code",
   "execution_count": null,
   "metadata": {
    "collapsed": true
   },
   "outputs": [],
   "source": [
    "#Bidirectional Search\n",
    "#Implement a bidirectional search"
   ]
  },
  {
   "cell_type": "code",
   "execution_count": null,
   "metadata": {
    "collapsed": true
   },
   "outputs": [],
   "source": [
    "'''\n",
    "Given a sorted list of unique integers, construct a binary search tree with minimal height\n",
    "I think there is actually only one such tree thus it is unique\n",
    "'''"
   ]
  },
  {
   "cell_type": "code",
   "execution_count": 983,
   "metadata": {
    "collapsed": true
   },
   "outputs": [],
   "source": [
    "a = [-7, -1, 0, 2, 10, 15, 16]"
   ]
  },
  {
   "cell_type": "code",
   "execution_count": 995,
   "metadata": {
    "collapsed": true
   },
   "outputs": [],
   "source": [
    "def min_tree(a):\n",
    "    \n",
    "    if len(a)==1: return Node(a[0])\n",
    "    elif len(a)==0: return Node(None)\n",
    "    \n",
    "    else:\n",
    "        mid_point = len(a)//2\n",
    "        data = a[mid_point]\n",
    "        left_a = a[:mid_point]\n",
    "        right_a = a[mid_point+1:]\n",
    "        root = Node(data)\n",
    "        \n",
    "        root.left = min_tree(left_a)\n",
    "        root.right = min_tree(right_a)\n",
    "        \n",
    "        return root        "
   ]
  },
  {
   "cell_type": "code",
   "execution_count": 996,
   "metadata": {
    "collapsed": true
   },
   "outputs": [],
   "source": [
    "tree = min_tree(a)"
   ]
  },
  {
   "cell_type": "code",
   "execution_count": 997,
   "metadata": {},
   "outputs": [
    {
     "name": "stdout",
     "output_type": "stream",
     "text": [
      "-7\n",
      "-1\n",
      "0\n",
      "2\n",
      "10\n",
      "15\n",
      "16\n"
     ]
    }
   ],
   "source": [
    "in_order_t(tree)"
   ]
  },
  {
   "cell_type": "code",
   "execution_count": 999,
   "metadata": {},
   "outputs": [
    {
     "data": {
      "text/plain": [
       "'\\nGiven a binary tree write a algorithm that checks if it is balanced \\nBalanced means that the left and right subbranches of any node does not differ by more then\\n1 in height.\\n'"
      ]
     },
     "execution_count": 999,
     "metadata": {},
     "output_type": "execute_result"
    }
   ],
   "source": [
    "'''\n",
    "Given a binary tree write a algorithm that checks if it is balanced \n",
    "Balanced means that the left and right subbranches of any node does not differ by more then\n",
    "1 in height.\n",
    "'''"
   ]
  },
  {
   "cell_type": "code",
   "execution_count": 3,
   "metadata": {},
   "outputs": [
    {
     "ename": "NameError",
     "evalue": "name 'Node' is not defined",
     "output_type": "error",
     "traceback": [
      "\u001b[1;31m---------------------------------------------------------------------------\u001b[0m",
      "\u001b[1;31mNameError\u001b[0m                                 Traceback (most recent call last)",
      "\u001b[1;32m<ipython-input-3-afc0470d2389>\u001b[0m in \u001b[0;36m<module>\u001b[1;34m()\u001b[0m\n\u001b[0;32m      1\u001b[0m \u001b[1;31m#Sample tree\u001b[0m\u001b[1;33m\u001b[0m\u001b[1;33m\u001b[0m\u001b[0m\n\u001b[1;32m----> 2\u001b[1;33m \u001b[0mroot\u001b[0m \u001b[1;33m=\u001b[0m \u001b[0mNode\u001b[0m\u001b[1;33m(\u001b[0m\u001b[1;36m1\u001b[0m\u001b[1;33m)\u001b[0m\u001b[1;33m\u001b[0m\u001b[0m\n\u001b[0m\u001b[0;32m      3\u001b[0m \u001b[0mroot\u001b[0m\u001b[1;33m.\u001b[0m\u001b[0mleft\u001b[0m \u001b[1;33m=\u001b[0m \u001b[0mNode\u001b[0m\u001b[1;33m(\u001b[0m\u001b[1;36m2\u001b[0m\u001b[1;33m)\u001b[0m\u001b[1;33m\u001b[0m\u001b[0m\n\u001b[0;32m      4\u001b[0m \u001b[0mroot\u001b[0m\u001b[1;33m.\u001b[0m\u001b[0mright\u001b[0m \u001b[1;33m=\u001b[0m \u001b[0mNode\u001b[0m\u001b[1;33m(\u001b[0m\u001b[1;36m3\u001b[0m\u001b[1;33m)\u001b[0m\u001b[1;33m\u001b[0m\u001b[0m\n\u001b[0;32m      5\u001b[0m \u001b[0mroot\u001b[0m\u001b[1;33m.\u001b[0m\u001b[0mleft\u001b[0m\u001b[1;33m.\u001b[0m\u001b[0mleft\u001b[0m \u001b[1;33m=\u001b[0m \u001b[0mNode\u001b[0m\u001b[1;33m(\u001b[0m\u001b[1;36m4\u001b[0m\u001b[1;33m)\u001b[0m\u001b[1;33m\u001b[0m\u001b[0m\n",
      "\u001b[1;31mNameError\u001b[0m: name 'Node' is not defined"
     ]
    }
   ],
   "source": [
    "#Sample tree\n",
    "root = Node(1) \n",
    "root.left = Node(2) \n",
    "root.right = Node(3) \n",
    "root.left.left = Node(4) \n",
    "root.left.right = Node(5) \n",
    "root.right.left = Node(6) \n",
    "root.left.left.left = Node(7)\n",
    "root.left.left.left.left = Node(7)"
   ]
  },
  {
   "cell_type": "code",
   "execution_count": 1002,
   "metadata": {
    "collapsed": true
   },
   "outputs": [],
   "source": [
    "# utility class to pass height object \n",
    "class Height: \n",
    "    def __init__(self): \n",
    "        self.height = 0\n",
    "  \n",
    "# helper function to check if binary \n",
    "# tree is height balanced \n",
    "def isBalanced(root, height): \n",
    "      \n",
    "    # lh and rh to store height of  \n",
    "    # left and right subtree \n",
    "    lh = Height() \n",
    "    rh = Height() \n",
    "  \n",
    "    # Base condition when tree is  \n",
    "    # empty return true \n",
    "    if root is None: \n",
    "        return True\n",
    "  \n",
    "    # l and r are used to check if left \n",
    "    # and right subtree are balanced \n",
    "    l = isBalanced(root.left, lh) \n",
    "    r = isBalanced(root.right, rh) \n",
    "  \n",
    "    # height of tree is maximum of  \n",
    "    # left subtree height and \n",
    "    # right subtree height plus 1 \n",
    "    height.height = max(lh.height, rh.height) + 1\n",
    "  \n",
    "    if abs(lh.height - rh.height) <= 1: \n",
    "        return l and r \n",
    "  \n",
    "    # if we reach here then the tree  \n",
    "    # is not balanced \n",
    "    return False  "
   ]
  },
  {
   "cell_type": "code",
   "execution_count": 1007,
   "metadata": {
    "collapsed": true
   },
   "outputs": [],
   "source": [
    "height = Height()"
   ]
  },
  {
   "cell_type": "code",
   "execution_count": 1008,
   "metadata": {},
   "outputs": [
    {
     "data": {
      "text/plain": [
       "False"
      ]
     },
     "execution_count": 1008,
     "metadata": {},
     "output_type": "execute_result"
    }
   ],
   "source": [
    "isBalanced(root, height)"
   ]
  },
  {
   "cell_type": "code",
   "execution_count": 1123,
   "metadata": {
    "collapsed": true
   },
   "outputs": [],
   "source": [
    "#Sample tree\n",
    "root = Node(3) \n",
    "root.left = Node(4) \n",
    "root.right = Node(5) \n",
    "root.left.left = Node(7) \n",
    "root.left.left.left = Node(-1)\n",
    "root.left.left.right = Node(9)\n",
    "root.left.left.right.left = Node(12)\n",
    "root.left.left.right.right = Node(13)"
   ]
  },
  {
   "cell_type": "code",
   "execution_count": 1124,
   "metadata": {},
   "outputs": [
    {
     "data": {
      "text/plain": [
       "'\\nCommon ancestor\\n\\nGiven two nodes find the first common ancestor of them both.\\n\\nInsight: If the two nodes are in different subtrees then the current node is the best common ancestor\\notherwise there is a even more \"common\" common ancestor\\n'"
      ]
     },
     "execution_count": 1124,
     "metadata": {},
     "output_type": "execute_result"
    }
   ],
   "source": [
    "'''\n",
    "Common ancestor\n",
    "\n",
    "Given two nodes find the first common ancestor of them both.\n",
    "\n",
    "Insight: If the two nodes are in different subtrees then the current node is the best common ancestor\n",
    "otherwise there is a even more \"common\" common ancestor\n",
    "'''"
   ]
  },
  {
   "cell_type": "code",
   "execution_count": 1125,
   "metadata": {
    "collapsed": true
   },
   "outputs": [],
   "source": [
    "#Let A be the two nodes"
   ]
  },
  {
   "cell_type": "code",
   "execution_count": 1249,
   "metadata": {
    "collapsed": true
   },
   "outputs": [],
   "source": [
    "def check_node(root, n):\n",
    "    \n",
    "    '''\n",
    "    check if a node exists from the a given root \n",
    "    based on the value of the node\n",
    "    '''\n",
    "    \n",
    "    \n",
    "    if root is None: return False    \n",
    "    if root.data == n: return True\n",
    "    check_left=check_node(root.left, n) #in order to return the result this has to equal something\n",
    "    \n",
    "    check_right=check_node(root.right, n)\n",
    "    \n",
    "    return max(check_left, check_right)"
   ]
  },
  {
   "cell_type": "code",
   "execution_count": 1263,
   "metadata": {
    "collapsed": true
   },
   "outputs": [],
   "source": [
    "#The key is recognizing if they two nodes are on opposite sides, then the current root is the\n",
    "#lowest common ancestor\n",
    "def best_ancestor(root, n1, n2):\n",
    "    '''\n",
    "    We will assume both nodes definitely exist in the tree\n",
    "    and there are no duplicate nodes\n",
    "    '''    \n",
    "    \n",
    "    if root is None: return None\n",
    "    \n",
    "    #This is what you are missing\n",
    "    if root.data == n1:return n1\n",
    "    if root.data == n2:return n2\n",
    "    \n",
    "    check_left_n1 = check_node(root.left, n1)\n",
    "    check_left_n2 = check_node(root.left, n2) \n",
    "    \n",
    "    #if n1 is on the left and n2 is not on the left, that means n2 is on the right\n",
    "    #therefore the current root is the lowest common ancestor\n",
    "    \n",
    "    if check_left_n1!=check_left_n2:\n",
    "        return root.data\n",
    "    \n",
    "    #Otherwise there is a lower common ancestor further down either the right or the left\n",
    "    print (check_left_n1, check_left_n2, root.data)\n",
    "    #If both n1 and n2 are on the left, then search left\n",
    "    if check_left_n1==check_left_n2==True:\n",
    "        result = best_ancestor(root.left, n1, n2)\n",
    "    else:\n",
    "        result = best_ancestor(root.right, n1, n2)        \n",
    "    \n",
    "    return result"
   ]
  },
  {
   "cell_type": "code",
   "execution_count": 1262,
   "metadata": {},
   "outputs": [
    {
     "name": "stdout",
     "output_type": "stream",
     "text": [
      "True True 3\n",
      "True True 4\n",
      "False False 7\n"
     ]
    },
    {
     "data": {
      "text/plain": [
       "9"
      ]
     },
     "execution_count": 1262,
     "metadata": {},
     "output_type": "execute_result"
    }
   ],
   "source": [
    "best_ancestor(root, 9, 13)"
   ]
  },
  {
   "cell_type": "code",
   "execution_count": 1162,
   "metadata": {
    "collapsed": true
   },
   "outputs": [],
   "source": [
    "#Sample tree\n",
    "root = Node(3) \n",
    "root.left = Node(4) \n",
    "root.right = Node(5) \n",
    "root.left.left = Node(7) \n",
    "root.left.left.left = Node(-1)\n",
    "root.left.left.right = Node(9)\n",
    "root.left.left.right.left = Node(12)\n",
    "root.left.left.right.right = Node(13)"
   ]
  },
  {
   "cell_type": "code",
   "execution_count": 1218,
   "metadata": {
    "collapsed": true
   },
   "outputs": [],
   "source": [
    "#you can't terminate the recursion early, but you can return the result\n"
   ]
  },
  {
   "cell_type": "code",
   "execution_count": 1219,
   "metadata": {},
   "outputs": [
    {
     "name": "stdout",
     "output_type": "stream",
     "text": [
      "3\n",
      "4\n",
      "7\n",
      "-1\n",
      "9\n",
      "12\n",
      "13\n",
      "5\n"
     ]
    },
    {
     "data": {
      "text/plain": [
       "True"
      ]
     },
     "execution_count": 1219,
     "metadata": {},
     "output_type": "execute_result"
    }
   ],
   "source": [
    "check_node(root, -1)"
   ]
  },
  {
   "cell_type": "code",
   "execution_count": 31,
   "metadata": {
    "collapsed": true
   },
   "outputs": [],
   "source": [
    "#Found every path in a binary tree\n",
    "root = Node(2)\n",
    "root.left = Node(3)\n",
    "root.left.left = Node(4)\n",
    "root.left.left.left = Node(-3)\n",
    "root.left.right = Node(-1)\n",
    "root.left.right.left = Node(5)\n",
    "root.left.right.left.left = Node(7)\n",
    "root.right = Node(4)\n",
    "root.right.left = Node(-1)\n",
    "root.right.left.left = Node(1)\n",
    "root.right.right = Node(0)"
   ]
  },
  {
   "cell_type": "code",
   "execution_count": 32,
   "metadata": {
    "collapsed": true
   },
   "outputs": [],
   "source": [
    " \n",
    "# Helper function to print path from root  \n",
    "# to leaf in binary tree \n",
    "def printPathsRec(root, path, pathLen): \n",
    "      \n",
    "    # Base condition - if binary tree is \n",
    "    # empty return \n",
    "    if root is None: \n",
    "        return\n",
    "  \n",
    "    # add current root's data into  \n",
    "    # path_ar list \n",
    "    print ('current root', root.data)\n",
    "    # if length of list is gre \n",
    "    if(len(path) > pathLen):  \n",
    "        print ('before here1', path, pathLen)\n",
    "        path[pathLen] = root.data \n",
    "        print ('after here1', path, pathLen)\n",
    "    else: \n",
    "        print ('before here2', path, pathLen)\n",
    "        path.append(root.data) \n",
    "        print ('after here2', path, pathLen)\n",
    "  \n",
    "    # increment pathLen by 1 \n",
    "    pathLen = pathLen + 1\n",
    "    print ('path length after:' , pathLen)\n",
    "    if root.left is None and root.right is None: \n",
    "          \n",
    "        # leaf node then print the list \n",
    "        printArray(path, pathLen) \n",
    "    else: \n",
    "        # try for left and right subtree \n",
    "        printPathsRec(root.left, path, pathLen) \n",
    "        printPathsRec(root.right, path, pathLen) \n",
    "    print ('end of code', path, pathLen)\n",
    "# Helper function to print list in which  \n",
    "# root-to-leaf path is stored \n",
    "def printArray(ints, len): \n",
    "    for i in ints[0 : len]: \n",
    "        print(i,\" \",end=\"\") \n",
    "    print() "
   ]
  },
  {
   "cell_type": "code",
   "execution_count": 33,
   "metadata": {
    "scrolled": true
   },
   "outputs": [
    {
     "name": "stdout",
     "output_type": "stream",
     "text": [
      "current root 2\n",
      "before here2 [] 0\n",
      "after here2 [2] 0\n",
      "path length after: 1\n",
      "current root 3\n",
      "before here2 [2] 1\n",
      "after here2 [2, 3] 1\n",
      "path length after: 2\n",
      "current root 4\n",
      "before here2 [2, 3] 2\n",
      "after here2 [2, 3, 4] 2\n",
      "path length after: 3\n",
      "current root -3\n",
      "before here2 [2, 3, 4] 3\n",
      "after here2 [2, 3, 4, -3] 3\n",
      "path length after: 4\n",
      "2  3  4  -3  \n",
      "end of code [2, 3, 4, -3] 4\n",
      "end of code [2, 3, 4, -3] 3\n",
      "current root -1\n",
      "before here1 [2, 3, 4, -3] 2\n",
      "after here1 [2, 3, -1, -3] 2\n",
      "path length after: 3\n",
      "current root 5\n",
      "before here1 [2, 3, -1, -3] 3\n",
      "after here1 [2, 3, -1, 5] 3\n",
      "path length after: 4\n",
      "current root 7\n",
      "before here2 [2, 3, -1, 5] 4\n",
      "after here2 [2, 3, -1, 5, 7] 4\n",
      "path length after: 5\n",
      "2  3  -1  5  7  \n",
      "end of code [2, 3, -1, 5, 7] 5\n",
      "end of code [2, 3, -1, 5, 7] 4\n",
      "end of code [2, 3, -1, 5, 7] 3\n",
      "end of code [2, 3, -1, 5, 7] 2\n",
      "current root 4\n",
      "before here1 [2, 3, -1, 5, 7] 1\n",
      "after here1 [2, 4, -1, 5, 7] 1\n",
      "path length after: 2\n",
      "current root -1\n",
      "before here1 [2, 4, -1, 5, 7] 2\n",
      "after here1 [2, 4, -1, 5, 7] 2\n",
      "path length after: 3\n",
      "current root 1\n",
      "before here1 [2, 4, -1, 5, 7] 3\n",
      "after here1 [2, 4, -1, 1, 7] 3\n",
      "path length after: 4\n",
      "2  4  -1  1  \n",
      "end of code [2, 4, -1, 1, 7] 4\n",
      "end of code [2, 4, -1, 1, 7] 3\n",
      "current root 0\n",
      "before here1 [2, 4, -1, 1, 7] 2\n",
      "after here1 [2, 4, 0, 1, 7] 2\n",
      "path length after: 3\n",
      "2  4  0  \n",
      "end of code [2, 4, 0, 1, 7] 3\n",
      "end of code [2, 4, 0, 1, 7] 2\n",
      "end of code [2, 4, 0, 1, 7] 1\n"
     ]
    }
   ],
   "source": [
    "printPathsRec(root, [], 0) "
   ]
  },
  {
   "cell_type": "code",
   "execution_count": null,
   "metadata": {
    "collapsed": true
   },
   "outputs": [],
   "source": [
    "#print all k sum paths in a binary tree, descending only"
   ]
  },
  {
   "cell_type": "code",
   "execution_count": 35,
   "metadata": {
    "collapsed": true
   },
   "outputs": [],
   "source": [
    "def printVector(v, i):  \n",
    "    for j in range(i, len(v)): \n",
    "        print(v[j], end = \" \") \n",
    "    print() \n",
    "\n",
    "# A wrapper over printKPathUtil()  \n",
    "def printKPath(root, k): \n",
    "  \n",
    "    path =[] \n",
    "    printKPathUtil(root, path, k)  "
   ]
  },
  {
   "cell_type": "code",
   "execution_count": 43,
   "metadata": {
    "collapsed": true
   },
   "outputs": [],
   "source": [
    "# This function prints all paths  \n",
    "# that have sum k  \n",
    "def printKPathUtil(root, path, k):  \n",
    "  \n",
    "    # empty node  \n",
    "    if (not root) : \n",
    "        return\n",
    "    print ('root:',root.data)\n",
    "    # add current node to the path  \n",
    "    path.append(root.data)  \n",
    "   \n",
    "    # check if there's any k sum path  \n",
    "    # in the left sub-tree.  \n",
    "    printKPathUtil(root.left, path, k)  \n",
    "  \n",
    "    # check if there's any k sum path  \n",
    "    # in the right sub-tree.  \n",
    "    printKPathUtil(root.right, path, k)  \n",
    "    print (path, 'root:',root.data)\n",
    "\n",
    "    # check if there's any k sum path that  \n",
    "    # terminates at this node  \n",
    "    # Traverse the entire path as  \n",
    "    # there can be negative elements too  \n",
    "    f = 0\n",
    "    for j in range(len(path) - 1, -1, -1):      \n",
    "        f += path[j]  \n",
    "  \n",
    "        # If path sum is k, print the path  \n",
    "        if (f == k) : \n",
    "            printVector(path, j)  \n",
    "      \n",
    "    # Remove the current element  \n",
    "    # from the path  \n",
    "    path.pop(-1)    "
   ]
  },
  {
   "cell_type": "code",
   "execution_count": 44,
   "metadata": {
    "collapsed": true
   },
   "outputs": [],
   "source": [
    "root = Node(1)  \n",
    "root.left = Node(3)  \n",
    "root.left.left = Node(2)  \n",
    "root.left.right = Node(1)  \n",
    "root.left.right.left = Node(1)  \n",
    "root.right = Node(-1)  \n",
    "root.right.left = Node(4)  \n",
    "root.right.left.left = Node(1)  \n",
    "root.right.left.right = Node(2)  \n",
    "root.right.right = Node(5)  \n",
    "root.right.right.right = Node(2)  "
   ]
  },
  {
   "cell_type": "code",
   "execution_count": 45,
   "metadata": {},
   "outputs": [
    {
     "name": "stdout",
     "output_type": "stream",
     "text": [
      "root: 1\n",
      "root: 3\n",
      "root: 2\n",
      "[1, 3, 2] root: 2\n",
      "3 2 \n",
      "root: 1\n",
      "root: 1\n",
      "[1, 3, 1, 1] root: 1\n",
      "3 1 1 \n",
      "[1, 3, 1] root: 1\n",
      "1 3 1 \n",
      "[1, 3] root: 3\n",
      "root: -1\n",
      "root: 4\n",
      "root: 1\n",
      "[1, -1, 4, 1] root: 1\n",
      "4 1 \n",
      "1 -1 4 1 \n",
      "root: 2\n",
      "[1, -1, 4, 2] root: 2\n",
      "-1 4 2 \n",
      "[1, -1, 4] root: 4\n",
      "root: 5\n",
      "root: 2\n",
      "[1, -1, 5, 2] root: 2\n",
      "[1, -1, 5] root: 5\n",
      "5 \n",
      "1 -1 5 \n",
      "[1, -1] root: -1\n",
      "[1] root: 1\n"
     ]
    }
   ],
   "source": [
    "k = 5\n",
    "printKPath(root, k) "
   ]
  },
  {
   "cell_type": "code",
   "execution_count": 47,
   "metadata": {
    "collapsed": true
   },
   "outputs": [],
   "source": [
    "q = {(2,3 ):1, ('a', 'b'):10}"
   ]
  },
  {
   "cell_type": "code",
   "execution_count": 48,
   "metadata": {},
   "outputs": [
    {
     "data": {
      "text/plain": [
       "1"
      ]
     },
     "execution_count": 48,
     "metadata": {},
     "output_type": "execute_result"
    }
   ],
   "source": [
    "q[(2,3)]"
   ]
  },
  {
   "cell_type": "code",
   "execution_count": 50,
   "metadata": {},
   "outputs": [
    {
     "data": {
      "text/plain": [
       "'\\nList the power set of set S \\n'"
      ]
     },
     "execution_count": 50,
     "metadata": {},
     "output_type": "execute_result"
    }
   ],
   "source": [
    "'''\n",
    "List the power set of set S \n",
    "'''"
   ]
  },
  {
   "cell_type": "code",
   "execution_count": 144,
   "metadata": {
    "collapsed": true
   },
   "outputs": [],
   "source": [
    "s=set(['a', 'b', 'c', 'd'])"
   ]
  },
  {
   "cell_type": "code",
   "execution_count": 163,
   "metadata": {
    "collapsed": true
   },
   "outputs": [],
   "source": [
    "q = set(['a', ('a', 'b')])"
   ]
  },
  {
   "cell_type": "code",
   "execution_count": 164,
   "metadata": {},
   "outputs": [
    {
     "data": {
      "text/plain": [
       "{'a', ('a', 'b')}"
      ]
     },
     "execution_count": 164,
     "metadata": {},
     "output_type": "execute_result"
    }
   ],
   "source": [
    "#mechanics of sets doesn't let you do this nicely\n",
    "#maybe just do it with lists?"
   ]
  },
  {
   "cell_type": "code",
   "execution_count": 182,
   "metadata": {},
   "outputs": [
    {
     "data": {
      "text/plain": [
       "['b', 'c']"
      ]
     },
     "execution_count": 182,
     "metadata": {},
     "output_type": "execute_result"
    }
   ],
   "source": [
    "s.remove"
   ]
  },
  {
   "cell_type": "code",
   "execution_count": 227,
   "metadata": {
    "collapsed": true
   },
   "outputs": [],
   "source": [
    "def power_set(s, p_set):\n",
    "    \n",
    "    if len(s)==1:\n",
    "        ele = s.pop()\n",
    "        if len(ele)==1: return p_set | set([ele])\n",
    "    \n",
    "    for element in s:\n",
    "        \n",
    "        subset = set([tuple(s - set([element]))])\n",
    "        \n",
    "        p_set = p_set | power_set(subset, p_set)\n",
    "    \n",
    "    p_set = p_set | s\n",
    "    #print(p_set)\n",
    "    return p_set"
   ]
  },
  {
   "cell_type": "code",
   "execution_count": 250,
   "metadata": {
    "collapsed": true
   },
   "outputs": [],
   "source": [
    "def powset3(seq):\n",
    "    print ('seq', seq)\n",
    "    if seq:\n",
    "        print ('if seq', seq)\n",
    "        p = powset3(seq[1:])\n",
    "        print ('p', p, seq, seq[:1])\n",
    "        t = p + [x + seq[:1] for x in p]\n",
    "        print ('t', t, seq)\n",
    "        return t\n",
    "    else:\n",
    "        print ('else', seq)\n",
    "        return [[]]"
   ]
  },
  {
   "cell_type": "code",
   "execution_count": 256,
   "metadata": {},
   "outputs": [
    {
     "name": "stdout",
     "output_type": "stream",
     "text": [
      "seq [1, 2]\n",
      "if seq [1, 2]\n",
      "seq [2]\n",
      "if seq [2]\n",
      "seq []\n",
      "else []\n",
      "p [[]] [2] [2]\n",
      "t [[], [2]] [2]\n",
      "p [[], [2]] [1, 2] [1]\n",
      "t [[], [2], [1], [2, 1]] [1, 2]\n"
     ]
    },
    {
     "data": {
      "text/plain": [
       "[[], [2], [1], [2, 1]]"
      ]
     },
     "execution_count": 256,
     "metadata": {},
     "output_type": "execute_result"
    }
   ],
   "source": [
    "powset3([1, 2])"
   ]
  },
  {
   "cell_type": "code",
   "execution_count": 259,
   "metadata": {},
   "outputs": [
    {
     "data": {
      "text/plain": [
       "'\\ntower of hanoi\\n'"
      ]
     },
     "execution_count": 259,
     "metadata": {},
     "output_type": "execute_result"
    }
   ],
   "source": [
    "'''\n",
    "tower of hanoi\n",
    "'''"
   ]
  },
  {
   "cell_type": "code",
   "execution_count": 260,
   "metadata": {
    "collapsed": true
   },
   "outputs": [],
   "source": [
    "A = [3, 2, 1]\n",
    "B = []\n",
    "C = []\n",
    "\n",
    "def move(n, source, target, auxiliary):\n",
    "    if n > 0:\n",
    "        # Move n - 1 disks from source to auxiliary, so they are out of the way\n",
    "        move(n - 1, source, auxiliary, target)\n",
    "\n",
    "        # Move the nth disk from source to target\n",
    "        target.append(source.pop())\n",
    "\n",
    "        # Display our progress\n",
    "        print(A, B, C, '##############', sep='\\n')\n",
    "\n",
    "        # Move the n - 1 disks that we left on auxiliary onto target\n",
    "        move(n - 1, auxiliary, target, source)"
   ]
  },
  {
   "cell_type": "code",
   "execution_count": 263,
   "metadata": {},
   "outputs": [
    {
     "name": "stdout",
     "output_type": "stream",
     "text": [
      "Move disk 1 from source A to destination B\n",
      "Move disk 2 from source A to destination C\n",
      "Move disk 1 from source B to destination C\n",
      "Move disk 3 from source A to destination B\n",
      "Move disk 1 from source C to destination A\n",
      "Move disk 2 from source C to destination B\n",
      "Move disk 1 from source A to destination B\n"
     ]
    }
   ],
   "source": [
    "TowerOfHanoi(3, 'A', 'B', 'C')"
   ]
  },
  {
   "cell_type": "code",
   "execution_count": 264,
   "metadata": {},
   "outputs": [
    {
     "data": {
      "text/plain": [
       "'\\nGiven n, print all valid parenthesis combinations\\n\\nexample,\\nn=3, return: ()()(), ((())), ()(()), (())(), (()())\\n'"
      ]
     },
     "execution_count": 264,
     "metadata": {},
     "output_type": "execute_result"
    }
   ],
   "source": [
    "'''\n",
    "Given n, print all valid parenthesis combinations\n",
    "\n",
    "example,\n",
    "n=3, return: ()()(), ((())), ()(()), (())(), (()())\n",
    "'''"
   ]
  },
  {
   "cell_type": "code",
   "execution_count": 291,
   "metadata": {
    "collapsed": true
   },
   "outputs": [],
   "source": [
    "#This way will fail to get '{{}}{{}}' when n=4\n",
    "#We must account for the left and right parenthesis separately\n",
    "def parenthesis(n):\n",
    "    \n",
    "    if n==0: return []\n",
    "    \n",
    "    if n==1: return ['{}']\n",
    "    \n",
    "    prior = parenthesis(n-1)\n",
    "    \n",
    "    left = ['{}' + i for i in prior]\n",
    "    \n",
    "    right = [i+'{}' for i in prior]\n",
    "\n",
    "    center = ['{' + i + '}' for i in prior]\n",
    "\n",
    "    return list(set(left+right+center))"
   ]
  },
  {
   "cell_type": "code",
   "execution_count": null,
   "metadata": {
    "collapsed": true
   },
   "outputs": [],
   "source": [
    "#This is correct\n",
    "\n",
    "def printParenthesis(str, n): \n",
    "    if(n > 0): \n",
    "        _printParenthesis(str, 0,  \n",
    "                          n, 0, 0); \n",
    "    return; \n",
    "  \n",
    "def _printParenthesis(str, pos, n,  \n",
    "                      open, close): \n",
    "      \n",
    "    if(close == n): \n",
    "        for i in str: \n",
    "            print(i, end = \"\"); \n",
    "        print(); \n",
    "        return; \n",
    "    else: \n",
    "        if(open > close): \n",
    "            str[pos] = '}'; \n",
    "            _printParenthesis(str, pos + 1, n,  \n",
    "                              open, close + 1); \n",
    "        if(open < n): \n",
    "            str[pos] = '{'; \n",
    "            _printParenthesis(str, pos + 1, n,  \n",
    "                              open + 1, close); "
   ]
  },
  {
   "cell_type": "code",
   "execution_count": null,
   "metadata": {
    "collapsed": true
   },
   "outputs": [],
   "source": [
    "'''\n",
    "Anagrams\n",
    "\n",
    "Sort a list of strings such that anagrams are adjacent.\n",
    "'''"
   ]
  },
  {
   "cell_type": "code",
   "execution_count": 2,
   "metadata": {
    "collapsed": true
   },
   "outputs": [],
   "source": [
    "import string"
   ]
  },
  {
   "cell_type": "code",
   "execution_count": 5,
   "metadata": {
    "collapsed": true
   },
   "outputs": [],
   "source": [
    "all_dict = {char:idx for idx, char in enumerate(string.ascii_lowercase)}"
   ]
  },
  {
   "cell_type": "code",
   "execution_count": 7,
   "metadata": {
    "collapsed": true
   },
   "outputs": [],
   "source": [
    "str_list = ['abcs', 'sdsa', 'absc', 'scba', 'qweqweqa', 'sdfsdfdsf', 'pop', 'ewqewqaq', 'oop', 'ppo']"
   ]
  },
  {
   "cell_type": "code",
   "execution_count": 11,
   "metadata": {},
   "outputs": [],
   "source": [
    "freq_list=[]\n",
    "for c_str in str_list:\n",
    "    current_freq = [0 for i in range(26)]\n",
    "    for char in c_str:\n",
    "        current_freq[all_dict[char]]+=1\n",
    "    freq_list.append(''.join([str(i) for i in current_freq]))"
   ]
  },
  {
   "cell_type": "code",
   "execution_count": 14,
   "metadata": {},
   "outputs": [
    {
     "data": {
      "text/plain": [
       "[('pop', '00000000000000120000000000'),\n",
       " ('ppo', '00000000000000120000000000'),\n",
       " ('oop', '00000000000000210000000000'),\n",
       " ('sdfsdfdsf', '00030300000000000030000000'),\n",
       " ('qweqweqa', '10002000000000003000002000'),\n",
       " ('ewqewqaq', '10002000000000003000002000'),\n",
       " ('sdsa', '10010000000000000020000000'),\n",
       " ('abcs', '11100000000000000010000000'),\n",
       " ('absc', '11100000000000000010000000'),\n",
       " ('scba', '11100000000000000010000000')]"
      ]
     },
     "execution_count": 14,
     "metadata": {},
     "output_type": "execute_result"
    }
   ],
   "source": [
    "sorted(zip(str_list, freq_list), key=lambda x: x[1])"
   ]
  },
  {
   "cell_type": "code",
   "execution_count": null,
   "metadata": {
    "collapsed": true
   },
   "outputs": [],
   "source": []
  }
 ],
 "metadata": {
  "kernelspec": {
   "display_name": "Python 3",
   "language": "python",
   "name": "python3"
  },
  "language_info": {
   "codemirror_mode": {
    "name": "ipython",
    "version": 3
   },
   "file_extension": ".py",
   "mimetype": "text/x-python",
   "name": "python",
   "nbconvert_exporter": "python",
   "pygments_lexer": "ipython3",
   "version": "3.6.1"
  }
 },
 "nbformat": 4,
 "nbformat_minor": 2
}
