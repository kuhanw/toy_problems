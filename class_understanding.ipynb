{
 "cells": [
  {
   "cell_type": "code",
   "execution_count": 13,
   "metadata": {
    "collapsed": true
   },
   "outputs": [],
   "source": [
    "class board():\n",
    "    def __init__(self, color):\n",
    "\n",
    "        self.center = color\n",
    "        \n",
    "        self.left = None\n",
    "        self.right = None\n",
    "        self.top = None\n",
    "        self.bottom = None"
   ]
  },
  {
   "cell_type": "code",
   "execution_count": 14,
   "metadata": {},
   "outputs": [],
   "source": [
    "t = board('white')"
   ]
  },
  {
   "cell_type": "code",
   "execution_count": 41,
   "metadata": {},
   "outputs": [],
   "source": [
    "t.left = board('black')"
   ]
  },
  {
   "cell_type": "code",
   "execution_count": 58,
   "metadata": {
    "collapsed": true
   },
   "outputs": [],
   "source": [
    "K=5"
   ]
  },
  {
   "cell_type": "code",
   "execution_count": 60,
   "metadata": {},
   "outputs": [
    {
     "data": {
      "text/plain": [
       "[0, 1, 0, 1, 0, 1]"
      ]
     },
     "execution_count": 60,
     "metadata": {},
     "output_type": "execute_result"
    }
   ],
   "source": [
    "[(i+1)%2 for i in range(1, K+2, 1)]"
   ]
  },
  {
   "cell_type": "code",
   "execution_count": 67,
   "metadata": {
    "collapsed": true
   },
   "outputs": [],
   "source": [
    "def printKMoves(K):\n",
    "    #Create A \n",
    "    A = []\n",
    "    for i in range(K+1):\n",
    "        if i%2==0:row = [i%2 for i in range(1, K+2, 1)]\n",
    "        else:row = [(i+1)%2 for i in range(1, K+2, 1)]\n",
    "        \n",
    "        A.append(row)        \n",
    "    \n",
    "    return move(A, K//2, K//2, 'r', 0, K)"
   ]
  },
  {
   "cell_type": "code",
   "execution_count": 68,
   "metadata": {},
   "outputs": [
    {
     "data": {
      "text/plain": [
       "[[1, 0, 1, 0, 1, 0, 1, 0, 1, 0, 1],\n",
       " [0, 1, 0, 1, 0, 1, 0, 1, 0, 1, 0],\n",
       " [1, 0, 1, 0, 1, 0, 1, 0, 1, 0, 1],\n",
       " [0, 1, 0, 1, 0, 1, 0, 1, 0, 1, 0],\n",
       " [1, 0, 1, 0, 1, 0, 1, 0, 1, 0, 1],\n",
       " [0, 1, 0, 1, 0, 0, 1, 1, 0, 1, 0],\n",
       " [1, 0, 1, 0, 1, 0, 0, 1, 1, 0, 1],\n",
       " [0, 1, 0, 1, 0, 1, 0, 0, 1, 1, 0],\n",
       " [1, 0, 1, 0, 1, 0, 1, 0, 0, 1, 1],\n",
       " [0, 1, 0, 1, 0, 1, 0, 1, 0, 0, 1],\n",
       " [1, 0, 1, 0, 1, 0, 1, 0, 1, 0, 0]]"
      ]
     },
     "execution_count": 68,
     "metadata": {},
     "output_type": "execute_result"
    }
   ],
   "source": [
    "printKMoves(10)"
   ]
  },
  {
   "cell_type": "code",
   "execution_count": 54,
   "metadata": {},
   "outputs": [],
   "source": [
    "A = [[1, 0, 1, 0, 1, 0, 1], \n",
    "     [0, 1, 0, 1, 0, 1, 0],\n",
    "      [1, 0, 1, 0, 1, 0, 1],\n",
    "      [0, 1, 0, 1, 0, 1, 0],\n",
    "      [1, 0, 1, 0, 1, 0, 1],\n",
    "      [0, 1, 0, 1, 0, 1, 0],\n",
    "      [1, 0, 1, 0, 1, 0, 1]]"
   ]
  },
  {
   "cell_type": "code",
   "execution_count": 55,
   "metadata": {},
   "outputs": [],
   "source": [
    "def move(A, x, y, direction, current_step, K):\n",
    "    \n",
    "    if current_step>K:\n",
    "        return None\n",
    "    \n",
    "    if A[x][y]==1:\n",
    "        A[x][y]=0\n",
    "        \n",
    "        #turn 90 degrees right and move\n",
    "        if direction=='r': move(A, x, y+1, 't', current_step+1, K)\n",
    "        if direction=='l': move(A, x, y-1, 'b', current_step+1, K)\n",
    "        if direction=='t': move(A, x-1, y, 'l', current_step+1, K)\n",
    "        if direction=='b': move(A, x+1, y, 'r', current_step+1, K)\n",
    "\n",
    "    else:\n",
    "        A[x][y]=1\n",
    "\n",
    "        #turn 90 degrees left and move\n",
    "        if direction=='r': move(A, x, y-1, 'b', current_step+1, K)\n",
    "        if direction=='l': move(A, x, y+1, 't', current_step+1, K)\n",
    "        if direction=='t': move(A, x+1, y, 'r', current_step+1, K)\n",
    "        if direction=='b': move(A, x-1, y, 'l', current_step+1, K)\n",
    "            \n",
    "    return A"
   ]
  },
  {
   "cell_type": "code",
   "execution_count": 56,
   "metadata": {},
   "outputs": [
    {
     "data": {
      "text/plain": [
       "[[1, 0, 1, 0, 1, 0, 1],\n",
       " [0, 1, 0, 1, 0, 1, 0],\n",
       " [1, 0, 1, 0, 1, 0, 1],\n",
       " [0, 1, 0, 0, 1, 1, 0],\n",
       " [1, 0, 1, 0, 0, 1, 1],\n",
       " [0, 1, 0, 1, 0, 0, 1],\n",
       " [1, 0, 1, 0, 1, 0, 0]]"
      ]
     },
     "execution_count": 56,
     "metadata": {},
     "output_type": "execute_result"
    }
   ],
   "source": [
    "move(A, 3, 3, 'r', 0, 6)"
   ]
  },
  {
   "cell_type": "code",
   "execution_count": 72,
   "metadata": {},
   "outputs": [],
   "source": [
    "dict_rand7={(0,0):0, (0,1):0, (0,2):0,\n",
    "            (0,3):1, (0,4):1, (1,0):1,\n",
    "            (1,1):2, (1,2):2, (1,3):2,\n",
    "            (1,4):3, (2,0):3, (2,1):3,\n",
    "            (2,2):4, (2,3):4, (2,4):4,\n",
    "            (3,0):5, (3,1):5, (3,2):5,\n",
    "            (3,3):6, (3,4):6, (4,0):6,}"
   ]
  },
  {
   "cell_type": "code",
   "execution_count": 73,
   "metadata": {
    "collapsed": true
   },
   "outputs": [],
   "source": [
    "import random"
   ]
  },
  {
   "cell_type": "code",
   "execution_count": 84,
   "metadata": {
    "collapsed": true
   },
   "outputs": [],
   "source": [
    "def rand7_from_rand5():\n",
    "    p0=random.randint(0,4)\n",
    "    p1=random.randint(0,4)\n",
    "    \n",
    "    while (p0, p1) not in dict_rand7.keys():\n",
    "        p0=random.randint(0,4)\n",
    "        p1=random.randint(0,4)\n",
    "    \n",
    "    return dict_rand7[(p0, p1)]"
   ]
  },
  {
   "cell_type": "code",
   "execution_count": 91,
   "metadata": {},
   "outputs": [],
   "source": [
    "random7=[]\n",
    "for i in range(1000000):\n",
    "    random7.append(rand7_from_rand5())"
   ]
  },
  {
   "cell_type": "code",
   "execution_count": 92,
   "metadata": {
    "collapsed": true
   },
   "outputs": [],
   "source": [
    "import numpy as np"
   ]
  },
  {
   "cell_type": "code",
   "execution_count": 93,
   "metadata": {},
   "outputs": [
    {
     "data": {
      "text/plain": [
       "(array([0, 1, 2, 3, 4, 5, 6]),\n",
       " array([143204, 142905, 142290, 142738, 143461, 142726, 142676],\n",
       "       dtype=int64))"
      ]
     },
     "execution_count": 93,
     "metadata": {},
     "output_type": "execute_result"
    }
   ],
   "source": [
    "np.unique(random7, return_counts=True)"
   ]
  },
  {
   "cell_type": "code",
   "execution_count": null,
   "metadata": {
    "collapsed": true
   },
   "outputs": [],
   "source": []
  }
 ],
 "metadata": {
  "kernelspec": {
   "display_name": "Python 3",
   "language": "python",
   "name": "python3"
  },
  "language_info": {
   "codemirror_mode": {
    "name": "ipython",
    "version": 3
   },
   "file_extension": ".py",
   "mimetype": "text/x-python",
   "name": "python",
   "nbconvert_exporter": "python",
   "pygments_lexer": "ipython3",
   "version": "3.6.1"
  }
 },
 "nbformat": 4,
 "nbformat_minor": 2
}
